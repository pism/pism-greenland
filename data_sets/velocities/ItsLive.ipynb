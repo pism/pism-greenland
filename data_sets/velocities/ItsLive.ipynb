{
 "cells": [
  {
   "cell_type": "code",
   "execution_count": 14,
   "metadata": {},
   "outputs": [
    {
     "data": {
      "text/html": [
       "<style>.container { width:95% !important; }</style>"
      ],
      "text/plain": [
       "<IPython.core.display.HTML object>"
      ]
     },
     "metadata": {},
     "output_type": "display_data"
    }
   ],
   "source": [
    "%matplotlib notebook\n",
    "# https://stackoverflow.com/questions/43599018/is-there-a-way-to-get-matplotlib-path-contains-points-to-be-inclusive-of-boundar\n",
    "#I do quite like this command in Jupiter notebook:\n",
    "from IPython.core.display import display, HTML\n",
    "display(HTML(\"<style>.container { width:95% !important; }</style>\"))\n",
    "#It makes things wider and not waste the space on your screen\n",
    "import pandas as pd\n",
    "import importlib\n",
    "import csv,os\n",
    "import numpy as np\n",
    "import pandas as pd\n",
    "import itertools\n",
    "import pyproj\n",
    "import shapely\n",
    "import copy\n",
    "from uafgi import gicollections,cfutil,glacier,gdalutil,shputil,ioutil,ncutil\n",
    "import uafgi.data.ns642\n",
    "import netCDF4\n",
    "import matplotlib.pyplot as plt\n",
    "import uafgi.data.wkt\n",
    "import uafgi.data.w21 as d_w21\n",
    "map_wkt = uafgi.data.wkt.nsidc_ps_north\n",
    "pd.set_option(\"display.max_rows\", 20, \"display.max_columns\", None)\n",
    "import uafgi.data.itslive as d_itslive\n",
    "from uafgi.pism import flow_simulation"
   ]
  },
  {
   "cell_type": "code",
   "execution_count": 36,
   "metadata": {},
   "outputs": [
    {
     "name": "stdout",
     "output_type": "stream",
     "text": [
      "Copying x\n",
      "Copying y\n",
      "Copying polar_stereographic\n",
      "Copying bed\n",
      "============ Running year 2011\n",
      "     ---> /Users/eafischer2/harn/pismip6/crios2pism/data_sets/velocities/tmpc2bozfsh/tmpi2134742\n",
      "ice_velocity sum: \n",
      "time0x = -15724800.0 (type <class 'numpy.float64'>)\n",
      "-182.00, dt = 100.00 (s) or 0.00 days\n",
      "time1 = -15724700.0\n",
      "Compressing PISM output to NetCDF4...\n",
      "delete_vars  {'total_retreat_rate', 'ice_area_specific_volume', 'thk', 'mask', 'flux_divergence'}\n",
      "Copying x\n",
      "Copying y\n",
      "Copying polar_stereographic\n",
      "Copying bed\n",
      "============ Running year 2012\n",
      "     ---> /Users/eafischer2/harn/pismip6/crios2pism/data_sets/velocities/tmpc2bozfsh/tmpkxe75wk_\n",
      "ice_velocity sum: \n",
      "time0x = 15811200.0 (type <class 'numpy.float64'>)\n",
      "183.00, dt = 100.00 (s) or 0.00 days\n",
      "time1 = 15811300.0\n",
      "Compressing PISM output to NetCDF4...\n",
      "delete_vars  {'total_retreat_rate', 'ice_area_specific_volume', 'thk', 'mask', 'flux_divergence'}\n",
      "Copying x\n",
      "Copying y\n",
      "Copying polar_stereographic\n",
      "Copying bed\n",
      "============ Running year 2013\n",
      "     ---> /Users/eafischer2/harn/pismip6/crios2pism/data_sets/velocities/tmpc2bozfsh/tmpkkyfr7m9\n",
      "ice_velocity sum: \n",
      "time0x = 47433600.0 (type <class 'numpy.float64'>)\n",
      "549.00, dt = 100.00 (s) or 0.00 days\n",
      "time1 = 47433700.0\n",
      "Compressing PISM output to NetCDF4...\n",
      "delete_vars  {'total_retreat_rate', 'ice_area_specific_volume', 'thk', 'mask', 'flux_divergence'}\n",
      "Copying x\n",
      "Copying y\n",
      "Copying polar_stereographic\n",
      "Copying bed\n",
      "============ Running year 2014\n",
      "     ---> /Users/eafischer2/harn/pismip6/crios2pism/data_sets/velocities/tmpc2bozfsh/tmpj2vg458k\n",
      "ice_velocity sum: \n",
      "time0x = 78969600.0 (type <class 'numpy.float64'>)\n",
      "914.00, dt = 100.00 (s) or 0.00 days\n",
      "time1 = 78969700.0\n",
      "Compressing PISM output to NetCDF4...\n",
      "delete_vars  {'total_retreat_rate', 'ice_area_specific_volume', 'thk', 'mask', 'flux_divergence'}\n",
      "Copying x\n",
      "Copying y\n",
      "Copying polar_stereographic\n",
      "Copying bed\n",
      "============ Running year 2015\n",
      "     ---> /Users/eafischer2/harn/pismip6/crios2pism/data_sets/velocities/tmpc2bozfsh/tmpippn_fyg\n",
      "ice_velocity sum: \n",
      "time0x = 110505600.0 (type <class 'numpy.float64'>)\n",
      "1279.00, dt = 100.00 (s) or 0.00 days\n",
      "time1 = 110505700.0\n",
      "Compressing PISM output to NetCDF4...\n",
      "delete_vars  {'total_retreat_rate', 'ice_area_specific_volume', 'thk', 'mask', 'flux_divergence'}\n",
      "Copying x\n",
      "Copying y\n",
      "Copying polar_stereographic\n",
      "Copying bed\n",
      "============ Running year 2016\n",
      "     ---> /Users/eafischer2/harn/pismip6/crios2pism/data_sets/velocities/tmpc2bozfsh/tmpicbyd7p5\n",
      "ice_velocity sum: \n",
      "time0x = 142041600.0 (type <class 'numpy.float64'>)\n",
      "1644.00, dt = 100.00 (s) or 0.00 days\n",
      "time1 = 142041700.0\n",
      "Compressing PISM output to NetCDF4...\n",
      "delete_vars  {'total_retreat_rate', 'ice_area_specific_volume', 'thk', 'mask', 'flux_divergence'}\n",
      "Copying x\n",
      "Copying y\n",
      "Copying polar_stereographic\n",
      "Copying bed\n",
      "============ Running year 2017\n",
      "     ---> /Users/eafischer2/harn/pismip6/crios2pism/data_sets/velocities/tmpc2bozfsh/tmp31_prypv\n",
      "ice_velocity sum: \n",
      "time0x = 173664000.0 (type <class 'numpy.float64'>)\n",
      "2010.00, dt = 100.00 (s) or 0.00 days\n",
      "time1 = 173664100.0\n",
      "Compressing PISM output to NetCDF4...\n",
      "delete_vars  {'total_retreat_rate', 'ice_area_specific_volume', 'thk', 'mask', 'flux_divergence'}\n",
      "Copying x\n",
      "Copying y\n",
      "Copying polar_stereographic\n",
      "Copying bed\n",
      "============ Running year 2018\n",
      "     ---> /Users/eafischer2/harn/pismip6/crios2pism/data_sets/velocities/tmpc2bozfsh/tmppa8nam1c\n",
      "ice_velocity sum: \n",
      "time0x = 205200000.0 (type <class 'numpy.float64'>)\n",
      "2375.00, dt = 100.00 (s) or 0.00 days\n",
      "time1 = 205200100.0\n",
      "Compressing PISM output to NetCDF4...\n",
      "delete_vars  {'total_retreat_rate', 'ice_area_specific_volume', 'thk', 'mask', 'flux_divergence'}\n"
     ]
    }
   ],
   "source": [
    "#importlib.reload(d_itslive)\n",
    "importlib.reload(flow_simulation)\n",
    "grid = 'W70.90N'\n",
    "ifname = f'outputs/itslive/GRE_G0240_{grid}_2011_2018.nc'\n",
    "ofname = 'y.nc'\n",
    "with ioutil.TmpDir() as tdir:\n",
    "    flow_simulation.compute_sigma_itslive(ifname, grid, ofname, tdir)"
   ]
  },
  {
   "cell_type": "code",
   "execution_count": null,
   "metadata": {},
   "outputs": [],
   "source": []
  },
  {
   "cell_type": "code",
   "execution_count": null,
   "metadata": {},
   "outputs": [],
   "source": []
  }
 ],
 "metadata": {
  "kernelspec": {
   "display_name": "Python 3",
   "language": "python",
   "name": "python3"
  },
  "language_info": {
   "codemirror_mode": {
    "name": "ipython",
    "version": 3
   },
   "file_extension": ".py",
   "mimetype": "text/x-python",
   "name": "python",
   "nbconvert_exporter": "python",
   "pygments_lexer": "ipython3",
   "version": "3.7.6"
  }
 },
 "nbformat": 4,
 "nbformat_minor": 2
}
