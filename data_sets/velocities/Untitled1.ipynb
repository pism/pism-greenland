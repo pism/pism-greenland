{
 "cells": [
  {
   "cell_type": "code",
   "execution_count": 1,
   "metadata": {},
   "outputs": [],
   "source": [
    "import netCDF4\n",
    "nc = netCDF4.Dataset('x.nc')"
   ]
  },
  {
   "cell_type": "code",
   "execution_count": 2,
   "metadata": {},
   "outputs": [
    {
     "data": {
      "text/plain": [
       "['y', 'x', 'time']"
      ]
     },
     "execution_count": 2,
     "metadata": {},
     "output_type": "execute_result"
    }
   ],
   "source": [
    "list(nc.dimensions)"
   ]
  },
  {
   "cell_type": "code",
   "execution_count": 3,
   "metadata": {},
   "outputs": [
    {
     "data": {
      "text/plain": [
       "OrderedDict([('y',\n",
       "              <class 'netCDF4._netCDF4.Dimension'>: name = 'y', size = 688),\n",
       "             ('x',\n",
       "              <class 'netCDF4._netCDF4.Dimension'>: name = 'x', size = 789),\n",
       "             ('time',\n",
       "              <class 'netCDF4._netCDF4.Dimension'> (unlimited): name = 'time', size = 47)])"
      ]
     },
     "execution_count": 3,
     "metadata": {},
     "output_type": "execute_result"
    }
   ],
   "source": [
    "nc.dimensions\n"
   ]
  },
  {
   "cell_type": "code",
   "execution_count": 6,
   "metadata": {},
   "outputs": [
    {
     "data": {
      "text/plain": [
       "['history',\n",
       " 'NCO',\n",
       " 'success',\n",
       " 'creator',\n",
       " 'ns481_grid',\n",
       " 'velocity_file',\n",
       " 'year',\n",
       " 'sigma_max',\n",
       " 'w21_popular_name',\n",
       " 'w21_greenlandic_name',\n",
       " 'w21_coast',\n",
       " 'w21_category',\n",
       " 'w21_Qr',\n",
       " 'w21_Qf',\n",
       " 'w21_Qm',\n",
       " 'w21_Qs',\n",
       " 'w21_Qc_inferred',\n",
       " 'w21_qm',\n",
       " 'w21_qf',\n",
       " 'w21_qc',\n",
       " 'w21_mean_depth',\n",
       " 'w21_min_depth',\n",
       " 'w21_quality_str',\n",
       " 'w21_area_grounded_1992_2017',\n",
       " 'w21_area_grounded_1992_1997',\n",
       " 'w21_area_grounded_1998_2007',\n",
       " 'w21_area_grounded_2008_2017',\n",
       " 'w21_mean_fjord_width',\n",
       " 'w21_length_grounded_1992_2017',\n",
       " 'w21_length_grounded_1992_1997',\n",
       " 'w21_length_grounded_1998_2007',\n",
       " 'w21_length_grounded_2008_2017',\n",
       " 'w21_ocean_model_sample_area',\n",
       " 'w21_mean_TF_1992-2017',\n",
       " 'w21_mean_TF_1992-1997',\n",
       " 'w21_mean_TF_1998-2007',\n",
       " 'w21_mean_TF_2008-2017',\n",
       " 'w21_subglacial_discharge_1992_2017',\n",
       " 'w21_subglacial_discharge_1992_1997',\n",
       " 'w21_subglacial_discharge_1998_2007',\n",
       " 'w21_subglacial_discharge_2008_2017',\n",
       " 'w21_mean_xsection_area',\n",
       " 'w21_mean_undercutting_1992_2017',\n",
       " 'w21_mean_undercutting_1992_1997',\n",
       " 'w21_mean_undercutting_1998_2007',\n",
       " 'w21_mean_undercutting_2008_2017',\n",
       " 'w21_mean_undercutting_uncertainty',\n",
       " 'w21_flux_basin_mouginot_2019',\n",
       " 'w21_mean_discharge',\n",
       " 'w21_mean_mass_balance',\n",
       " 'w21_reference_smb_1961_1990',\n",
       " 'w21_key',\n",
       " 'w21_allnames',\n",
       " 'include',\n",
       " 'bkm15_key',\n",
       " 'bkm15_id',\n",
       " 'bkm15_new_greenl_name',\n",
       " 'bkm15_old_greenl_name',\n",
       " 'bkm15_foreign_name',\n",
       " 'bkm15_official_name',\n",
       " 'bkm15_alt',\n",
       " 'bkm15_allnames',\n",
       " 'lat',\n",
       " 'lon',\n",
       " 'fj_fid',\n",
       " 'ns481_key',\n",
       " 'cf20_key',\n",
       " 'cf20_glacier_id',\n",
       " 'cf20_greenlandic_name',\n",
       " 'cf20_official_name',\n",
       " 'cf20_alt_name',\n",
       " 'cf20_ref_name',\n",
       " 'cf20_fname',\n",
       " 'cf20_uniqename',\n",
       " 'cf20_allnames',\n",
       " 'ns642_key',\n",
       " 'ns642_GlacierID',\n",
       " 'up_key',\n",
       " 'up_fid',\n",
       " 'loc',\n",
       " 'up_loc']"
      ]
     },
     "execution_count": 6,
     "metadata": {},
     "output_type": "execute_result"
    }
   ],
   "source": [
    "nc.ncattrs()"
   ]
  },
  {
   "cell_type": "code",
   "execution_count": null,
   "metadata": {},
   "outputs": [],
   "source": []
  }
 ],
 "metadata": {
  "kernelspec": {
   "display_name": "Python 3",
   "language": "python",
   "name": "python3"
  },
  "language_info": {
   "codemirror_mode": {
    "name": "ipython",
    "version": 3
   },
   "file_extension": ".py",
   "mimetype": "text/x-python",
   "name": "python",
   "nbconvert_exporter": "python",
   "pygments_lexer": "ipython3",
   "version": "3.7.6"
  }
 },
 "nbformat": 4,
 "nbformat_minor": 2
}
