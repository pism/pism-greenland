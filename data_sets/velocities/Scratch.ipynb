{
 "cells": [
  {
   "cell_type": "code",
   "execution_count": 50,
   "metadata": {},
   "outputs": [
    {
     "data": {
      "text/html": [
       "<style>.container { width:95% !important; }</style>"
      ],
      "text/plain": [
       "<IPython.core.display.HTML object>"
      ]
     },
     "metadata": {},
     "output_type": "display_data"
    }
   ],
   "source": [
    "# https://stackoverflow.com/questions/43599018/is-there-a-way-to-get-matplotlib-path-contains-points-to-be-inclusive-of-boundar\n",
    "#I do quite like this command in Jupiter notebook:\n",
    "from IPython.core.display import display, HTML\n",
    "display(HTML(\"<style>.container { width:95% !important; }</style>\"))\n",
    "#It makes things wider and not waste the space on your screen"
   ]
  },
  {
   "cell_type": "code",
   "execution_count": 1,
   "metadata": {},
   "outputs": [
    {
     "data": {
      "text/html": [
       "<div>\n",
       "<style scoped>\n",
       "    .dataframe tbody tr th:only-of-type {\n",
       "        vertical-align: middle;\n",
       "    }\n",
       "\n",
       "    .dataframe tbody tr th {\n",
       "        vertical-align: top;\n",
       "    }\n",
       "\n",
       "    .dataframe thead th {\n",
       "        text-align: right;\n",
       "    }\n",
       "</style>\n",
       "<table border=\"1\" class=\"dataframe\">\n",
       "  <thead>\n",
       "    <tr style=\"text-align: right;\">\n",
       "      <th></th>\n",
       "      <th>poly</th>\n",
       "    </tr>\n",
       "  </thead>\n",
       "  <tbody>\n",
       "    <tr>\n",
       "      <th>0</th>\n",
       "      <td>POLYGON ((0 0, 1 0, 1 1, 0 0))</td>\n",
       "    </tr>\n",
       "    <tr>\n",
       "      <th>1</th>\n",
       "      <td>POLYGON ((0 0, 1 0, 0 1, 0 0))</td>\n",
       "    </tr>\n",
       "  </tbody>\n",
       "</table>\n",
       "</div>"
      ],
      "text/plain": [
       "                             poly\n",
       "0  POLYGON ((0 0, 1 0, 1 1, 0 0))\n",
       "1  POLYGON ((0 0, 1 0, 0 1, 0 0))"
      ]
     },
     "execution_count": 1,
     "metadata": {},
     "output_type": "execute_result"
    }
   ],
   "source": [
    "import pandas as pd\n",
    "from shapely.geometry import Polygon\n",
    "import shapely\n",
    "poly0 = Polygon([(0,0), (1,0), (1,1)])\n",
    "poly1 = Polygon([(0,0), (1,0), (0,1)])\n",
    "polys = pd.DataFrame({'poly': [poly0,poly1]})\n",
    "polys"
   ]
  },
  {
   "cell_type": "code",
   "execution_count": 2,
   "metadata": {},
   "outputs": [
    {
     "data": {
      "text/plain": [
       "0    POINT (0.5 0.3)\n",
       "1    POINT (0.7 0.5)\n",
       "2     POINT (-1.2 4)\n",
       "3        POINT (1 0)\n",
       "Name: point, dtype: object"
      ]
     },
     "execution_count": 2,
     "metadata": {},
     "output_type": "execute_result"
    }
   ],
   "source": [
    "points = pd.DataFrame({'point': [shapely.geometry.Point(x)\n",
    "    for x in [(.5,.3), (.7,.5), (-1.2,4.), (1.,0.0)]]})\n",
    "points = points['point']\n",
    "points"
   ]
  },
  {
   "cell_type": "code",
   "execution_count": 3,
   "metadata": {},
   "outputs": [
    {
     "data": {
      "text/plain": [
       "0    POINT (0.5 0.3)\n",
       "1    POINT (0.7 0.5)\n",
       "3        POINT (1 0)\n",
       "Name: point, dtype: object"
      ]
     },
     "execution_count": 3,
     "metadata": {},
     "output_type": "execute_result"
    }
   ],
   "source": [
    "intersects = points[points.map(lambda p: poly0.intersects(p))]\n",
    "intersects"
   ]
  },
  {
   "cell_type": "code",
   "execution_count": 4,
   "metadata": {},
   "outputs": [
    {
     "data": {
      "text/plain": [
       "0     True\n",
       "1    False\n",
       "Name: poly, dtype: bool"
      ]
     },
     "execution_count": 4,
     "metadata": {},
     "output_type": "execute_result"
    }
   ],
   "source": [
    "isx = polys['poly'].map(lambda p: p.intersects(points[1]))\n",
    "isx"
   ]
  },
  {
   "cell_type": "code",
   "execution_count": 5,
   "metadata": {},
   "outputs": [
    {
     "data": {
      "text/plain": [
       "array([ True, False, False,  True])"
      ]
     },
     "execution_count": 5,
     "metadata": {},
     "output_type": "execute_result"
    }
   ],
   "source": [
    "from matplotlib.path import Path\n",
    "poly = Path([(0,0), (1,0), (1,1)])\n",
    "points = [(.5,.3), (.5,.7), (-1.2,4.), (.99,0.01)]\n",
    "poly.contains_points(points)"
   ]
  },
  {
   "cell_type": "code",
   "execution_count": 6,
   "metadata": {},
   "outputs": [
    {
     "data": {
      "text/plain": [
       "grid                                              E71.75N\n",
       "poly    POLYGON ((489950 -1962150, 581050 -1962150, 58...\n",
       "wkt     PROJCS[\"WGS 84 / NSIDC Sea Ice Polar Stereogra...\n",
       "Name: 0, dtype: object"
      ]
     },
     "execution_count": 6,
     "metadata": {},
     "output_type": "execute_result"
    }
   ],
   "source": [
    "import importlib\n",
    "from uafgi.nsidc import nsidc0481\n",
    "from uafgi import gdalutil\n",
    "importlib.reload(nsidc0481)\n",
    "importlib.reload(gdalutil)\n",
    "gdf = nsidc0481.load_grids()\n",
    "gdf.loc[0]"
   ]
  },
  {
   "cell_type": "code",
   "execution_count": 17,
   "metadata": {},
   "outputs": [
    {
     "data": {
      "text/plain": [
       "'PROJCS[\"WGS 84 / NSIDC Sea Ice Polar Stereographic North\",GEOGCS[\"WGS 84\",DATUM[\"WGS_1984\",SPHEROID[\"WGS 84\",6378137,298.257223563,AUTHORITY[\"EPSG\",\"7030\"]],AUTHORITY[\"EPSG\",\"6326\"]],PRIMEM[\"Greenwich\",0,AUTHORITY[\"EPSG\",\"8901\"]],UNIT[\"degree\",0.0174532925199433,AUTHORITY[\"EPSG\",\"9122\"]],AUTHORITY[\"EPSG\",\"4326\"]],PROJECTION[\"Polar_Stereographic\"],PARAMETER[\"latitude_of_origin\",70],PARAMETER[\"central_meridian\",-45],PARAMETER[\"false_easting\",0],PARAMETER[\"false_northing\",0],UNIT[\"metre\",1,AUTHORITY[\"EPSG\",\"9001\"]],AXIS[\"Easting\",SOUTH],AXIS[\"Northing\",SOUTH],AUTHORITY[\"EPSG\",\"3413\"]]'"
      ]
     },
     "execution_count": 17,
     "metadata": {},
     "output_type": "execute_result"
    }
   ],
   "source": [
    "import pyproj\n",
    "the_wkt = gdf.loc[0].wkt\n",
    "wgs84 = pyproj.CRS.from_epsg(\"4326\")  # lon/lat coordinates\n",
    "local = pyproj.CRS.from_string(gdf.loc[0].wkt)\n",
    "proj = pyproj.Transformer.from_crs(wgs84,local,always_xy=True)\n",
    "proj.transform(-14.,79.)\n",
    "the_wkt"
   ]
  },
  {
   "cell_type": "code",
   "execution_count": 104,
   "metadata": {},
   "outputs": [],
   "source": [
    "seldf = pd.read_pickle('selections_full.df')\n",
    "#seldf.loc = pd.Series(list(shapely.geometry.Point(xy) for xy in zip(seldf.lon,seldf.lat)))"
   ]
  },
  {
   "cell_type": "code",
   "execution_count": 155,
   "metadata": {},
   "outputs": [],
   "source": [
    "poly0 = gdf.loc[6].poly\n",
    "points = pd.Series([shapely.geometry.Point(x,y) for x,y in zip(*proj.transform(seldf.lon.tolist(), seldf.lat.tolist()))],name='terminus')\n",
    "#points\n",
    "intersects = points[points.map(lambda p: poly0.intersects(p))]"
   ]
  },
  {
   "cell_type": "code",
   "execution_count": 156,
   "metadata": {},
   "outputs": [
    {
     "data": {
      "text/plain": [
       "14     POINT (-391054.059355962 -1474088.671339191)\n",
       "16    POINT (-374977.3009849711 -1495830.212015945)\n",
       "Name: terminus, dtype: object"
      ]
     },
     "execution_count": 156,
     "metadata": {},
     "output_type": "execute_result"
    }
   ],
   "source": [
    "intersects"
   ]
  },
  {
   "cell_type": "code",
   "execution_count": 135,
   "metadata": {},
   "outputs": [
    {
     "data": {
      "text/plain": [
       "pandas.core.series.Series"
      ]
     },
     "execution_count": 135,
     "metadata": {},
     "output_type": "execute_result"
    }
   ],
   "source": [
    "type(intersects)"
   ]
  },
  {
   "cell_type": "code",
   "execution_count": 136,
   "metadata": {},
   "outputs": [
    {
     "data": {
      "text/plain": [
       "2"
      ]
     },
     "execution_count": 136,
     "metadata": {},
     "output_type": "execute_result"
    }
   ],
   "source": [
    "len(intersects)"
   ]
  },
  {
   "cell_type": "code",
   "execution_count": 157,
   "metadata": {},
   "outputs": [],
   "source": [
    "col1 = pd.Series(index=intersects.index, data=['E22'] * len(intersects),name='grid')\n",
    "\n",
    "#pd.merge(intersects,col1)"
   ]
  },
  {
   "cell_type": "code",
   "execution_count": 158,
   "metadata": {},
   "outputs": [
    {
     "data": {
      "text/plain": [
       "14    E22\n",
       "16    E22\n",
       "Name: grid, dtype: object"
      ]
     },
     "execution_count": 158,
     "metadata": {},
     "output_type": "execute_result"
    }
   ],
   "source": [
    "col1"
   ]
  },
  {
   "cell_type": "code",
   "execution_count": 161,
   "metadata": {},
   "outputs": [
    {
     "data": {
      "text/html": [
       "<div>\n",
       "<style scoped>\n",
       "    .dataframe tbody tr th:only-of-type {\n",
       "        vertical-align: middle;\n",
       "    }\n",
       "\n",
       "    .dataframe tbody tr th {\n",
       "        vertical-align: top;\n",
       "    }\n",
       "\n",
       "    .dataframe thead th {\n",
       "        text-align: right;\n",
       "    }\n",
       "</style>\n",
       "<table border=\"1\" class=\"dataframe\">\n",
       "  <thead>\n",
       "    <tr style=\"text-align: right;\">\n",
       "      <th></th>\n",
       "      <th>terminus</th>\n",
       "      <th>grid</th>\n",
       "    </tr>\n",
       "  </thead>\n",
       "  <tbody>\n",
       "    <tr>\n",
       "      <th>14</th>\n",
       "      <td>POINT (-391054.059355962 -1474088.671339191)</td>\n",
       "      <td>E22</td>\n",
       "    </tr>\n",
       "    <tr>\n",
       "      <th>16</th>\n",
       "      <td>POINT (-374977.3009849711 -1495830.212015945)</td>\n",
       "      <td>E22</td>\n",
       "    </tr>\n",
       "  </tbody>\n",
       "</table>\n",
       "</div>"
      ],
      "text/plain": [
       "                                         terminus grid\n",
       "14   POINT (-391054.059355962 -1474088.671339191)  E22\n",
       "16  POINT (-374977.3009849711 -1495830.212015945)  E22"
      ]
     },
     "execution_count": 161,
     "metadata": {},
     "output_type": "execute_result"
    }
   ],
   "source": [
    "df=pd.concat([intersects,col1],axis=1)\n",
    "df"
   ]
  },
  {
   "cell_type": "code",
   "execution_count": 164,
   "metadata": {},
   "outputs": [
    {
     "name": "stderr",
     "output_type": "stream",
     "text": [
      "/Users/eafischer2/spack/var/spack/environments/pismip6-catalina/.spack-env/view/lib/python3.7/site-packages/ipykernel_launcher.py:21: DeprecationWarning: The default dtype for empty Series will be 'object' instead of 'float64' in a future version. Specify a dtype explicitly to silence this warning.\n"
     ]
    }
   ],
   "source": [
    "    selections = seldf\n",
    "\n",
    "    # Load the grids \n",
    "    gdf = nsidc0481.load_grids()\n",
    "    grids_s = list()\n",
    "    for index, row in gdf.iterrows():\n",
    "\n",
    "        # Transform glacier terminus locations to this grid's projection\n",
    "        local = pyproj.CRS.from_string(row['wkt'])\n",
    "        proj = pyproj.Transformer.from_crs(wgs84,local,always_xy=True)\n",
    "        projected_points = pd.Series(\n",
    "            index=selections.index,\n",
    "            data=[shapely.geometry.Point(x,y) for x,y in zip(\n",
    "                *proj.transform(selections.lon.tolist(), selections.lat.tolist()))]\n",
    "            )\n",
    "\n",
    "        # Find intersections between terminus locations and this grid\n",
    "        # NOTE: intersects includes selections.index\n",
    "        intersects = points[projected_points.map(lambda p: row['poly'].intersects(p))]\n",
    "\n",
    "        grids_s.append(pd.Series(index=intersects.index, data=[row['grid']] * len(intersects),name='grid'))\n",
    "\n",
    "    grids = pd.concat(grids_s, axis=0)\n"
   ]
  },
  {
   "cell_type": "code",
   "execution_count": 169,
   "metadata": {},
   "outputs": [
    {
     "data": {
      "text/plain": [
       "1     E71.75N\n",
       "2     E67.55N\n",
       "4     W70.90N\n",
       "5     W70.90N\n",
       "6     W70.90N\n",
       "6     W70.55N\n",
       "10    W77.55N\n",
       "13    W73.75N\n",
       "14    W76.10N\n",
       "15    W76.35N\n",
       "16    W75.85N\n",
       "16    W76.10N\n",
       "17    W72.90N\n",
       "18    E63.35N\n",
       "18    E63.00N\n",
       "19    E65.10N\n",
       "20    E66.60N\n",
       "21    W64.25N\n",
       "23    W62.10N\n",
       "Name: grid, dtype: object"
      ]
     },
     "execution_count": 169,
     "metadata": {},
     "output_type": "execute_result"
    }
   ],
   "source": [
    "grids = grids.sort_index()\n",
    "grids"
   ]
  },
  {
   "cell_type": "code",
   "execution_count": 166,
   "metadata": {},
   "outputs": [
    {
     "data": {
      "text/plain": [
       "pandas.core.series.Series"
      ]
     },
     "execution_count": 166,
     "metadata": {},
     "output_type": "execute_result"
    }
   ],
   "source": [
    "type(grids)"
   ]
  },
  {
   "cell_type": "code",
   "execution_count": 171,
   "metadata": {},
   "outputs": [
    {
     "data": {
      "text/plain": [
       "array([False, False, False, False, False,  True, False, False, False,\n",
       "       False, False,  True, False, False,  True, False, False, False,\n",
       "       False])"
      ]
     },
     "execution_count": 171,
     "metadata": {},
     "output_type": "execute_result"
    }
   ],
   "source": [
    "grids.index.duplicated()\n",
    "#grids.loc[grids.index.duplicated()]"
   ]
  },
  {
   "cell_type": "code",
   "execution_count": null,
   "metadata": {},
   "outputs": [],
   "source": [
    "from osgeo import ogr,osr\n",
    "driver = ogr.GetDriverByName('ESRI Shapefile')\n",
    "src_ds = driver.Open('troughs/shp/fjord_outlines.shp')\n",
    "src_lyr = src_ds.GetLayer()   # Put layer number or name in her\n",
    "src_srs = src_lyr.GetSpatialRef()\n",
    "dst_srs = osr.SpatialReference()\n",
    "dst_srs.ImportFromWkt(the_wkt)\n",
    "transform = osr.CoordinateTransformation(src_srs, dst_srs)\n",
    "\n",
    "fjords_s = list()\n",
    "if True:\n",
    "    while True:\n",
    "        feat = src_lyr.GetNextFeature()\n",
    "        if feat is None:\n",
    "            break\n",
    "        poly = feat.GetGeometryRef()\n",
    "        poly.Transform(transform)\n",
    "        print(poly)\n",
    "        fjords_s.append(poly)\n",
    "        #poly.transform(transform)\n",
    "        #print(type(poly))\n",
    "        #print(feat.GetGeometryRef())\n",
    "        #print('--------')\n",
    "\n",
    "fjords = pd.Series(name='fjords',data=fjords_s)\n",
    "fjords"
   ]
  },
  {
   "cell_type": "code",
   "execution_count": 10,
   "metadata": {},
   "outputs": [
    {
     "data": {
      "text/plain": [
       "<shapefile.Shape at 0x117a86bd0>"
      ]
     },
     "execution_count": 10,
     "metadata": {},
     "output_type": "execute_result"
    }
   ],
   "source": [
    "import shapefile\n",
    "reader = shapefile.Reader('troughs/shp/terminus_locations.shp')\n",
    "shape = reader.shape(0)\n",
    "shape"
   ]
  },
  {
   "cell_type": "code",
   "execution_count": 11,
   "metadata": {},
   "outputs": [
    {
     "data": {
      "text/plain": [
       "[[-54.36425146640052, 72.8503844114822]]"
      ]
     },
     "execution_count": 11,
     "metadata": {},
     "output_type": "execute_result"
    }
   ],
   "source": [
    "shape.points\n"
   ]
  },
  {
   "cell_type": "code",
   "execution_count": 29,
   "metadata": {},
   "outputs": [
    {
     "name": "stdout",
     "output_type": "stream",
     "text": [
      "               popname        ID  \\\n",
      "0  Upernavik Isstrom S  GGN0452S   \n",
      "1  Upernavik Isstrom C  GGN0452C   \n",
      "2  Upernavik Isstrom N  GGN0452N   \n",
      "\n",
      "                                          _shape  \n",
      "0  POINT (-304464.7388332954 -1846270.687993343)  \n",
      "1   POINT (-299794.8973538086 -1837190.44067212)  \n",
      "2   POINT (-296162.7984253188 -1824348.37660353)  \n"
     ]
    }
   ],
   "source": [
    "from uafgi import shputil\n",
    "importlib.reload(shputil)\n",
    "#for rec in shputil.read_shapefile('troughs/shp/terminus_locations.shp', the_wkt):\n",
    "#    print(rec)\n",
    "print(shputil.read_df('troughs/shp/terminus_locations.shp', the_wkt))"
   ]
  },
  {
   "cell_type": "code",
   "execution_count": 49,
   "metadata": {},
   "outputs": [
    {
     "name": "stdout",
     "output_type": "stream",
     "text": [
      "Record #-1: ['Upernavik Isstrom S', 'GGN0452S']\n",
      "Record #-1: ['Upernavik Isstrom C', 'GGN0452C']\n",
      "Record #-1: ['Upernavik Isstrom N', 'GGN0452N']\n"
     ]
    }
   ],
   "source": [
    "import shapefile\n",
    "# Polygon shapefile we are updating.\n",
    "# We must include a file extension in\n",
    "# this case because the file name\n",
    "# has multiple dots and pyshp would get\n",
    "# confused otherwise.\n",
    "file_name = 'troughs/shp/todel/terminus_locations.shp'\n",
    "# Create a shapefile reader\n",
    "r = shapefile.Reader(file_name)\n",
    "# Create a shapefile writer\n",
    "# using the same shape type\n",
    "# as our reader\n",
    "with shapefile.Writer('troughs/shp/terminus_locations.shp', shapeType=r.shapeType) as w:\n",
    " # Copy over the existing dbf fields\n",
    " w.fields = list(r.fields)\n",
    "    \n",
    " # Copy over the existing dbf records\n",
    " for shaperec in r.iterShapeRecords():\n",
    "    print(shaperec.record)\n",
    "    w.record(*shaperec.record)\n",
    "    w.shape(shaperec.shape)\n",
    "\n",
    " w.record('Nordenskiold Gl. N','NORD001')\n",
    " w.point(-59.073,75.834)\n",
    " w.record('Nordenskiold Gl. 2','NORD002')\n",
    " w.point(-51.17,68.304)\n",
    " w.record('Nordenskiold Gl. 3','NORD003')\n",
    " w.point(-28.05,73.117)\n",
    " w.record('Deception O Gl. CN','FISCH001')\n",
    " w.point(-33.399,67.624)\n",
    " w.record('Koge Bugt Gl. C','FISCH002')\n",
    " w.point(-41.164,65.17)\n",
    " w.record('Ukaasorsuaq','FISCH003')\n",
    " w.point(-48.721,61.958)\n",
    "    \n",
    " # Add a new polygon\n",
    " #w.poly(parts=[[[-104,24],[-104,25],[-103,25],[-103,24],[-104,24]]])\n",
    " # Add a new dbf record for our polygon making sure we include\n",
    " # all of the fields in the original file (r.fields)\n",
    "# w.record(\"STANLEY\",\"TD\",\"091022/1500\",\"27\",\"21\",\"48\",\"ep\")\n",
    " # Overwrite the old shapefile or change the name and make a copy \n",
    " #w.save('x.shp')\n",
    "#w.close()"
   ]
  },
  {
   "cell_type": "code",
   "execution_count": 47,
   "metadata": {},
   "outputs": [
    {
     "data": {
      "text/plain": [
       "2.0"
      ]
     },
     "execution_count": 47,
     "metadata": {},
     "output_type": "execute_result"
    }
   ],
   "source": [
    "shapely.geometry.Point(1,2).y\n"
   ]
  },
  {
   "cell_type": "code",
   "execution_count": 7,
   "metadata": {},
   "outputs": [
    {
     "name": "stdout",
     "output_type": "stream",
     "text": [
      "xx  ((slice(3, 4, None), 5, 6), (4, 3))\n"
     ]
    }
   ],
   "source": [
    "class MyClass:\n",
    "    def __getitem__(self, *args):\n",
    "        print(args)\n",
    "        return None\n",
    "    def __setitem__(self, *args):\n",
    "        print('xx ', args)\n",
    "myc = MyClass()\n",
    "myc[3:4,5,6] = (4,3)"
   ]
  },
  {
   "cell_type": "code",
   "execution_count": null,
   "metadata": {},
   "outputs": [],
   "source": []
  }
 ],
 "metadata": {
  "kernelspec": {
   "display_name": "Python 3",
   "language": "python",
   "name": "python3"
  },
  "language_info": {
   "codemirror_mode": {
    "name": "ipython",
    "version": 3
   },
   "file_extension": ".py",
   "mimetype": "text/x-python",
   "name": "python",
   "nbconvert_exporter": "python",
   "pygments_lexer": "ipython3",
   "version": "3.7.6"
  }
 },
 "nbformat": 4,
 "nbformat_minor": 2
}
