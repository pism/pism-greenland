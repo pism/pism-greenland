{
 "cells": [
  {
   "cell_type": "code",
   "execution_count": 55,
   "metadata": {},
   "outputs": [
    {
     "data": {
      "text/html": [
       "<style>.container { width:100% !important; }</style>"
      ],
      "text/plain": [
       "<IPython.core.display.HTML object>"
      ]
     },
     "metadata": {},
     "output_type": "display_data"
    }
   ],
   "source": [
    "# https://stackoverflow.com/questions/43599018/is-there-a-way-to-get-matplotlib-path-contains-points-to-be-inclusive-of-boundar\n",
    "#I do quite like this command in Jupiter notebook:\n",
    "from IPython.core.display import display, HTML\n",
    "display(HTML(\"<style>.container { width:100% !important; }</style>\"))\n",
    "#It makes things wider and not waste the space on your screen\n",
    "import pandas as pd\n",
    "import importlib\n",
    "import csv,os\n",
    "import numpy as np\n",
    "import pandas as pd\n",
    "import itertools\n",
    "from uafgi import ioutil,shputil,greenland,bedmachine\n",
    "import pyproj\n",
    "import shapely\n",
    "import copy\n",
    "from uafgi import gicollections\n",
    "\n",
    "#pd.set_option('display.max_rows', 30)"
   ]
  },
  {
   "cell_type": "code",
   "execution_count": 245,
   "metadata": {},
   "outputs": [
    {
     "data": {
      "text/plain": [
       "{'w21_popular_name': 'Rink Isbrae',\n",
       " 'w21_greenlandic_name': 'Kangilliup Sermia',\n",
       " 'w21_coast': 'CW',\n",
       " 'w21_category': 'CR',\n",
       " 'w21_Qr': 1.19,\n",
       " 'w21_Qf': 1.08,\n",
       " 'w21_Qm': 4.11,\n",
       " 'w21_Qs': 0.2,\n",
       " 'w21_Qc_inferred': nan,\n",
       " 'w21_qm': nan,\n",
       " 'w21_qf': 9.21,\n",
       " 'w21_qc': nan,\n",
       " 'w21_mean_depth': 568.0,\n",
       " 'w21_min_depth': 424.0,\n",
       " 'w21_quality_str': 'High',\n",
       " 'w21_area_grounded_1992_2017': 5.24,\n",
       " 'w21_area_grounded_1992_1997': 2.52,\n",
       " 'w21_area_grounded_1998_2007': 1.52,\n",
       " 'w21_area_grounded_2008_2017': 1.19,\n",
       " 'w21_mean_fjord_width': 4.42,\n",
       " 'w21_length_grounded_1992_2017': 1.19,\n",
       " 'w21_length_grounded_1992_1997': 0.57,\n",
       " 'w21_length_grounded_1998_2007': 0.34,\n",
       " 'w21_length_grounded_2008_2017': 0.27,\n",
       " 'w21_ocean_model_sample_area': 'CW1',\n",
       " 'w21_mean_TF_1992-2017': 4.61,\n",
       " 'w21_mean_TF_1992-1997': 3.77,\n",
       " 'w21_mean_TF_1998-2007': 4.63,\n",
       " 'w21_mean_TF_2008-2017': 5.04,\n",
       " 'w21_subglacial_discharge_1992_2017': 4.0,\n",
       " 'w21_subglacial_discharge_1992_1997': 2.59,\n",
       " 'w21_subglacial_discharge_1998_2007': 4.0,\n",
       " 'w21_subglacial_discharge_2008_2017': 4.82,\n",
       " 'w21_mean_xsection_area': 3.07,\n",
       " 'w21_mean_undercuttong_1992_2017': 1.56,\n",
       " 'w21_mean_undercuttong_1992_1997': 1.13,\n",
       " 'w21_mean_undercuttong_1998_2007': 1.56,\n",
       " 'w21_mean_undercuttong_2008_2017': 1.78,\n",
       " 'w21_mean_undercutting_uncertainty': 22.13,\n",
       " 'w21_flux_basin_mouginot_2019': 'RINK_ISBRAE',\n",
       " 'w21_mean_discharge': 11.6,\n",
       " 'w21_mean_mass_balance': -0.4,\n",
       " 'w21_reference_smb_1961_1990': 11.6,\n",
       " 'w21_key': ('Rink Isbrae', 'RINK_ISBRAE'),\n",
       " 'w21_allnames': ('Rink Isbrae', 'Kangilliup Sermia'),\n",
       " 'include': 1.0,\n",
       " 'bkm15_key': 'GGN0347',\n",
       " 'bkm15_id': 'GGN0347',\n",
       " 'bkm15_new_greenl_name': 'Kangilliup Sermia',\n",
       " 'bkm15_old_greenl_name': 'Kangigdliup Sermia',\n",
       " 'bkm15_foreign_name': 'Rink Isbræ',\n",
       " 'bkm15_official_name': 'Kangilliup Sermia',\n",
       " 'bkm15_alt': nan,\n",
       " 'bkm15_allnames': ('Kangilliup Sermia',\n",
       "  'Kangilliup Sermia',\n",
       "  'Kangigdliup Sermia',\n",
       "  'Rink Isbræ',\n",
       "  nan),\n",
       " 'lat': 71.7723,\n",
       " 'lon': -51.4951,\n",
       " 'loc': <shapely.geometry.point.Point at 0x114455850>,\n",
       " 'fj_poly': <shapely.geometry.polygon.Polygon at 0x114459110>,\n",
       " 'fj_fid': 27.0,\n",
       " 'ns481_key': 'W71.65N',\n",
       " 'ns481_grid': 'W71.65N',\n",
       " 'cf20_key': 'Rink Isbrae',\n",
       " 'cf20_glacier_id': 17.0,\n",
       " 'cf20_greenlandic_name': 'Kangilliup Sermia',\n",
       " 'cf20_official_name': 'Kangilliup Sermia',\n",
       " 'cf20_alt_name': 'Rink Isbræ',\n",
       " 'cf20_ref_name': 'Rink Isbrae',\n",
       " 'cf20_fname': '/Users/eafischer2/data_sets/velocities_data/calfin/domain-termini/termini_1972-2019_Rink-Isbrae_v1.0.shp',\n",
       " 'cf20_uniqename': 'Rink Isbrae',\n",
       " 'cf20_allnames': ('Kangilliup Sermia',\n",
       "  'Kangilliup Sermia',\n",
       "  'Rink Isbræ',\n",
       "  'Rink Isbrae'),\n",
       " 'ns642_key': 17.0,\n",
       " 'ns642_GlacierID': 17,\n",
       " 'up_key': 15,\n",
       " 'up_fid': 15,\n",
       " 'up_loc': <shapely.geometry.point.Point at 0x11445b750>}"
      ]
     },
     "execution_count": 245,
     "metadata": {},
     "output_type": "execute_result"
    }
   ],
   "source": [
    "\n",
    "select = pd.read_pickle('select.df')\n",
    "#selections[selections['popular_name'] == ]\n",
    "row = select[select['w21_popular_name'] == 'Rink Isbrae'].to_dict('records')[0]\n",
    "row"
   ]
  },
  {
   "cell_type": "code",
   "execution_count": 246,
   "metadata": {},
   "outputs": [
    {
     "data": {
      "text/plain": [
       "[<shapely.geometry.linestring.LineString at 0x10e0952d0>,\n",
       " <shapely.geometry.linestring.LineString at 0x10e0b9a10>,\n",
       " <shapely.geometry.linestring.LineString at 0x10e0e1810>,\n",
       " <shapely.geometry.linestring.LineString at 0x10e0f94d0>,\n",
       " <shapely.geometry.linestring.LineString at 0x10e12aa10>,\n",
       " <shapely.geometry.linestring.LineString at 0x10e14a050>,\n",
       " <shapely.geometry.linestring.LineString at 0x10e175450>,\n",
       " <shapely.geometry.linestring.LineString at 0x10e1677d0>,\n",
       " <shapely.geometry.linestring.LineString at 0x10e18abd0>]"
      ]
     },
     "execution_count": 246,
     "metadata": {},
     "output_type": "execute_result"
    }
   ],
   "source": [
    "ns642 = greenland.read_ns642(greenland.map_wkt)\n",
    "ns642_dict = dict(list(ns642.df.groupby(by='ns642_GlacierID')))\n",
    "ns642_this = ns642_dict[row['ns642_GlacierID']]\n",
    "termini = ns642_this['ns642_terminus'].to_list()\n",
    "termini"
   ]
  },
  {
   "cell_type": "code",
   "execution_count": 260,
   "metadata": {},
   "outputs": [
    {
     "name": "stdout",
     "output_type": "stream",
     "text": [
      "<osgeo.gdal.Dataset; proxy of <Swig Object of type 'GDALDatasetShadow *' at 0x10e845ae0> >\n",
      "(688, 789)\n"
     ]
    }
   ],
   "source": [
    "from uafgi import bedmachine,ogrutil\n",
    "importlib.reload(bedmachine)\n",
    "importlib.reload(ogrutil)\n",
    "\n",
    "grid = row['ns481_grid']\n",
    "grid_file = datasets.measures_grid_file(grid)\n",
    "bedmachine_file = datasets.bedmachine_local(grid)\n",
    "\n",
    "fjord = bedmachine.get_fjord(bedmachine_file, row['fj_poly'])\n",
    "print(fjord.shape)\n"
   ]
  },
  {
   "cell_type": "code",
   "execution_count": 261,
   "metadata": {},
   "outputs": [
    {
     "data": {
      "text/plain": [
       "'W71.65N'"
      ]
     },
     "execution_count": 261,
     "metadata": {},
     "output_type": "execute_result"
    }
   ],
   "source": [
    "\n",
    "\n",
    "grid"
   ]
  },
  {
   "cell_type": "code",
   "execution_count": 262,
   "metadata": {},
   "outputs": [
    {
     "name": "stdout",
     "output_type": "stream",
     "text": [
      "<osgeo.gdal.Dataset; proxy of <Swig Object of type 'GDALDatasetShadow *' at 0x10e845ae0> >\n",
      "678\n",
      "(688, 789)\n"
     ]
    }
   ],
   "source": [
    "from uafgi import gdalutil\n",
    "importlib.reload(gdalutil)\n",
    "\n",
    "\n",
    "# Get and extend the terminus line\n",
    "term=termini[0]\n",
    "term_extended=cgutil.extend_linestring(term, 100000.)\n",
    "\n",
    "\n",
    "\n",
    "# Rasterize the terminus line\n",
    "terminus_xr = gdalutil.rasterize_polygons(shapelyutil.to_datasource(term_extended), grid_file)\n",
    "print(np.sum(np.sum(terminus_xr)))\n",
    "print(terminus_xr.shape)\n"
   ]
  },
  {
   "cell_type": "code",
   "execution_count": 263,
   "metadata": {},
   "outputs": [],
   "source": [
    "importlib.reload(gdalutil)\n",
    "# Write as a raster\n",
    "from osgeo import gdal\n",
    "grid_info = gdalutil.FileInfo(grid_file)\n",
    "#ds = gdalutil.clone_geometry('NetCDF', 'x.nc', grid_info, 1, gdal.GDT_Byte)\n",
    "#ds.GetRasterBand(1).WriteArray(terminus_xr)\n",
    "#ds.FlushCache()\n"
   ]
  },
  {
   "cell_type": "code",
   "execution_count": 264,
   "metadata": {},
   "outputs": [
    {
     "name": "stdout",
     "output_type": "stream",
     "text": [
      "(179, 498)\n",
      "seed  (498, 179) (688, 789)\n",
      "<osgeo.gdal.Dataset; proxy of <Swig Object of type 'GDALDatasetShadow *' at 0x112d53c30> >\n"
     ]
    }
   ],
   "source": [
    "import skimage.segmentation\n",
    "# Place to seed our fill\n",
    "seed = grid_info.to_ij(*row['loc'].coords[0])\n",
    "#seed = (324,265)\n",
    "print(seed)\n",
    "#print(fjord.shape, terminus_xr.shape)\n",
    "fj = np.zeros(fjord.shape)\n",
    "fj[fjord] = 1\n",
    "fj[terminus_xr != 0] = 2\n",
    "seed = (seed[1],seed[0])\n",
    "#fj[seed[0],seed[1]] = 4\n",
    "print('seed ',seed, fj.shape)\n",
    "selem = np.array([\n",
    "    [0,1,0],\n",
    "    [1,1,1],\n",
    "    [0,1,0]\n",
    "])\n",
    "upper = skimage.segmentation.flood(fj, seed, selem=selem)\n",
    "fj[upper] = 4\n",
    "\n",
    "ds = gdalutil.clone_geometry('NetCDF', 'x.nc', grid_info, 1, gdal.GDT_Byte)\n",
    "ds.GetRasterBand(1).WriteArray(fj)\n",
    "ds.FlushCache()\n",
    "\n",
    "\n",
    "#fj = copy.copy(fjord)\n",
    "\n",
    "#skimage.segmentation."
   ]
  },
  {
   "cell_type": "code",
   "execution_count": 160,
   "metadata": {},
   "outputs": [
    {
     "data": {
      "image/svg+xml": [
       "<svg xmlns=\"http://www.w3.org/2000/svg\" xmlns:xlink=\"http://www.w3.org/1999/xlink\" width=\"100.0\" height=\"100.0\" viewBox=\"-190715.53917990607 -2271159.8740772745 2.0 2.0\" preserveAspectRatio=\"xMinYMin meet\"><g transform=\"matrix(1,0,0,-1,0,-4542317.748154549)\"><circle cx=\"-190714.53917990607\" cy=\"-2271158.8740772745\" r=\"0.06\" stroke=\"#555555\" stroke-width=\"0.02\" fill=\"#66cc99\" opacity=\"0.6\" /></g></svg>"
      ],
      "text/plain": [
       "<shapely.geometry.point.Point at 0x10e80fc10>"
      ]
     },
     "execution_count": 160,
     "metadata": {},
     "output_type": "execute_result"
    }
   ],
   "source": [
    "row['loc']"
   ]
  },
  {
   "cell_type": "code",
   "execution_count": 173,
   "metadata": {},
   "outputs": [
    {
     "name": "stdout",
     "output_type": "stream",
     "text": [
      "[[0 0 0 ... 0 0 0]\n",
      " [0 0 0 ... 0 0 0]\n",
      " [0 0 0 ... 0 0 0]\n",
      " ...\n",
      " [0 0 0 ... 0 0 0]\n",
      " [0 0 0 ... 0 0 0]\n",
      " [0 0 0 ... 0 0 0]]\n"
     ]
    }
   ],
   "source": [
    "np.sum(np.sum(terminus_xr))\n",
    "print(terminus_xr)"
   ]
  },
  {
   "cell_type": "code",
   "execution_count": 274,
   "metadata": {},
   "outputs": [
    {
     "name": "stdout",
     "output_type": "stream",
     "text": [
      "<osgeo.gdal.Dataset; proxy of <Swig Object of type 'GDALDatasetShadow *' at 0x10e845f60> >\n"
     ]
    }
   ],
   "source": [
    "from uafgi import glaciers,cgutil\n",
    "importlib.reload(glaciers)\n",
    "importlib.reload(gdalutil)\n",
    "uf = glaciers.upstream_fjord(fjord, gdalutil.FileInfo(grid_file), row['up_loc'], term)"
   ]
  },
  {
   "cell_type": "code",
   "execution_count": 275,
   "metadata": {},
   "outputs": [
    {
     "data": {
      "text/plain": [
       "array([[False, False, False, ..., False, False, False],\n",
       "       [False, False, False, ..., False, False, False],\n",
       "       [False, False, False, ..., False, False, False],\n",
       "       ...,\n",
       "       [False, False, False, ..., False, False, False],\n",
       "       [False, False, False, ..., False, False, False],\n",
       "       [False, False, False, ..., False, False, False]])"
      ]
     },
     "execution_count": 275,
     "metadata": {},
     "output_type": "execute_result"
    }
   ],
   "source": []
  },
  {
   "cell_type": "code",
   "execution_count": 276,
   "metadata": {},
   "outputs": [
    {
     "name": "stdout",
     "output_type": "stream",
     "text": [
      "<osgeo.gdal.Dataset; proxy of <Swig Object of type 'GDALDatasetShadow *' at 0x1143c6e40> >\n"
     ]
    }
   ],
   "source": [
    "ds = gdalutil.clone_geometry('NetCDF', 'x.nc', grid_info, 1, gdal.GDT_Byte)\n",
    "ds.GetRasterBand(1).WriteArray(uf)\n",
    "ds.FlushCache()"
   ]
  },
  {
   "cell_type": "code",
   "execution_count": 279,
   "metadata": {},
   "outputs": [
    {
     "data": {
      "text/plain": [
       "-2751900.0"
      ]
     },
     "execution_count": 279,
     "metadata": {},
     "output_type": "execute_result"
    }
   ],
   "source": [
    "fb = gdalutil.FileInfo('data/bedmachine/BedMachineGreenland-2017-09-20.nc')\n",
    "fb.y1-fb.y0"
   ]
  },
  {
   "cell_type": "code",
   "execution_count": 281,
   "metadata": {},
   "outputs": [
    {
     "data": {
      "text/plain": [
       "-2728320.0"
      ]
     },
     "execution_count": 281,
     "metadata": {},
     "output_type": "execute_result"
    }
   ],
   "source": [
    "fb = gdalutil.FileInfo('data/itslive/GRE_G0240_2014.nc')\n",
    "fb.y1-fb.y0"
   ]
  },
  {
   "cell_type": "code",
   "execution_count": 282,
   "metadata": {},
   "outputs": [
    {
     "data": {
      "text/plain": [
       "2751900.0"
      ]
     },
     "execution_count": 282,
     "metadata": {},
     "output_type": "execute_result"
    }
   ],
   "source": [
    "fb = gdalutil.FileInfo('outputs/bedmachine/BedMachineGreenland-2017-09-20_pism.nc')\n",
    "fb.y1-fb.y0"
   ]
  },
  {
   "cell_type": "code",
   "execution_count": null,
   "metadata": {},
   "outputs": [],
   "source": []
  }
 ],
 "metadata": {
  "kernelspec": {
   "display_name": "Python 3",
   "language": "python",
   "name": "python3"
  },
  "language_info": {
   "codemirror_mode": {
    "name": "ipython",
    "version": 3
   },
   "file_extension": ".py",
   "mimetype": "text/x-python",
   "name": "python",
   "nbconvert_exporter": "python",
   "pygments_lexer": "ipython3",
   "version": "3.7.6"
  }
 },
 "nbformat": 4,
 "nbformat_minor": 2
}
