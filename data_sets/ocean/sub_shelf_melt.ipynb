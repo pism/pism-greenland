{
 "cells": [
  {
   "cell_type": "code",
   "execution_count": null,
   "metadata": {},
   "outputs": [],
   "source": [
    "import PISM\n",
    "import os\n",
    "import numpy as np\n",
    "from PISM.testing import *\n",
    "\n",
    "import numpy as np\n",
    "import pylab as plt\n",
    "\n",
    "config = PISM.Context().config\n",
    "\n",
    "# reduce the grid size to speed this up\n",
    "config.set_number(\"grid.Mx\", 3)\n",
    "config.set_number(\"grid.My\", 5)\n",
    "config.set_number(\"grid.Mz\", 5)\n",
    "\n",
    "seconds_per_year = 365 * 86400\n",
    "# ensure that this is the correct year length\n",
    "config.set_string(\"time.calendar\", \"365_day\")\n",
    "config.set_flag(\"ocean.th.clip_salinity\", False)\n",
    "\n",
    "# silence models' initialization messages\n",
    "PISM.Context().log.set_threshold(1)\n",
    "\n",
    "ice_density = config.get_number(\"constants.ice.density\")\n",
    "sea_water_density = config.get_number(\"constants.sea_water.density\")"
   ]
  },
  {
   "cell_type": "code",
   "execution_count": null,
   "metadata": {},
   "outputs": [],
   "source": [
    "def melting_point_temperature(ice_thickness, salinity):\n",
    "        a = [-0.0575, 0.0901, -7.61e-4]\n",
    "        return a[0] * salinity + a[1] + a[2] * ice_thickness"
   ]
  },
  {
   "cell_type": "code",
   "execution_count": null,
   "metadata": {},
   "outputs": [],
   "source": [
    "h = np.arange(800, 1000, 100)\n",
    "t = np.arange(4, 6, 1)\n",
    "H, T = np.meshgrid(h, t)\n",
    "nx, ny = T.shape\n",
    "\n",
    "M = np.zeros_like(H)\n",
    "\n",
    "gamma_T = 1.00e-4\n",
    "gamma_S = 5.05e-7\n",
    "\n",
    "\n",
    "for ice_thickness in h:\n",
    "    for temperature in t:\n",
    "        depth = ice_density / sea_water_density * ice_thickness\n",
    "        salinity = 35.0\n",
    "        melange_back_pressure = 0.0\n",
    "        potential_temperature = temperature - melting_point_temperature(ice_thickness, salinity) + 273.13\n",
    "\n",
    "        grid = shallow_grid()\n",
    "        geometry = PISM.Geometry(grid)\n",
    "\n",
    "        geometry.ice_thickness.set(depth)\n",
    "\n",
    "        filename = \"ocean_given_th_input.nc\"\n",
    "\n",
    "        PISM.util.prepare_output(filename)\n",
    "\n",
    "        Th = PISM.IceModelVec2S(grid, \"theta_ocean\", PISM.WITHOUT_GHOSTS)\n",
    "        Th.set_attrs(\"climate\", \"potential temperature\", \"Kelvin\", \"Kelvin\", \"\", 0)\n",
    "        Th.set(potential_temperature)\n",
    "        Th.write(filename)\n",
    "\n",
    "        S = PISM.IceModelVec2S(grid, \"salinity_ocean\", PISM.WITHOUT_GHOSTS)\n",
    "        S.set_attrs(\"climate\", \"ocean salinity\", \"g/kg\", \"g/kg\", \"\", 0)\n",
    "        S.set(salinity)\n",
    "        S.write(filename)\n",
    "\n",
    "        config.set_string(\"ocean.th.file\", filename)\n",
    "        config.set_number(\"ocean.th.gamma_T\", gamma_T)\n",
    "        config.set_number(\"ocean.th.gamma_S\", gamma_S)\n",
    "\n",
    "        model = PISM.OceanGivenTH(grid)\n",
    "        model.init(geometry)\n",
    "        model.update(geometry, 0, 1)\n",
    "        m = model.shelf_base_mass_flux().numpy()[0, 0]\n",
    "        m = m * seconds_per_year / ice_density\n",
    "        print(f\"H={ice_thickness} m, TH={potential_temperature-273.13:.2f} C, S={salinity} g/kg, m={m:.2f} m/yr\")\n"
   ]
  },
  {
   "cell_type": "code",
   "execution_count": null,
   "metadata": {},
   "outputs": [],
   "source": [
    "        gamma_T = 1.3e-4\n",
    "        gamma_S = 5.05e-7\n",
    "\n",
    "        ice_thickness = 650\n",
    "        depth = ice_density / sea_water_density * ice_thickness\n",
    "        salinity = 34.0\n",
    "        melange_back_pressure = 0.0\n",
    "        potential_temperature = 4.2 + 273.13\n",
    "        # temperature = 1.7\n",
    "        # potential_temperature = temperature - melting_point_temperature(ice_thickness, salinity) + 273.13\n",
    "\n",
    "        grid = shallow_grid()\n",
    "        geometry = PISM.Geometry(grid)\n",
    "\n",
    "        geometry.ice_thickness.set(depth)\n",
    "\n",
    "        filename = \"ocean_given_th_input.nc\"\n",
    "\n",
    "        PISM.util.prepare_output(filename)\n",
    "\n",
    "        Th = PISM.IceModelVec2S(grid, \"theta_ocean\", PISM.WITHOUT_GHOSTS)\n",
    "        Th.set_attrs(\"climate\", \"potential temperature\", \"Kelvin\", \"Kelvin\", \"\", 0)\n",
    "        Th.set(potential_temperature)\n",
    "        Th.write(filename)\n",
    "\n",
    "        S = PISM.IceModelVec2S(grid, \"salinity_ocean\", PISM.WITHOUT_GHOSTS)\n",
    "        S.set_attrs(\"climate\", \"ocean salinity\", \"g/kg\", \"g/kg\", \"\", 0)\n",
    "        S.set(salinity)\n",
    "        S.write(filename)\n",
    "\n",
    "        config.set_string(\"ocean.th.file\", filename)\n",
    "        config.set_number(\"ocean.th.gamma_T\", gamma_T)\n",
    "        config.set_number(\"ocean.th.gamma_S\", gamma_S)\n",
    "\n",
    "\n",
    "        model = PISM.OceanGivenTH(grid)\n",
    "        model.init(geometry)\n",
    "        model.update(geometry, 0, 1)\n",
    "        m = model.shelf_base_mass_flux().numpy()[0, 0]\n",
    "        m = m * seconds_per_year / ice_density\n",
    "        print(f\"H={ice_thickness} m, TH={potential_temperature-273.13:.2f} C, S={salinity} g/kg, m={m:.2f} m/yr\")\n",
    "\n"
   ]
  },
  {
   "cell_type": "code",
   "execution_count": null,
   "metadata": {},
   "outputs": [],
   "source": [
    "35900 / 362.5"
   ]
  },
  {
   "cell_type": "code",
   "execution_count": null,
   "metadata": {},
   "outputs": [],
   "source": []
  },
  {
   "cell_type": "code",
   "execution_count": null,
   "metadata": {},
   "outputs": [],
   "source": [
    "import pandas as pd"
   ]
  },
  {
   "cell_type": "code",
   "execution_count": null,
   "metadata": {},
   "outputs": [],
   "source": [
    "ices = pd.read_csv(\"disko_bay_ices.csv\")\n",
    "\n"
   ]
  },
  {
   "cell_type": "code",
   "execution_count": null,
   "metadata": {},
   "outputs": [],
   "source": [
    "df = ices[(ices[\"PRES [db]\"] >= 225) & (ices[\"PRES [db]\"] <= 275)][[\"yyyy-mm-ddThh:mm\", \"TEMP [deg C]\"]]"
   ]
  },
  {
   "cell_type": "code",
   "execution_count": null,
   "metadata": {},
   "outputs": [],
   "source": [
    "df.rename(columns={\"yyyy-mm-ddThh:mm\": \"time\", \"TEMP [deg C]\": \"temperature\"}).reset_index(drop=True)"
   ]
  },
  {
   "cell_type": "code",
   "execution_count": null,
   "metadata": {},
   "outputs": [],
   "source": [
    "run create_disko_bay_timeseries.py"
   ]
  },
  {
   "cell_type": "code",
   "execution_count": null,
   "metadata": {},
   "outputs": [],
   "source": [
    "import scipy.stats as stats\n",
    "import math\n",
    "\n",
    "mu = 0\n",
    "variance = 0.2\n",
    "sigma = math.sqrt(variance)\n",
    "x = np.linspace(mu - 3*sigma, mu + 3*sigma, 100)\n",
    "plt.plot(x, stats.norm.pdf(x, mu, sigma))\n",
    "plt.show()"
   ]
  },
  {
   "cell_type": "code",
   "execution_count": null,
   "metadata": {},
   "outputs": [],
   "source": [
    "pm.Normal?"
   ]
  },
  {
   "cell_type": "code",
   "execution_count": null,
   "metadata": {},
   "outputs": [],
   "source": [
    "!open disko-bay-temps_*.pdf"
   ]
  },
  {
   "cell_type": "code",
   "execution_count": null,
   "metadata": {},
   "outputs": [],
   "source": [
    "    import matplotlib.pyplot as plt\n",
    "    import numpy as np\n",
    "    import scipy.stats as st\n",
    "    plt.style.use('seaborn-darkgrid')\n",
    "    x = np.linspace(-5, 5, 1000)\n",
    "    mus = [0.]\n",
    "    sigmas = [0.2]\n",
    "    for mu, sigma in zip(mus, sigmas):\n",
    "        pdf = st.norm.pdf(x, mu, sigma)\n",
    "        plt.plot(x, pdf, label=r'$\\mu$ = {}, $\\sigma$ = {}'.format(mu, sigma))\n",
    "    plt.xlabel('x', fontsize=12)\n",
    "    plt.ylabel('f(x)', fontsize=12)\n",
    "    plt.legend(loc=1)\n",
    "    plt.show()\n",
    "    \n"
   ]
  },
  {
   "cell_type": "code",
   "execution_count": null,
   "metadata": {},
   "outputs": [],
   "source": [
    "def toYearFraction(date):\n",
    "    def sinceEpoch(date): # returns seconds since epoch\n",
    "        return time.mktime(date.timetuple())\n",
    "    s = sinceEpoch\n",
    "\n",
    "    year = date.year\n",
    "    startOfThisYear = datetime(year=year, month=1, day=1)\n",
    "    startOfNextYear = datetime(year=year+1, month=1, day=1)\n",
    "\n",
    "    yearElapsed = s(date) - s(startOfThisYear)\n",
    "    yearDuration = s(startOfNextYear) - s(startOfThisYear)\n",
    "    fraction = yearElapsed/yearDuration\n",
    "\n",
    "    return date.year + fraction"
   ]
  },
  {
   "cell_type": "code",
   "execution_count": null,
   "metadata": {},
   "outputs": [],
   "source": [
    "[toYearFraction(d) for d in time_df]"
   ]
  },
  {
   "cell_type": "code",
   "execution_count": null,
   "metadata": {},
   "outputs": [],
   "source": [
    "time_df"
   ]
  },
  {
   "cell_type": "code",
   "execution_count": null,
   "metadata": {},
   "outputs": [],
   "source": [
    "fig, ax = plt.subplots(3, 1, sharex=\"col\", sharey=\"row\", figsize=[4.75, 5.25])\n",
    "fig.subplots_adjust(hspace=0.05, wspace=0.30)\n",
    "\n",
    "\n",
    "# plot the samples from the gp posterior with samples and shading\n",
    "from pymc3.gp.util import plot_gp_dist\n",
    "plot_gp_dist(ax[0], pred_samples_db[\"f_pred\"], X_new, palette=\"Reds\");\n",
    "plot_gp_dist(ax[1], pred_samples_mo[\"f_pred\"], X_new, palette=\"Blues\");\n",
    "plot_gp_dist(ax[2], pred_samples_all[\"f_pred\"], X_new, palette=\"Greens\");\n",
    "\n",
    "# plot the data and the true latent function\n",
    "# plt.plot(X, f_true, \"dodgerblue\", lw=3, label=\"True f\");\n",
    "ax[0].plot(X_db, y_db, 'or', ms=3, alpha=0.5, label=\"Observed data Khazendar\");\n",
    "ax[1].plot(X_mo, y_mo, 'ob', ms=3, alpha=0.5, label=\"Observed data Motyka\");\n",
    "ax[2].plot(X_db, y_db, 'or', ms=3, alpha=0.5, label=\"Observed data Khazendar\");\n",
    "ax[2].plot(X_mo, y_mo, 'ob', ms=3, alpha=0.5, label=\"Observed data Motyka\");\n",
    "\n",
    "\n",
    "# axis labels and title\n",
    "ax[2].set_xlabel(\"Time\")\n",
    "ax[0].set_ylabel(\"Temperature (Celsius)\")\n",
    "ax[1].set_ylabel(\"Temperature (Celsius)\")\n",
    "ax[2].set_ylabel(\"Temperature (Celsius)\")\n",
    "\n",
    "ax[0].set_ylim(0, 5)\n",
    "ax[1].set_ylim(0, 5)\n",
    "ax[2].set_ylim(0, 5)"
   ]
  },
  {
   "cell_type": "code",
   "execution_count": null,
   "metadata": {},
   "outputs": [],
   "source": [
    "fig.savefig(\"disko-bay-mcmc.pdf\")"
   ]
  },
  {
   "cell_type": "markdown",
   "metadata": {},
   "source": [
    "How many samples should I draw? Is it the number of samples to use for the high-fidelity model forcing?"
   ]
  },
  {
   "cell_type": "code",
   "execution_count": null,
   "metadata": {},
   "outputs": [],
   "source": [
    "!open disko-bay-mcmc.pdf"
   ]
  },
  {
   "cell_type": "code",
   "execution_count": null,
   "metadata": {},
   "outputs": [],
   "source": [
    "fig.add_subplot?"
   ]
  },
  {
   "cell_type": "code",
   "execution_count": null,
   "metadata": {},
   "outputs": [],
   "source": [
    "pm.Normal?"
   ]
  },
  {
   "cell_type": "code",
   "execution_count": null,
   "metadata": {},
   "outputs": [],
   "source": [
    "# What is the \"nu\" for??\n",
    "with pm.Model() as gp:\n",
    "    ρ_db = pm.Gamma('ρ_db', 3, 2)\n",
    "    η_db = pm.Gamma('η_db', 2, 2)\n",
    "    K_db = pm.gp.cov.Matern32(1, ρ_db)\n",
    "    \n",
    "    ρ_mo = pm.Gamma('ρ_mo', 3, 2)\n",
    "    η_mo = pm.Gamma('η_mo', 3, 2)\n",
    "    K_mo = η_mo * pm.gp.cov.Matern32(1, ρ_mo)\n",
    "\n",
    "    # Noise\n",
    "    σ = pm.Normal('σ', 0.2)\n",
    "    \n",
    "    gp_db = pm.gp.Marginal(cov_func=K_db)\n",
    "    gp_mo = pm.gp.Marginal(cov_func=K_mo)\n",
    "\n",
    "    gp = gp_db + gp_mo\n",
    "    \n",
    "    y_ = gp.marginal_likelihood(\"y\", X=X_all, y=y_all, noise=σ)\n",
    "        \n",
    "    # conditional distributions of f1 and f2\n",
    "    f1_star = gp_db.conditional(\"f1_star\", X_new,\n",
    "                              given={\"X\": X_db, \"y\": y_db, \"noise\": σ, \"gp\": gp})\n",
    "    f2_star = gp_mo.conditional(\"f2_star\", X_new,\n",
    "                              given={\"X\": X_mo, \"y\": y_mo, \"noise\": σ, \"gp\": gp})\n",
    "\n",
    "    # conditional of f1 + f2, `given` not required\n",
    "    f_star = gp.conditional(\"f_star\", X_new)\n",
    "    \n",
    "    mp = pm.find_MAP()\n",
    "    pred_samples = pm.sample_posterior_predictive([mp], vars=[f_star], samples=2000)"
   ]
  },
  {
   "cell_type": "code",
   "execution_count": null,
   "metadata": {},
   "outputs": [],
   "source": [
    "fig, ax = plt.subplots(2, 1, sharex=\"col\", sharey=\"row\", figsize=[4.75, 5.25])\n",
    "fig.subplots_adjust(hspace=0.25, wspace=0.35)\n",
    "\n",
    "\n",
    "# plot the samples from the gp posterior with samples and shading\n",
    "from pymc3.gp.util import plot_gp_dist\n",
    "plot_gp_dist(ax[0], pred_samples_all[\"f_pred\"], X_new, palette=\"Greens\");\n",
    "plot_gp_dist(ax[1], pred_samples[\"f_star\"], X_new, palette=\"Blues\");\n",
    "\n",
    "\n",
    "# plot the data and the true latent function\n",
    "# plt.plot(X, f_true, \"dodgerblue\", lw=3, label=\"True f\");\n",
    "ax[0].plot(X_db, y_db, 'or', ms=3, alpha=0.5, label=\"Observed data Khazendar\");\n",
    "ax[0].plot(X_mo, y_mo, 'ob', ms=3, alpha=0.5, label=\"Observed data Motyka\");\n",
    "ax[1].plot(X_db, y_db, 'or', ms=3, alpha=0.5, label=\"Observed data Khazendar\");\n",
    "ax[1].plot(X_mo, y_mo, 'ob', ms=3, alpha=0.5, label=\"Observed data Motyka\");\n",
    "\n",
    "\n",
    "\n",
    "# axis labels and title\n",
    "ax[1].set_xlabel(\"Time\")\n",
    "ax[0].set_ylabel(\"Temperature (Celsius)\")\n",
    "ax[1].set_ylabel(\"Temperature (Celsius)\")\n",
    "\n",
    "ax[0].set_ylim(0, 5)\n",
    "ax[1].set_ylim(0, 5)\n"
   ]
  },
  {
   "cell_type": "code",
   "execution_count": null,
   "metadata": {},
   "outputs": [],
   "source": [
    "run create_disko_bay_timeseries.py"
   ]
  },
  {
   "cell_type": "code",
   "execution_count": null,
   "metadata": {},
   "outputs": [],
   "source": [
    "        theta_ocean = temperate - melting_point_temperature(depth, salinity)\n"
   ]
  },
  {
   "cell_type": "code",
   "execution_count": null,
   "metadata": {},
   "outputs": [],
   "source": [
    "NC?"
   ]
  },
  {
   "cell_type": "code",
   "execution_count": null,
   "metadata": {},
   "outputs": [],
   "source": [
    "nx = 3\n",
    "ny = 4\n",
    "nt = len(theta_ocean)\n",
    "np.repeat(theta_ocean, nx*ny).reshape(nt, ny, nx).shape"
   ]
  },
  {
   "cell_type": "code",
   "execution_count": null,
   "metadata": {},
   "outputs": [],
   "source": [
    "time_interval_since_refdate"
   ]
  },
  {
   "cell_type": "code",
   "execution_count": null,
   "metadata": {},
   "outputs": [],
   "source": [
    "len(bnds_interval_since_refdate)"
   ]
  },
  {
   "cell_type": "code",
   "execution_count": null,
   "metadata": {},
   "outputs": [],
   "source": [
    "    start_date = datetime(1980, 1, 1)\n",
    "    end_date = datetime(2020, 1, 1)\n",
    "    end_date_yearly = datetime(2020, 1, 1)\n",
    "\n",
    "    # create list with dates from start_date until end_date with\n",
    "    # periodicity prule.\n",
    "    bnds_datelist = list(rrule.rrule(rrule.MONTHLY, dtstart=start_date, until=end_date_yearly))\n",
    "    bnds_datelist_yearly = list(rrule.rrule(rrule.YEARLY, dtstart=start_date, until=end_date_yearly))\n",
    "\n",
    "    # calculate the days since refdate, including refdate, with time being the\n",
    "    bnds_interval_since_refdate = cdftime_days.date2num(bnds_datelist)\n",
    "    bnds_interval_since_refdate_yearly = cdftime_days.date2num(bnds_datelist_yearly)\n",
    "    time_interval_since_refdate = bnds_interval_since_refdate[0:-1] + np.diff(bnds_interval_since_refdate) / 2\n"
   ]
  },
  {
   "cell_type": "code",
   "execution_count": null,
   "metadata": {},
   "outputs": [],
   "source": [
    "    start_date = datetime(1980, 1, 1)\n",
    "    end_date = datetime(2020, 1, 1)\n",
    "    end_date_yearly = datetime(2020, 1, 2)\n",
    "\n",
    "    # create list with dates from start_date until end_date with\n",
    "    # periodicity prule.\n",
    "    bnds_datelist = list(rrule.rrule(rrule.MONTHLY, dtstart=start_date, until=end_date))\n",
    "    bnds_datelist_yearly = list(rrule.rrule(rrule.YEARLY, dtstart=start_date, until=end_date_yearly))\n",
    "\n",
    "    # calculate the days since refdate, including refdate, with time being the\n",
    "    bnds_interval_since_refdate = cdftime_days.date2num(bnds_datelist)\n",
    "    bnds_interval_since_refdate_yearly = cdftime_days.date2num(bnds_datelist_yearly)\n",
    "    time_interval_since_refdate = bnds_interval_since_refdate[0:-1] + np.diff(bnds_interval_since_refdate) / 2\n",
    "\n",
    "    time_dict = {\n",
    "        \"calendar\": calendar,\n",
    "        \"units\": units,\n",
    "        \"time\": time_interval_since_refdate,\n",
    "        \"time_bnds\": bnds_interval_since_refdate,\n",
    "    }\n",
    "\n",
    "    dpy = np.diff(bnds_interval_since_refdate_yearly)\n",
    "    dpy = np.repeat(dpy, 12, axis=0)\n",
    "\n",
    "    decimal_time = bnds_interval_since_refdate[0:-1] / dpy + 1980\n"
   ]
  },
  {
   "cell_type": "code",
   "execution_count": null,
   "metadata": {},
   "outputs": [],
   "source": [
    "pm.gp.cov."
   ]
  },
  {
   "cell_type": "code",
   "execution_count": null,
   "metadata": {},
   "outputs": [],
   "source": [
    "len(bnds_interval_since_refdate[0:-1])"
   ]
  },
  {
   "cell_type": "code",
   "execution_count": 1,
   "metadata": {},
   "outputs": [
    {
     "name": "stdout",
     "output_type": "stream",
     "text": [
      "Processing /Volumes/files/allData/omg/L2/CTD/AXCTD/OMG_Ocean_AXCTD_L2_20171023170447.nc\n",
      "Processing /Volumes/files/allData/omg/L2/CTD/AXCTD/OMG_Ocean_AXCTD_L2_20171014164755.nc\n"
     ]
    },
    {
     "name": "stderr",
     "output_type": "stream",
     "text": [
      "/Volumes/zachariae/crios2pism/data_sets/ocean/prepare_omg.py:24: UserWarning: WARNING: valid_min not used since it\n",
      "cannot be safely cast to variable data type\n",
      "  temperature = np.squeeze(nc.variables[\"temperature\"][:]).reshape(-1, 1)\n",
      "/Volumes/zachariae/crios2pism/data_sets/ocean/prepare_omg.py:25: DeprecationWarning: tostring() is deprecated. Use tobytes() instead.\n",
      "  lat = np.repeat(nc.geospatial_lat_min, n).reshape(-1, 1)\n",
      "/Volumes/zachariae/crios2pism/data_sets/ocean/prepare_omg.py:26: DeprecationWarning: tostring() is deprecated. Use tobytes() instead.\n",
      "  lon = np.repeat(nc.geospatial_lon_min, n).reshape(-1, 1)\n",
      "/Volumes/zachariae/crios2pism/data_sets/ocean/prepare_omg.py:27: DeprecationWarning: tostring() is deprecated. Use tobytes() instead.\n",
      "  time = np.repeat(nc.time_coverage_start, n).reshape(-1, 1)\n"
     ]
    },
    {
     "name": "stdout",
     "output_type": "stream",
     "text": [
      "Processing /Volumes/files/allData/omg/L2/CTD/AXCTD/OMG_Ocean_AXCTD_L2_20171014134531.nc\n",
      "Processing /Volumes/files/allData/omg/L2/CTD/AXCTD/OMG_Ocean_AXCTD_L2_20171019160601.nc\n",
      "Processing /Volumes/files/allData/omg/L2/CTD/AXCTD/OMG_Ocean_AXCTD_L2_20171016151617.nc\n",
      "Processing /Volumes/files/allData/omg/L2/CTD/AXCTD/OMG_Ocean_AXCTD_L2_20171018172739.nc\n",
      "Processing /Volumes/files/allData/omg/L2/CTD/AXCTD/OMG_Ocean_AXCTD_L2_20171017161959.nc\n",
      "Processing /Volumes/files/allData/omg/L2/CTD/AXCTD/OMG_Ocean_AXCTD_L2_20171018153909.nc\n",
      "Processing /Volumes/files/allData/omg/L2/CTD/AXCTD/OMG_Ocean_AXCTD_L2_20171018140759.nc\n",
      "Processing /Volumes/files/allData/omg/L2/CTD/AXCTD/OMG_Ocean_AXCTD_L2_20171014101700.nc\n",
      "Processing /Volumes/files/allData/omg/L2/CTD/AXCTD/OMG_Ocean_AXCTD_L2_20171018113411.nc\n",
      "Processing /Volumes/files/allData/omg/L2/CTD/AXCTD/OMG_Ocean_AXCTD_L2_20171018114821.nc\n",
      "Processing /Volumes/files/allData/omg/L2/CTD/AXCTD/OMG_Ocean_AXCTD_L2_20171018164026.nc\n",
      "Processing /Volumes/files/allData/omg/L2/CTD/AXCTD/OMG_Ocean_AXCTD_L2_20171014154830.nc\n",
      "Processing /Volumes/files/allData/omg/L2/CTD/AXCTD/OMG_Ocean_AXCTD_L2_20171018131655.nc\n",
      "Processing /Volumes/files/allData/omg/L2/CTD/AXCTD/OMG_Ocean_AXCTD_L2_20171018163342.nc\n",
      "Processing /Volumes/files/allData/omg/L2/CTD/AXCTD/OMG_Ocean_AXCTD_L2_20171015102129.nc\n",
      "Processing /Volumes/files/allData/omg/L2/CTD/AXCTD/OMG_Ocean_AXCTD_L2_20171023175750.nc\n",
      "Processing /Volumes/files/allData/omg/L2/CTD/AXCTD/OMG_Ocean_AXCTD_L2_20171014121225.nc\n",
      "Processing /Volumes/files/allData/omg/L2/CTD/AXCTD/OMG_Ocean_AXCTD_L2_20171019140739.nc\n",
      "Processing /Volumes/files/allData/omg/L2/CTD/AXCTD/OMG_Ocean_AXCTD_L2_20171023151212.nc\n",
      "Processing /Volumes/files/allData/omg/L2/CTD/AXCTD/OMG_Ocean_AXCTD_L2_20171015144938.nc\n",
      "Processing /Volumes/files/allData/omg/L2/CTD/AXCTD/OMG_Ocean_AXCTD_L2_20171014151730.nc\n",
      "Processing /Volumes/files/allData/omg/L2/CTD/AXCTD/OMG_Ocean_AXCTD_L2_20171015104006.nc\n",
      "Processing /Volumes/files/allData/omg/L2/CTD/AXCTD/OMG_Ocean_AXCTD_L2_20171019161921.nc\n",
      "Processing /Volumes/files/allData/omg/L2/CTD/AXCTD/OMG_Ocean_AXCTD_L2_20171014114922.nc\n",
      "Processing /Volumes/files/allData/omg/L2/CTD/AXCTD/OMG_Ocean_AXCTD_L2_20171015110445.nc\n",
      "Processing /Volumes/files/allData/omg/L2/CTD/AXCTD/OMG_Ocean_AXCTD_L2_20171016102739.nc\n",
      "Processing /Volumes/files/allData/omg/L2/CTD/AXCTD/OMG_Ocean_AXCTD_L2_20171014112808.nc\n",
      "Processing /Volumes/files/allData/omg/L2/CTD/AXCTD/OMG_Ocean_AXCTD_L2_20171016113131.nc\n",
      "Processing /Volumes/files/allData/omg/L2/CTD/AXCTD/OMG_Ocean_AXCTD_L2_20171015152820.nc\n",
      "Processing /Volumes/files/allData/omg/L2/CTD/AXCTD/OMG_Ocean_AXCTD_L2_20171014122145.nc\n",
      "Processing /Volumes/files/allData/omg/L2/CTD/AXCTD/OMG_Ocean_AXCTD_L2_20171018170019.nc\n",
      "Processing /Volumes/files/allData/omg/L2/CTD/AXCTD/OMG_Ocean_AXCTD_L2_20171014132403.nc\n",
      "Processing /Volumes/files/allData/omg/L2/CTD/AXCTD/OMG_Ocean_AXCTD_L2_20171018145516.nc\n",
      "Processing /Volumes/files/allData/omg/L2/CTD/AXCTD/OMG_Ocean_AXCTD_L2_20171017155358.nc\n",
      "Processing /Volumes/files/allData/omg/L2/CTD/AXCTD/OMG_Ocean_AXCTD_L2_20171014085527.nc\n",
      "Processing /Volumes/files/allData/omg/L2/CTD/AXCTD/OMG_Ocean_AXCTD_L2_20171016105358.nc\n",
      "Processing /Volumes/files/allData/omg/L2/CTD/AXCTD/OMG_Ocean_AXCTD_L2_20171018122033.nc\n",
      "Processing /Volumes/files/allData/omg/L2/CTD/AXCTD/OMG_Ocean_AXCTD_L2_20171019154153.nc\n",
      "Processing /Volumes/files/allData/omg/L2/CTD/AXCTD/OMG_Ocean_AXCTD_L2_20171014135013.nc\n",
      "Processing /Volumes/files/allData/omg/L2/CTD/AXCTD/OMG_Ocean_AXCTD_L2_20171023150521.nc\n",
      "Processing /Volumes/files/allData/omg/L2/CTD/AXCTD/OMG_Ocean_AXCTD_L2_20171018170913.nc\n",
      "Processing /Volumes/files/allData/omg/L2/CTD/AXCTD/OMG_Ocean_AXCTD_L2_20171015093321.nc\n",
      "Processing /Volumes/files/allData/omg/L2/CTD/AXCTD/OMG_Ocean_AXCTD_L2_20171023153140.nc\n",
      "Processing /Volumes/files/allData/omg/L2/CTD/AXCTD/OMG_Ocean_AXCTD_L2_20171018115000.nc\n",
      "Processing /Volumes/files/allData/omg/L2/CTD/AXCTD/OMG_Ocean_AXCTD_L2_20171015115705.nc\n",
      "Processing /Volumes/files/allData/omg/L2/CTD/AXCTD/OMG_Ocean_AXCTD_L2_20171019132027.nc\n",
      "Processing /Volumes/files/allData/omg/L2/CTD/AXCTD/OMG_Ocean_AXCTD_L2_20171014141411.nc\n",
      "Processing /Volumes/files/allData/omg/L2/CTD/AXCTD/OMG_Ocean_AXCTD_L2_20171014154057.nc\n",
      "Processing /Volumes/files/allData/omg/L2/CTD/AXCTD/OMG_Ocean_AXCTD_L2_20171023150717.nc\n",
      "Processing /Volumes/files/allData/omg/L2/CTD/AXCTD/OMG_Ocean_AXCTD_L2_20171014123444.nc\n",
      "Processing /Volumes/files/allData/omg/L2/CTD/AXCTD/OMG_Ocean_AXCTD_L2_20171016110453.nc\n",
      "Processing /Volumes/files/allData/omg/L2/CTD/AXCTD/OMG_Ocean_AXCTD_L2_20171018124722.nc\n",
      "Processing /Volumes/files/allData/omg/L2/CTD/AXCTD/OMG_Ocean_AXCTD_L2_20171014114232.nc\n",
      "Processing /Volumes/files/allData/omg/L2/CTD/AXCTD/OMG_Ocean_AXCTD_L2_20171023172546.nc\n",
      "Processing /Volumes/files/allData/omg/L2/CTD/AXCTD/OMG_Ocean_AXCTD_L2_20171014095426.nc\n",
      "Processing /Volumes/files/allData/omg/L2/CTD/AXCTD/OMG_Ocean_AXCTD_L2_20171018171852.nc\n",
      "Processing /Volumes/files/allData/omg/L2/CTD/AXCTD/OMG_Ocean_AXCTD_L2_20171018174249.nc\n",
      "Processing /Volumes/files/allData/omg/L2/CTD/AXCTD/OMG_Ocean_AXCTD_L2_20171015150956.nc\n",
      "Processing /Volumes/files/allData/omg/L2/CTD/AXCTD/OMG_Ocean_AXCTD_L2_20171023143638.nc\n",
      "Processing /Volumes/files/allData/omg/L2/CTD/AXCTD/OMG_Ocean_AXCTD_L2_20171014140506.nc\n",
      "Processing /Volumes/files/allData/omg/L2/CTD/AXCTD/OMG_Ocean_AXCTD_L2_20171018125131.nc\n",
      "Processing /Volumes/files/allData/omg/L2/CTD/AXCTD/OMG_Ocean_AXCTD_L2_20171014104747.nc\n",
      "Processing /Volumes/files/allData/omg/L2/CTD/AXCTD/OMG_Ocean_AXCTD_L2_20171015103501.nc\n",
      "Processing /Volumes/files/allData/omg/L2/CTD/AXCTD/OMG_Ocean_AXCTD_L2_20171015144037.nc\n",
      "Processing /Volumes/files/allData/omg/L2/CTD/AXCTD/OMG_Ocean_AXCTD_L2_20171023132003.nc\n",
      "Processing /Volumes/files/allData/omg/L2/CTD/AXCTD/OMG_Ocean_AXCTD_L2_20171016110925.nc\n",
      "Processing /Volumes/files/allData/omg/L2/CTD/AXCTD/OMG_Ocean_AXCTD_L2_20171015102805.nc\n",
      "Processing /Volumes/files/allData/omg/L2/CTD/AXCTD/OMG_Ocean_AXCTD_L2_20171018114550.nc\n",
      "Processing /Volumes/files/allData/omg/L2/CTD/AXCTD/OMG_Ocean_AXCTD_L2_20171023144948.nc\n",
      "Processing /Volumes/files/allData/omg/L2/CTD/AXCTD/OMG_Ocean_AXCTD_L2_20171014170944.nc\n",
      "Processing /Volumes/files/allData/omg/L2/CTD/AXCTD/OMG_Ocean_AXCTD_L2_20171016125338.nc\n",
      "Processing /Volumes/files/allData/omg/L2/CTD/AXCTD/OMG_Ocean_AXCTD_L2_20171023173533.nc\n",
      "Processing /Volumes/files/allData/omg/L2/CTD/AXCTD/OMG_Ocean_AXCTD_L2_20171023174710.nc\n",
      "Processing /Volumes/files/allData/omg/L2/CTD/AXCTD/OMG_Ocean_AXCTD_L2_20171014111654.nc\n",
      "Processing /Volumes/files/allData/omg/L2/CTD/AXCTD/OMG_Ocean_AXCTD_L2_20171014135845.nc\n",
      "Processing /Volumes/files/allData/omg/L2/CTD/AXCTD/OMG_Ocean_AXCTD_L2_20171014090338.nc\n",
      "Processing /Volumes/files/allData/omg/L2/CTD/AXCTD/OMG_Ocean_AXCTD_L2_20171014150805.nc\n",
      "Processing /Volumes/files/allData/omg/L2/CTD/AXCTD/OMG_Ocean_AXCTD_L2_20171023165142.nc\n",
      "Processing /Volumes/files/allData/omg/L2/CTD/AXCTD/OMG_Ocean_AXCTD_L2_20171015141959.nc\n",
      "Processing /Volumes/files/allData/omg/L2/CTD/AXCTD/OMG_Ocean_AXCTD_L2_20171015153713.nc\n",
      "Processing /Volumes/files/allData/omg/L2/CTD/AXCTD/OMG_Ocean_AXCTD_L2_20171023133532.nc\n",
      "Processing /Volumes/files/allData/omg/L2/CTD/AXCTD/OMG_Ocean_AXCTD_L2_20171016143109.nc\n",
      "Processing /Volumes/files/allData/omg/L2/CTD/AXCTD/OMG_Ocean_AXCTD_L2_20171018150222.nc\n",
      "Processing /Volumes/files/allData/omg/L2/CTD/AXCTD/OMG_Ocean_AXCTD_L2_20171019125245.nc\n",
      "Processing /Volumes/files/allData/omg/L2/CTD/AXCTD/OMG_Ocean_AXCTD_L2_20171023163626.nc\n",
      "Processing /Volumes/files/allData/omg/L2/CTD/AXCTD/OMG_Ocean_AXCTD_L2_20171018160307.nc\n",
      "Processing /Volumes/files/allData/omg/L2/CTD/AXCTD/OMG_Ocean_AXCTD_L2_20171014120014.nc\n",
      "Processing /Volumes/files/allData/omg/L2/CTD/AXCTD/OMG_Ocean_AXCTD_L2_20171014113351.nc\n",
      "Processing /Volumes/files/allData/omg/L2/CTD/AXCTD/OMG_Ocean_AXCTD_L2_20171018173709.nc\n",
      "Processing /Volumes/files/allData/omg/L2/CTD/AXCTD/OMG_Ocean_AXCTD_L2_20171016130337.nc\n",
      "Processing /Volumes/files/allData/omg/L2/CTD/AXCTD/OMG_Ocean_AXCTD_L2_20171018142150.nc\n",
      "Processing /Volumes/files/allData/omg/L2/CTD/AXCTD/OMG_Ocean_AXCTD_L2_20171018162235.nc\n",
      "Processing /Volumes/files/allData/omg/L2/CTD/AXCTD/OMG_Ocean_AXCTD_L2_20171014151151.nc\n",
      "Processing /Volumes/files/allData/omg/L2/CTD/AXCTD/OMG_Ocean_AXCTD_L2_20171017155944.nc\n"
     ]
    },
    {
     "name": "stdout",
     "output_type": "stream",
     "text": [
      "Processing /Volumes/files/allData/omg/L2/CTD/AXCTD/OMG_Ocean_AXCTD_L2_20171019145057.nc\n",
      "Processing /Volumes/files/allData/omg/L2/CTD/AXCTD/OMG_Ocean_AXCTD_L2_20171018144247.nc\n",
      "Processing /Volumes/files/allData/omg/L2/CTD/AXCTD/OMG_Ocean_AXCTD_L2_20171014152026.nc\n",
      "Processing /Volumes/files/allData/omg/L2/CTD/AXCTD/OMG_Ocean_AXCTD_L2_20171019151620.nc\n",
      "Processing /Volumes/files/allData/omg/L2/CTD/AXCTD/OMG_Ocean_AXCTD_L2_20171014141743.nc\n",
      "Processing /Volumes/files/allData/omg/L2/CTD/AXCTD/OMG_Ocean_AXCTD_L2_20171023153028.nc\n",
      "Processing /Volumes/files/allData/omg/L2/CTD/AXCTD/OMG_Ocean_AXCTD_L2_20171014105649.nc\n",
      "Processing /Volumes/files/allData/omg/L2/CTD/AXCTD/OMG_Ocean_AXCTD_L2_20171014094217.nc\n",
      "Processing /Volumes/files/allData/omg/L2/CTD/AXCTD/OMG_Ocean_AXCTD_L2_20171023161628.nc\n",
      "Processing /Volumes/files/allData/omg/L2/CTD/AXCTD/OMG_Ocean_AXCTD_L2_20171018154526.nc\n",
      "Processing /Volumes/files/allData/omg/L2/CTD/AXCTD/OMG_Ocean_AXCTD_L2_20171016122834.nc\n",
      "Processing /Volumes/files/allData/omg/L2/CTD/AXCTD/OMG_Ocean_AXCTD_L2_20171019134103.nc\n",
      "Processing /Volumes/files/allData/omg/L2/CTD/AXCTD/OMG_Ocean_AXCTD_L2_20171018124003.nc\n",
      "Processing /Volumes/files/allData/omg/L2/CTD/AXCTD/OMG_Ocean_AXCTD_L2_20171015095816.nc\n",
      "Processing /Volumes/files/allData/omg/L2/CTD/AXCTD/OMG_Ocean_AXCTD_L2_20171014131111.nc\n",
      "Processing /Volumes/files/allData/omg/L2/CTD/AXCTD/OMG_Ocean_AXCTD_L2_20171016141027.nc\n",
      "Processing /Volumes/files/allData/omg/L2/CTD/AXCTD/OMG_Ocean_AXCTD_L2_20171014100757.nc\n",
      "Processing /Volumes/files/allData/omg/L2/CTD/AXCTD/OMG_Ocean_AXCTD_L2_20171018134450.nc\n",
      "Processing /Volumes/files/allData/omg/L2/CTD/AXCTD/OMG_Ocean_AXCTD_L2_20171019141955.nc\n",
      "Processing /Volumes/files/allData/omg/L2/CTD/AXCTD/OMG_Ocean_AXCTD_L2_20171019152327.nc\n",
      "Processing /Volumes/files/allData/omg/L2/CTD/AXCTD/OMG_Ocean_AXCTD_L2_20171018140415.nc\n",
      "Processing /Volumes/files/allData/omg/L2/CTD/AXCTD/OMG_Ocean_AXCTD_L2_20171014091253.nc\n",
      "Processing /Volumes/files/allData/omg/L2/CTD/AXCTD/OMG_Ocean_AXCTD_L2_20171018145112.nc\n",
      "Processing /Volumes/files/allData/omg/L2/CTD/AXCTD/OMG_Ocean_AXCTD_L2_20171023161243.nc\n",
      "Processing /Volumes/files/allData/omg/L2/CTD/AXCTD/OMG_Ocean_AXCTD_L2_20171015121330.nc\n",
      "Processing /Volumes/files/allData/omg/L2/CTD/AXCTD/OMG_Ocean_AXCTD_L2_20171018130059.nc\n",
      "Processing /Volumes/files/allData/omg/L2/CTD/AXCTD/OMG_Ocean_AXCTD_L2_20171015123129.nc\n",
      "Processing /Volumes/files/allData/omg/L2/CTD/AXCTD/OMG_Ocean_AXCTD_L2_20171023144354.nc\n",
      "Processing /Volumes/files/allData/omg/L2/CTD/AXCTD/OMG_Ocean_AXCTD_L2_20171014150101.nc\n",
      "Processing /Volumes/files/allData/omg/L2/CTD/AXCTD/OMG_Ocean_AXCTD_L2_20171015100856.nc\n",
      "Processing /Volumes/files/allData/omg/L2/CTD/AXCTD/OMG_Ocean_AXCTD_L2_20171015150155.nc\n",
      "Processing /Volumes/files/allData/omg/L2/CTD/AXCTD/OMG_Ocean_AXCTD_L2_20171023154358.nc\n",
      "Processing /Volumes/files/allData/omg/L2/CTD/AXCTD/OMG_Ocean_AXCTD_L2_20171016114215.nc\n",
      "Processing /Volumes/files/allData/omg/L2/CTD/AXCTD/OMG_Ocean_AXCTD_L2_20171015132717.nc\n",
      "Processing /Volumes/files/allData/omg/L2/CTD/AXCTD/OMG_Ocean_AXCTD_L2_20171019134833.nc\n",
      "Processing /Volumes/files/allData/omg/L2/CTD/AXCTD/OMG_Ocean_AXCTD_L2_20171023133713.nc\n",
      "Processing /Volumes/files/allData/omg/L2/CTD/AXCTD/OMG_Ocean_AXCTD_L2_20171016135402.nc\n",
      "Processing /Volumes/files/allData/omg/L2/CTD/AXCTD/OMG_Ocean_AXCTD_L2_20171015134716.nc\n",
      "Processing /Volumes/files/allData/omg/L2/CTD/AXCTD/OMG_Ocean_AXCTD_L2_20171016132831.nc\n",
      "Processing /Volumes/files/allData/omg/L2/CTD/AXCTD/OMG_Ocean_AXCTD_L2_20171018151826.nc\n",
      "Processing /Volumes/files/allData/omg/L2/CTD/AXCTD/OMG_Ocean_AXCTD_L2_20171014161828.nc\n",
      "Processing /Volumes/files/allData/omg/L2/CTD/AXCTD/OMG_Ocean_AXCTD_L2_20171014093103.nc\n",
      "Processing /Volumes/files/allData/omg/L2/CTD/AXCTD/OMG_Ocean_AXCTD_L2_20171015131646.nc\n",
      "Processing /Volumes/files/allData/omg/L2/CTD/AXCTD/OMG_Ocean_AXCTD_L2_20171018153126.nc\n",
      "Processing /Volumes/files/allData/omg/L2/CTD/AXCTD/OMG_Ocean_AXCTD_L2_20171018161324.nc\n",
      "Processing /Volumes/files/allData/omg/L2/CTD/AXCTD/OMG_Ocean_AXCTD_L2_20171017152613.nc\n",
      "Processing /Volumes/files/allData/omg/L2/CTD/AXCTD/OMG_Ocean_AXCTD_L2_20171014122739.nc\n",
      "Processing /Volumes/files/allData/omg/L2/CTD/AXCTD/OMG_Ocean_AXCTD_L2_20171014150351.nc\n",
      "Processing /Volumes/files/allData/omg/L2/CTD/AXCTD/OMG_Ocean_AXCTD_L2_20171023154955.nc\n",
      "Processing /Volumes/files/allData/omg/L2/CTD/AXCTD/OMG_Ocean_AXCTD_L2_20171014092440.nc\n",
      "Processing /Volumes/files/allData/omg/L2/CTD/AXCTD/OMG_Ocean_AXCTD_L2_20171014160853.nc\n",
      "Processing /Volumes/files/allData/omg/L2/CTD/AXCTD/OMG_Ocean_AXCTD_L2_20171014104210.nc\n",
      "Processing /Volumes/files/allData/omg/L2/CTD/AXCTD/OMG_Ocean_AXCTD_L2_20171018141538.nc\n",
      "Processing /Volumes/files/allData/omg/L2/CTD/AXCTD/OMG_Ocean_AXCTD_L2_20171016124238.nc\n",
      "Processing /Volumes/files/allData/omg/L2/CTD/AXCTD/OMG_Ocean_AXCTD_L2_20171016144117.nc\n",
      "Processing /Volumes/files/allData/omg/L2/CTD/AXCTD/OMG_Ocean_AXCTD_L2_20171023131753.nc\n",
      "Processing /Volumes/files/allData/omg/L2/CTD/AXCTD/OMG_Ocean_AXCTD_L2_20171018125724.nc\n",
      "Processing /Volumes/files/allData/omg/L2/CTD/AXCTD/OMG_Ocean_AXCTD_L2_20171023155547.nc\n",
      "Processing /Volumes/files/allData/omg/L2/CTD/AXCTD/OMG_Ocean_AXCTD_L2_20171014163934.nc\n",
      "Processing /Volumes/files/allData/omg/L2/CTD/AXCTD/OMG_Ocean_AXCTD_L2_20171014142647.nc\n",
      "Processing /Volumes/files/allData/omg/L2/CTD/AXCTD/OMG_Ocean_AXCTD_L2_20171023162456.nc\n",
      "Processing /Volumes/files/allData/omg/L2/CTD/AXCTD/OMG_Ocean_AXCTD_L2_20171018144708.nc\n",
      "Processing /Volumes/files/allData/omg/L2/CTD/AXCTD/OMG_Ocean_AXCTD_L2_20171015110812.nc\n",
      "Processing /Volumes/files/allData/omg/L2/CTD/AXCTD/OMG_Ocean_AXCTD_L2_20171016121232.nc\n",
      "Processing /Volumes/files/allData/omg/L2/CTD/AXCTD/OMG_Ocean_AXCTD_L2_20171014124557.nc\n",
      "Processing /Volumes/files/allData/omg/L2/CTD/AXCTD/OMG_Ocean_AXCTD_L2_20171016132004.nc\n",
      "Processing /Volumes/files/allData/omg/L2/CTD/AXCTD/OMG_Ocean_AXCTD_L2_20171018132130.nc\n",
      "Processing /Volumes/files/allData/omg/L2/CTD/AXCTD/OMG_Ocean_AXCTD_L2_20171016131327.nc\n",
      "Processing /Volumes/files/allData/omg/L2/CTD/AXCTD/OMG_Ocean_AXCTD_L2_20171018131341.nc\n",
      "Processing /Volumes/files/allData/omg/L2/CTD/AXCTD/OMG_Ocean_AXCTD_L2_20171015122319.nc\n",
      "Processing /Volumes/files/allData/omg/L2/CTD/AXCTD/OMG_Ocean_AXCTD_L2_20171014103125.nc\n",
      "Processing /Volumes/files/allData/omg/L2/CTD/AXCTD/OMG_Ocean_AXCTD_L2_20171016142122.nc\n",
      "Processing /Volumes/files/allData/omg/L2/CTD/AXCTD/OMG_Ocean_AXCTD_L2_20171018175437.nc\n",
      "Processing /Volumes/files/allData/omg/L2/CTD/AXCTD/OMG_Ocean_AXCTD_L2_20171014091925.nc\n",
      "Processing /Volumes/files/allData/omg/L2/CTD/AXCTD/OMG_Ocean_AXCTD_L2_20171015120226.nc\n",
      "Processing /Volumes/files/allData/omg/L2/CTD/AXCTD/OMG_Ocean_AXCTD_L2_20171014131724.nc\n",
      "Processing /Volumes/files/allData/omg/L2/CTD/AXCTD/OMG_Ocean_AXCTD_L2_20171019132539.nc\n",
      "Processing /Volumes/files/allData/omg/L2/CTD/AXCTD/OMG_Ocean_AXCTD_L2_20171014171931.nc\n",
      "Processing /Volumes/files/allData/omg/L2/CTD/AXCTD/OMG_Ocean_AXCTD_L2_20171014130222.nc\n",
      "Processing /Volumes/files/allData/omg/L2/CTD/AXCTD/OMG_Ocean_AXCTD_L2_20171023143908.nc\n",
      "Processing /Volumes/files/allData/omg/L2/CTD/AXCTD/OMG_Ocean_AXCTD_L2_20171014124036.nc\n",
      "Processing /Volumes/files/allData/omg/L2/CTD/AXCTD/OMG_Ocean_AXCTD_L2_20171023171507.nc\n",
      "Processing /Volumes/files/allData/omg/L2/CTD/AXCTD/OMG_Ocean_AXCTD_L2_20171018122743.nc\n",
      "Processing /Volumes/files/allData/omg/L2/CTD/AXCTD/OMG_Ocean_AXCTD_L2_20171018133648.nc\n",
      "Processing /Volumes/files/allData/omg/L2/CTD/AXCTD/OMG_Ocean_AXCTD_L2_20171023151852.nc\n",
      "Processing /Volumes/files/allData/omg/L2/CTD/AXCTD/OMG_Ocean_AXCTD_L2_20171023132203.nc\n",
      "Processing /Volumes/files/allData/omg/L2/CTD/AXCTD/OMG_Ocean_AXCTD_L2_20171019143517.nc\n",
      "Processing /Volumes/files/allData/omg/L2/CTD/AXCTD/OMG_Ocean_AXCTD_L2_20171019145906.nc\n",
      "Processing /Volumes/files/allData/omg/L2/CTD/AXCTD/OMG_Ocean_AXCTD_L2_20171015143222.nc\n",
      "Processing /Volumes/files/allData/omg/L2/CTD/AXCTD/OMG_Ocean_AXCTD_L2_20171018142823.nc\n",
      "Processing /Volumes/files/allData/omg/L2/CTD/AXCTD/OMG_Ocean_AXCTD_L2_20171023153304.nc\n",
      "Processing /Volumes/files/allData/omg/L2/CTD/AXCTD/OMG_Ocean_AXCTD_L2_20171019132302.nc\n",
      "Processing /Volumes/files/allData/omg/L2/CTD/AXCTD/OMG_Ocean_AXCTD_L2_20171014143509.nc\n",
      "Processing /Volumes/files/allData/omg/L2/CTD/AXCTD/OMG_Ocean_AXCTD_L2_20171018132603.nc\n"
     ]
    },
    {
     "name": "stdout",
     "output_type": "stream",
     "text": [
      "Processing /Volumes/files/allData/omg/L2/CTD/AXCTD/OMG_Ocean_AXCTD_L2_20171015101527.nc\n",
      "Processing /Volumes/files/allData/omg/L2/CTD/AXCTD/OMG_Ocean_AXCTD_L2_20171017161013.nc\n",
      "Processing /Volumes/files/allData/omg/L2/CTD/AXCTD/OMG_Ocean_AXCTD_L2_20171023165722.nc\n",
      "Processing /Volumes/files/allData/omg/L2/CTD/AXCTD/OMG_Ocean_AXCTD_L2_20171018135128.nc\n",
      "Processing /Volumes/files/allData/omg/L2/CTD/AXCTD/OMG_Ocean_AXCTD_L2_20171023161928.nc\n",
      "Processing /Volumes/files/allData/omg/L2/CTD/AXCTD/OMG_Ocean_AXCTD_L2_20171014162838.nc\n",
      "Processing /Volumes/files/allData/omg/L2/CTD/AXCTD/OMG_Ocean_AXCTD_L2_20171015130605.nc\n",
      "Processing /Volumes/files/allData/omg/L2/CTD/AXCTD/OMG_Ocean_AXCTD_L2_20171018131029.nc\n",
      "Processing /Volumes/files/allData/omg/L2/CTD/AXCTD/OMG_Ocean_AXCTD_L2_20171015125030.nc\n",
      "Processing /Volumes/files/allData/omg/L2/CTD/AXCTD/OMG_Ocean_AXCTD_L2_20171019151952.nc\n",
      "Processing /Volumes/files/allData/omg/L2/CTD/AXCTD/OMG_Ocean_AXCTD_L2_20171019130802.nc\n",
      "Processing /Volumes/files/allData/omg/L2/CTD/AXCTD/OMG_Ocean_AXCTD_L2_20171019124845.nc\n",
      "Processing /Volumes/files/allData/omg/L2/CTD/AXCTD/OMG_Ocean_AXCTD_L2_20171014133214.nc\n",
      "Processing /Volumes/files/allData/omg/L2/CTD/AXCTD/OMG_Ocean_AXCTD_L2_20171019155314.nc\n",
      "Processing /Volumes/files/allData/omg/L2/CTD/AXCTD/OMG_Ocean_AXCTD_L2_20171015135555.nc\n",
      "Processing /Volumes/files/allData/omg/L2/CTD/AXCTD/OMG_Ocean_AXCTD_L2_20171014133656.nc\n",
      "Processing /Volumes/files/allData/omg/L2/CTD/AXCTD/OMG_Ocean_AXCTD_L2_20171014165632.nc\n",
      "Processing /Volumes/files/allData/omg/L2/CTD/AXCTD/OMG_Ocean_AXCTD_L2_20171023134211.nc\n",
      "Processing /Volumes/files/allData/omg/L2/CTD/AXCTD/OMG_Ocean_AXCTD_L2_20171018165214.nc\n",
      "Processing /Volumes/files/allData/omg/L2/CTD/AXCTD/OMG_Ocean_AXCTD_L2_20171015094530.nc\n",
      "Processing /Volumes/files/allData/omg/L2/CTD/AXCTD/OMG_Ocean_AXCTD_L2_20171018180150.nc\n",
      "Processing /Volumes/files/allData/omg/L2/CTD/AXCTD/OMG_Ocean_AXCTD_L2_20171014125231.nc\n",
      "Processing /Volumes/files/allData/omg/L2/CTD/AXCTD/OMG_Ocean_AXCTD_L2_20171015151943.nc\n",
      "Processing /Volumes/files/allData/omg/L2/CTD/AXCTD/OMG_Ocean_AXCTD_L2_20171018120925.nc\n",
      "Processing /Volumes/files/allData/omg/L2/CTD/AXCTD/OMG_Ocean_AXCTD_L2_20171019142854.nc\n",
      "Processing /Volumes/files/allData/omg/L2/CTD/AXCTD/OMG_Ocean_AXCTD_L2_20171019133659.nc\n",
      "Processing /Volumes/files/allData/omg/L2/CTD/AXCTD/OMG_Ocean_AXCTD_L2_20171017151502.nc\n"
     ]
    }
   ],
   "source": [
    "run prepare_omg.py"
   ]
  },
  {
   "cell_type": "code",
   "execution_count": 2,
   "metadata": {},
   "outputs": [
    {
     "data": {
      "text/html": [
       "<div>\n",
       "<style scoped>\n",
       "    .dataframe tbody tr th:only-of-type {\n",
       "        vertical-align: middle;\n",
       "    }\n",
       "\n",
       "    .dataframe tbody tr th {\n",
       "        vertical-align: top;\n",
       "    }\n",
       "\n",
       "    .dataframe thead th {\n",
       "        text-align: right;\n",
       "    }\n",
       "</style>\n",
       "<table border=\"1\" class=\"dataframe\">\n",
       "  <thead>\n",
       "    <tr style=\"text-align: right;\">\n",
       "      <th></th>\n",
       "      <th>date</th>\n",
       "      <th>lat</th>\n",
       "      <th>lon</th>\n",
       "      <th>depth</th>\n",
       "      <th>temperature</th>\n",
       "    </tr>\n",
       "  </thead>\n",
       "  <tbody>\n",
       "    <tr>\n",
       "      <th>0</th>\n",
       "      <td>2017-10-23T17:04:47</td>\n",
       "      <td>68.61205</td>\n",
       "      <td>-53.8931</td>\n",
       "      <td>0.72</td>\n",
       "      <td>2.79</td>\n",
       "    </tr>\n",
       "    <tr>\n",
       "      <th>1</th>\n",
       "      <td>2017-10-23T17:04:47</td>\n",
       "      <td>68.61205</td>\n",
       "      <td>-53.8931</td>\n",
       "      <td>0.8304</td>\n",
       "      <td>2.79</td>\n",
       "    </tr>\n",
       "    <tr>\n",
       "      <th>2</th>\n",
       "      <td>2017-10-23T17:04:47</td>\n",
       "      <td>68.61205</td>\n",
       "      <td>-53.8931</td>\n",
       "      <td>0.9409</td>\n",
       "      <td>2.79</td>\n",
       "    </tr>\n",
       "    <tr>\n",
       "      <th>3</th>\n",
       "      <td>2017-10-23T17:04:47</td>\n",
       "      <td>68.61205</td>\n",
       "      <td>-53.8931</td>\n",
       "      <td>1.0513</td>\n",
       "      <td>2.79</td>\n",
       "    </tr>\n",
       "    <tr>\n",
       "      <th>4</th>\n",
       "      <td>2017-10-23T17:04:47</td>\n",
       "      <td>68.61205</td>\n",
       "      <td>-53.8931</td>\n",
       "      <td>1.1618</td>\n",
       "      <td>2.79</td>\n",
       "    </tr>\n",
       "    <tr>\n",
       "      <th>...</th>\n",
       "      <td>...</td>\n",
       "      <td>...</td>\n",
       "      <td>...</td>\n",
       "      <td>...</td>\n",
       "      <td>...</td>\n",
       "    </tr>\n",
       "    <tr>\n",
       "      <th>2014</th>\n",
       "      <td>2017-10-17T15:15:02</td>\n",
       "      <td>80.6111</td>\n",
       "      <td>-66.9596</td>\n",
       "      <td>221.6204</td>\n",
       "      <td>0.29</td>\n",
       "    </tr>\n",
       "    <tr>\n",
       "      <th>2015</th>\n",
       "      <td>2017-10-17T15:15:02</td>\n",
       "      <td>80.6111</td>\n",
       "      <td>-66.9596</td>\n",
       "      <td>221.7294</td>\n",
       "      <td>0.28</td>\n",
       "    </tr>\n",
       "    <tr>\n",
       "      <th>2016</th>\n",
       "      <td>2017-10-17T15:15:02</td>\n",
       "      <td>80.6111</td>\n",
       "      <td>-66.9596</td>\n",
       "      <td>221.8383</td>\n",
       "      <td>0.28</td>\n",
       "    </tr>\n",
       "    <tr>\n",
       "      <th>2017</th>\n",
       "      <td>2017-10-17T15:15:02</td>\n",
       "      <td>80.6111</td>\n",
       "      <td>-66.9596</td>\n",
       "      <td>221.9472</td>\n",
       "      <td>0.28</td>\n",
       "    </tr>\n",
       "    <tr>\n",
       "      <th>2018</th>\n",
       "      <td>2017-10-17T15:15:02</td>\n",
       "      <td>80.6111</td>\n",
       "      <td>-66.9596</td>\n",
       "      <td>222.0561</td>\n",
       "      <td>0.28</td>\n",
       "    </tr>\n",
       "  </tbody>\n",
       "</table>\n",
       "<p>1161690 rows × 5 columns</p>\n",
       "</div>"
      ],
      "text/plain": [
       "                     date       lat       lon     depth temperature\n",
       "0     2017-10-23T17:04:47  68.61205  -53.8931      0.72        2.79\n",
       "1     2017-10-23T17:04:47  68.61205  -53.8931    0.8304        2.79\n",
       "2     2017-10-23T17:04:47  68.61205  -53.8931    0.9409        2.79\n",
       "3     2017-10-23T17:04:47  68.61205  -53.8931    1.0513        2.79\n",
       "4     2017-10-23T17:04:47  68.61205  -53.8931    1.1618        2.79\n",
       "...                   ...       ...       ...       ...         ...\n",
       "2014  2017-10-17T15:15:02   80.6111  -66.9596  221.6204        0.29\n",
       "2015  2017-10-17T15:15:02   80.6111  -66.9596  221.7294        0.28\n",
       "2016  2017-10-17T15:15:02   80.6111  -66.9596  221.8383        0.28\n",
       "2017  2017-10-17T15:15:02   80.6111  -66.9596  221.9472        0.28\n",
       "2018  2017-10-17T15:15:02   80.6111  -66.9596  222.0561        0.28\n",
       "\n",
       "[1161690 rows x 5 columns]"
      ]
     },
     "execution_count": 2,
     "metadata": {},
     "output_type": "execute_result"
    }
   ],
   "source": [
    "df"
   ]
  },
  {
   "cell_type": "code",
   "execution_count": 3,
   "metadata": {},
   "outputs": [],
   "source": [
    "df.to_csv(\"test.csv\")"
   ]
  },
  {
   "cell_type": "code",
   "execution_count": null,
   "metadata": {},
   "outputs": [],
   "source": [
    "pd.DataFrame(data=np.hstack([time, depth, temperature]), columns=[\"date\", \"depth\", \"temperature\"])"
   ]
  },
  {
   "cell_type": "code",
   "execution_count": 5,
   "metadata": {},
   "outputs": [
    {
     "ename": "ImportError",
     "evalue": "dlopen(/opt/local/Library/Frameworks/Python.framework/Versions/3.8/lib/python3.8/site-packages/fiona/ogrext.cpython-38-darwin.so, 2): Symbol not found: _GEOSArea\n  Referenced from: /opt/local/lib/libspatialite.7.dylib\n  Expected in: flat namespace\n in /opt/local/lib/libspatialite.7.dylib",
     "output_type": "error",
     "traceback": [
      "\u001b[0;31m---------------------------------------------------------------------------\u001b[0m",
      "\u001b[0;31mImportError\u001b[0m                               Traceback (most recent call last)",
      "\u001b[0;32m<ipython-input-5-fc7d1d298f0c>\u001b[0m in \u001b[0;36m<module>\u001b[0;34m\u001b[0m\n\u001b[0;32m----> 1\u001b[0;31m \u001b[0;32mimport\u001b[0m \u001b[0mgeopandas\u001b[0m\u001b[0;34m\u001b[0m\u001b[0;34m\u001b[0m\u001b[0m\n\u001b[0m",
      "\u001b[0;32m/opt/local/Library/Frameworks/Python.framework/Versions/3.8/lib/python3.8/site-packages/geopandas/__init__.py\u001b[0m in \u001b[0;36m<module>\u001b[0;34m\u001b[0m\n\u001b[1;32m      5\u001b[0m \u001b[0;32mfrom\u001b[0m \u001b[0mgeopandas\u001b[0m\u001b[0;34m.\u001b[0m\u001b[0marray\u001b[0m \u001b[0;32mimport\u001b[0m \u001b[0mpoints_from_xy\u001b[0m  \u001b[0;31m# noqa\u001b[0m\u001b[0;34m\u001b[0m\u001b[0;34m\u001b[0m\u001b[0m\n\u001b[1;32m      6\u001b[0m \u001b[0;34m\u001b[0m\u001b[0m\n\u001b[0;32m----> 7\u001b[0;31m \u001b[0;32mfrom\u001b[0m \u001b[0mgeopandas\u001b[0m\u001b[0;34m.\u001b[0m\u001b[0mio\u001b[0m\u001b[0;34m.\u001b[0m\u001b[0mfile\u001b[0m \u001b[0;32mimport\u001b[0m \u001b[0m_read_file\u001b[0m \u001b[0;32mas\u001b[0m \u001b[0mread_file\u001b[0m  \u001b[0;31m# noqa\u001b[0m\u001b[0;34m\u001b[0m\u001b[0;34m\u001b[0m\u001b[0m\n\u001b[0m\u001b[1;32m      8\u001b[0m \u001b[0;32mfrom\u001b[0m \u001b[0mgeopandas\u001b[0m\u001b[0;34m.\u001b[0m\u001b[0mio\u001b[0m\u001b[0;34m.\u001b[0m\u001b[0marrow\u001b[0m \u001b[0;32mimport\u001b[0m \u001b[0m_read_parquet\u001b[0m \u001b[0;32mas\u001b[0m \u001b[0mread_parquet\u001b[0m  \u001b[0;31m# noqa\u001b[0m\u001b[0;34m\u001b[0m\u001b[0;34m\u001b[0m\u001b[0m\n\u001b[1;32m      9\u001b[0m \u001b[0;32mfrom\u001b[0m \u001b[0mgeopandas\u001b[0m\u001b[0;34m.\u001b[0m\u001b[0mio\u001b[0m\u001b[0;34m.\u001b[0m\u001b[0marrow\u001b[0m \u001b[0;32mimport\u001b[0m \u001b[0m_read_feather\u001b[0m \u001b[0;32mas\u001b[0m \u001b[0mread_feather\u001b[0m  \u001b[0;31m# noqa\u001b[0m\u001b[0;34m\u001b[0m\u001b[0;34m\u001b[0m\u001b[0m\n",
      "\u001b[0;32m/opt/local/Library/Frameworks/Python.framework/Versions/3.8/lib/python3.8/site-packages/geopandas/io/file.py\u001b[0m in \u001b[0;36m<module>\u001b[0;34m\u001b[0m\n\u001b[1;32m      5\u001b[0m \u001b[0;32mimport\u001b[0m \u001b[0mpandas\u001b[0m \u001b[0;32mas\u001b[0m \u001b[0mpd\u001b[0m\u001b[0;34m\u001b[0m\u001b[0;34m\u001b[0m\u001b[0m\n\u001b[1;32m      6\u001b[0m \u001b[0;34m\u001b[0m\u001b[0m\n\u001b[0;32m----> 7\u001b[0;31m \u001b[0;32mimport\u001b[0m \u001b[0mfiona\u001b[0m\u001b[0;34m\u001b[0m\u001b[0;34m\u001b[0m\u001b[0m\n\u001b[0m\u001b[1;32m      8\u001b[0m \u001b[0;32mimport\u001b[0m \u001b[0mpyproj\u001b[0m\u001b[0;34m\u001b[0m\u001b[0;34m\u001b[0m\u001b[0m\n\u001b[1;32m      9\u001b[0m \u001b[0;32mfrom\u001b[0m \u001b[0mshapely\u001b[0m\u001b[0;34m.\u001b[0m\u001b[0mgeometry\u001b[0m \u001b[0;32mimport\u001b[0m \u001b[0mmapping\u001b[0m\u001b[0;34m\u001b[0m\u001b[0;34m\u001b[0m\u001b[0m\n",
      "\u001b[0;32m/opt/local/Library/Frameworks/Python.framework/Versions/3.8/lib/python3.8/site-packages/fiona/__init__.py\u001b[0m in \u001b[0;36m<module>\u001b[0;34m\u001b[0m\n\u001b[1;32m     84\u001b[0m \u001b[0;32mimport\u001b[0m \u001b[0mfiona\u001b[0m\u001b[0;34m.\u001b[0m\u001b[0m_loading\u001b[0m\u001b[0;34m\u001b[0m\u001b[0;34m\u001b[0m\u001b[0m\n\u001b[1;32m     85\u001b[0m \u001b[0;32mwith\u001b[0m \u001b[0mfiona\u001b[0m\u001b[0;34m.\u001b[0m\u001b[0m_loading\u001b[0m\u001b[0;34m.\u001b[0m\u001b[0madd_gdal_dll_directories\u001b[0m\u001b[0;34m(\u001b[0m\u001b[0;34m)\u001b[0m\u001b[0;34m:\u001b[0m\u001b[0;34m\u001b[0m\u001b[0;34m\u001b[0m\u001b[0m\n\u001b[0;32m---> 86\u001b[0;31m     \u001b[0;32mfrom\u001b[0m \u001b[0mfiona\u001b[0m\u001b[0;34m.\u001b[0m\u001b[0mcollection\u001b[0m \u001b[0;32mimport\u001b[0m \u001b[0mBytesCollection\u001b[0m\u001b[0;34m,\u001b[0m \u001b[0mCollection\u001b[0m\u001b[0;34m\u001b[0m\u001b[0;34m\u001b[0m\u001b[0m\n\u001b[0m\u001b[1;32m     87\u001b[0m     \u001b[0;32mfrom\u001b[0m \u001b[0mfiona\u001b[0m\u001b[0;34m.\u001b[0m\u001b[0mdrvsupport\u001b[0m \u001b[0;32mimport\u001b[0m \u001b[0msupported_drivers\u001b[0m\u001b[0;34m\u001b[0m\u001b[0;34m\u001b[0m\u001b[0m\n\u001b[1;32m     88\u001b[0m     \u001b[0;32mfrom\u001b[0m \u001b[0mfiona\u001b[0m\u001b[0;34m.\u001b[0m\u001b[0menv\u001b[0m \u001b[0;32mimport\u001b[0m \u001b[0mensure_env_with_credentials\u001b[0m\u001b[0;34m,\u001b[0m \u001b[0mEnv\u001b[0m\u001b[0;34m\u001b[0m\u001b[0;34m\u001b[0m\u001b[0m\n",
      "\u001b[0;32m/opt/local/Library/Frameworks/Python.framework/Versions/3.8/lib/python3.8/site-packages/fiona/collection.py\u001b[0m in \u001b[0;36m<module>\u001b[0;34m\u001b[0m\n\u001b[1;32m      9\u001b[0m \u001b[0;32mwith\u001b[0m \u001b[0mfiona\u001b[0m\u001b[0;34m.\u001b[0m\u001b[0m_loading\u001b[0m\u001b[0;34m.\u001b[0m\u001b[0madd_gdal_dll_directories\u001b[0m\u001b[0;34m(\u001b[0m\u001b[0;34m)\u001b[0m\u001b[0;34m:\u001b[0m\u001b[0;34m\u001b[0m\u001b[0;34m\u001b[0m\u001b[0m\n\u001b[1;32m     10\u001b[0m     \u001b[0;32mfrom\u001b[0m \u001b[0mfiona\u001b[0m \u001b[0;32mimport\u001b[0m \u001b[0mcompat\u001b[0m\u001b[0;34m,\u001b[0m \u001b[0mvfs\u001b[0m\u001b[0;34m\u001b[0m\u001b[0;34m\u001b[0m\u001b[0m\n\u001b[0;32m---> 11\u001b[0;31m     \u001b[0;32mfrom\u001b[0m \u001b[0mfiona\u001b[0m\u001b[0;34m.\u001b[0m\u001b[0mogrext\u001b[0m \u001b[0;32mimport\u001b[0m \u001b[0mIterator\u001b[0m\u001b[0;34m,\u001b[0m \u001b[0mItemsIterator\u001b[0m\u001b[0;34m,\u001b[0m \u001b[0mKeysIterator\u001b[0m\u001b[0;34m\u001b[0m\u001b[0;34m\u001b[0m\u001b[0m\n\u001b[0m\u001b[1;32m     12\u001b[0m     \u001b[0;32mfrom\u001b[0m \u001b[0mfiona\u001b[0m\u001b[0;34m.\u001b[0m\u001b[0mogrext\u001b[0m \u001b[0;32mimport\u001b[0m \u001b[0mSession\u001b[0m\u001b[0;34m,\u001b[0m \u001b[0mWritingSession\u001b[0m\u001b[0;34m\u001b[0m\u001b[0;34m\u001b[0m\u001b[0m\n\u001b[1;32m     13\u001b[0m     \u001b[0;32mfrom\u001b[0m \u001b[0mfiona\u001b[0m\u001b[0;34m.\u001b[0m\u001b[0mogrext\u001b[0m \u001b[0;32mimport\u001b[0m \u001b[0mbuffer_to_virtual_file\u001b[0m\u001b[0;34m,\u001b[0m \u001b[0mremove_virtual_file\u001b[0m\u001b[0;34m,\u001b[0m \u001b[0mGEOMETRY_TYPES\u001b[0m\u001b[0;34m\u001b[0m\u001b[0;34m\u001b[0m\u001b[0m\n",
      "\u001b[0;31mImportError\u001b[0m: dlopen(/opt/local/Library/Frameworks/Python.framework/Versions/3.8/lib/python3.8/site-packages/fiona/ogrext.cpython-38-darwin.so, 2): Symbol not found: _GEOSArea\n  Referenced from: /opt/local/lib/libspatialite.7.dylib\n  Expected in: flat namespace\n in /opt/local/lib/libspatialite.7.dylib"
     ]
    }
   ],
   "source": [
    "import geopandas"
   ]
  },
  {
   "cell_type": "code",
   "execution_count": 4,
   "metadata": {},
   "outputs": [
    {
     "ename": "NameError",
     "evalue": "name 'geopandas' is not defined",
     "output_type": "error",
     "traceback": [
      "\u001b[0;31m---------------------------------------------------------------------------\u001b[0m",
      "\u001b[0;31mNameError\u001b[0m                                 Traceback (most recent call last)",
      "\u001b[0;32m<ipython-input-4-c1083cdaa3c9>\u001b[0m in \u001b[0;36m<module>\u001b[0;34m\u001b[0m\n\u001b[0;32m----> 1\u001b[0;31m gdf = geopandas.GeoDataFrame(\n\u001b[0m\u001b[1;32m      2\u001b[0m     df, geometry=geopandas.points_from_xy(df.Longitude, df.Latitude))\n",
      "\u001b[0;31mNameError\u001b[0m: name 'geopandas' is not defined"
     ]
    }
   ],
   "source": [
    "gdf = geopandas.GeoDataFrame(\n",
    "    df, geometry=geopandas.points_from_xy(df.Longitude, df.Latitude))"
   ]
  },
  {
   "cell_type": "code",
   "execution_count": 6,
   "metadata": {},
   "outputs": [],
   "source": [
    "plt.cla?"
   ]
  },
  {
   "cell_type": "code",
   "execution_count": null,
   "metadata": {},
   "outputs": [],
   "source": []
  }
 ],
 "metadata": {
  "kernelspec": {
   "display_name": "Python 3",
   "language": "python",
   "name": "python3"
  },
  "language_info": {
   "codemirror_mode": {
    "name": "ipython",
    "version": 3
   },
   "file_extension": ".py",
   "mimetype": "text/x-python",
   "name": "python",
   "nbconvert_exporter": "python",
   "pygments_lexer": "ipython3",
   "version": "3.8.7"
  }
 },
 "nbformat": 4,
 "nbformat_minor": 4
}
