{
 "cells": [
  {
   "cell_type": "code",
   "execution_count": 1,
   "id": "22525f6d",
   "metadata": {},
   "outputs": [],
   "source": [
    "import xarray as xr\n",
    "import pylab as plt\n",
    "import numpy as np\n",
    "import matplotlib as mpl\n",
    "import matplotlib.cm as cmx\n",
    "import matplotlib.colors as colors\n",
    "import cf_xarray.units  # must be imported before pint_xarray\n",
    "import pint_xarray\n",
    "from pint_xarray import unit_registry as ureg"
   ]
  },
  {
   "cell_type": "code",
   "execution_count": 9,
   "id": "4b54ec5d",
   "metadata": {},
   "outputs": [],
   "source": [
    "ds = xr.open_dataset(\"/Users/andy/base/crios2pism/historical/2021_12_all/profiles/flowline_ex_jib_g600m_v1_RAGIS_id_52_1980-1-1_2010-1-1.nc\")"
   ]
  },
  {
   "cell_type": "code",
   "execution_count": 10,
   "id": "02ac1a1b",
   "metadata": {},
   "outputs": [],
   "source": [
    "time = ds[\"time\"].dt.strftime(\"%Y-%m-%d\").values\n",
    "profile_axis_units = ds.variables[\"profile_axis\"].attrs[\"units\"]\n",
    "ds = ds.pint.quantify({\"profile_axis\": profile_axis_units, \"vonmises_stress\": None})\n",
    "ds = ds.pint.to(profile_axis=\"km\").pint.dequantify()\n",
    "\n",
    "\n",
    "for profile_id in ds.variables[\"profile_id\"]:\n",
    "    profile_name = ds.variables[\"profile_name\"][profile_id]\n",
    "    profile_axis = ds.variables[\"profile_axis\"][profile_id]\n",
    "    x_min = profile_axis.min()\n",
    "    x_max = profile_axis.max()\n",
    "\n",
    "    surface = ds.variables[\"usurf\"][profile_id,...]\n",
    "    topography = ds.variables[\"topg\"][profile_id,...]\n",
    "    thickness = ds.variables[\"thk\"][profile_id,...]\n",
    "    speed = ds.variables[\"velsurf_mag\"][profile_id, ...]\n",
    "    speed = speed.where(speed > 10)\n",
    "    basal_melt = ds.variables[\"bmelt\"][profile_id, ...]\n",
    "    basal_melt = basal_melt.where(basal_melt > 10)\n",
    "\n",
    "    speed_rolling = xr.DataArray(speed).rolling(time=3).mean()\n",
    "    basal_melt_rolling = xr.DataArray(basal_melt).rolling(time=3).mean()\n",
    "\n",
    "    bottom = surface - thickness\n",
    "    for t, date in enumerate(time):\n",
    "        fig, axs = plt.subplots(3, 1, sharex=\"col\", figsize=[6.2, 6], gridspec_kw=dict(height_ratios=[2, 2, 3]),\n",
    ")\n",
    "        axs[0].plot(profile_axis, speed_rolling[0:t, ...].T, color=\"0.75\", lw=0.5)\n",
    "        axs[0].plot(profile_axis, speed_rolling[t, ...], color=\"k\", lw=2.0)\n",
    "        axs[1].plot(profile_axis, basal_melt_rolling[0:t, ...].T, color=\"0.75\", lw=0.5)\n",
    "        axs[1].plot(profile_axis, basal_melt_rolling[t, ...], color=\"k\", lw=2.0)\n",
    "\n",
    "        axs[-1].fill_between(profile_axis, topography[t, ...] * 0 -2000, topography[t, ...] * 0, color=\"#c6dbef\", linewidth=0.3)\n",
    "\n",
    "        axs[-1].fill_between(profile_axis, bottom[t, ...], surface[t, ...], color=\"#bdbdbd\", linewidth=0.5)\n",
    "        axs[-1].fill_between(profile_axis, topography[t, ...] * 0 -2000, topography[t, ...], color=\"#fdbe85\", linewidth=0.3)\n",
    "        axs[-1].plot(profile_axis, topography[t, ...], color=\"k\", lw=0.5)\n",
    "        axs[-1].plot(profile_axis, bottom[t, ...], color=\"k\", lw=0.5)\n",
    "        axs[-1].plot(profile_axis, surface[t, ...], color=\"k\", lw=0.5)\n",
    "        axs[0].set_ylabel(f\"\"\"Speed\\n({speed.attrs[\"units\"]})\"\"\")\n",
    "        axs[1].set_ylabel(f\"\"\"Subshelf melt rate\\n({basal_melt.attrs[\"units\"]})\"\"\")\n",
    "\n",
    "        axs[-1].set_xlabel(f\"\"\"Distance ({profile_axis.attrs[\"units\"]})\"\"\")\n",
    "        axs[-1].set_ylabel(f\"\"\"Altitude ({surface.attrs[\"units\"]})\"\"\")\n",
    "\n",
    "        axs[0].text(0., 1.1, date, horizontalalignment='left',  verticalalignment='center', transform=axs[0].transAxes)\n",
    "        axs[0].set_ylim(0, 20000)\n",
    "        axs[1].set_ylim(100, 250)\n",
    "        axs[-1].set_ylim(-1500, 1000)\n",
    "        for ax in axs:\n",
    "            ax.set_xlim(x_min, x_max)\n",
    "        fig.savefig(f\"flowline_{t:03d}.png\", dpi=300)\n",
    "        plt.close(plt.gcf())\n",
    "        del fig\n",
    "ds.close()"
   ]
  }
 ],
 "metadata": {
  "kernelspec": {
   "display_name": "Python 3 (ipykernel)",
   "language": "python",
   "name": "python3"
  },
  "language_info": {
   "codemirror_mode": {
    "name": "ipython",
    "version": 3
   },
   "file_extension": ".py",
   "mimetype": "text/x-python",
   "name": "python",
   "nbconvert_exporter": "python",
   "pygments_lexer": "ipython3",
   "version": "3.9.9"
  }
 },
 "nbformat": 4,
 "nbformat_minor": 5
}
