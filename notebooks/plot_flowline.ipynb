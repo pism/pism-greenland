{
 "cells": [
  {
   "cell_type": "code",
   "execution_count": 73,
   "id": "df5d761c",
   "metadata": {},
   "outputs": [
    {
     "name": "stdout",
     "output_type": "stream",
     "text": [
      "-----------------------------------------------------------------\n",
      "Running script extract_profiles.py ...\n",
      "-----------------------------------------------------------------\n",
      "Opening NetCDF file /Users/andy/small.nc ...\n",
      "  reading profile from /Users/andy/base/gris-analysis/flux-gates/jakobshavn-flowline-50m.gpkg\n",
      "Spatial Reference System in /Users/andy/base/gris-analysis/flux-gates/jakobshavn-flowline-50m.gpkg is not latlon. Converting.\n",
      "Creating dimensions\n",
      "Copying global attributes...\n",
      "done.\n",
      "Defining station variables...\n",
      "done.\n",
      "Writing stations...\n",
      "done.\n",
      "Copying dimensions...\n",
      "done.\n",
      "Copying variables...\n",
      "  Reading variable mask\n",
      "  - done with mask\n",
      "extract_variable function took 0.001 s\n",
      "  Reading variable thk\n",
      "  - done with thk\n",
      "extract_variable function took 0.000 s\n",
      "extract_variable function took 0.000 s\n",
      "extract_variable function took 0.000 s\n",
      "  Reading variable topg\n",
      "  - done with topg\n",
      "extract_variable function took 0.000 s\n",
      "  Reading variable usurf\n",
      "  - done with usurf\n",
      "extract_variable function took 0.001 s\n",
      "  Reading variable velsurf_mag\n",
      "  - done with velsurf_mag\n",
      "extract_variable function took 0.000 s\n",
      "extract_variable function took 0.000 s\n",
      "extract_variable function took 0.000 s\n",
      "Extracted profiles to file test_flowline.nc\n"
     ]
    }
   ],
   "source": [
    "run ~/base/pypismtools/scripts/extract_profiles.py --srs epsg:3413 /Users/andy/base/gris-analysis/flux-gates/jakobshavn-flowline-50m.gpkg /Users/andy/small.nc test_flowline.nc"
   ]
  },
  {
   "cell_type": "code",
   "execution_count": null,
   "id": "22525f6d",
   "metadata": {},
   "outputs": [],
   "source": [
    "import xarray as xr\n",
    "import pylab as plt\n",
    "import numpy as np\n",
    "import matplotlib as mpl\n",
    "import matplotlib.cm as cmx\n",
    "import matplotlib.colors as colors\n",
    "import cf_xarray.units  # must be imported before pint_xarray\n",
    "import pint_xarray\n",
    "from pint_xarray import unit_registry as ureg"
   ]
  },
  {
   "cell_type": "code",
   "execution_count": null,
   "id": "4b54ec5d",
   "metadata": {},
   "outputs": [],
   "source": [
    "ds = xr.open_dataset(\"~/test_flowline.nc\")"
   ]
  },
  {
   "cell_type": "code",
   "execution_count": null,
   "id": "02ac1a1b",
   "metadata": {},
   "outputs": [],
   "source": [
    "time = ds[\"time\"].dt.strftime(\"%Y-%m-%d\").values\n",
    "profile_axis_units = ds.variables[\"profile_axis\"].attrs[\"units\"]\n",
    "ds = ds.pint.quantify({\"profile_axis\": profile_axis_units})\n",
    "ds = ds.pint.to(profile_axis=\"km\").pint.dequantify()\n",
    "\n",
    "\n",
    "for profile_id in ds.variables[\"profile_id\"]:\n",
    "    profile_name = ds.variables[\"profile_name\"][profile_id]\n",
    "    profile_axis = ds.variables[\"profile_axis\"][profile_id]\n",
    "    x_min = profile_axis.min()\n",
    "    x_max = profile_axis.max()\n",
    "\n",
    "    surface = ds.variables[\"usurf\"][profile_id,...]\n",
    "    topography = ds.variables[\"topg\"][profile_id,...]\n",
    "    thickness = ds.variables[\"thk\"][profile_id,...]\n",
    "    speed = ds.variables[\"velsurf_mag\"][profile_id, ...]\n",
    "    speed = speed.where(speed > 10)\n",
    "    basal_melt = ds.variables[\"bmelt\"][profile_id, ...]\n",
    "    basal_melt = basal_melt.where(basal_melt > 10)\n",
    "\n",
    "    speed_rolling = xr.DataArray(speed).rolling(time=3).mean()\n",
    "    basal_melt_rolling = xr.DataArray(basal_melt).rolling(time=3).mean()\n",
    "\n",
    "    bottom = surface - thickness\n",
    "    for t, date in enumerate(time):\n",
    "        fig, axs = plt.subplots(3, 1, sharex=\"col\", figsize=[6.2, 6], gridspec_kw=dict(height_ratios=[2, 2, 3]),\n",
    ")\n",
    "        axs[0].plot(profile_axis, speed_rolling[0:t, ...].T, color=\"0.5\", lw=0.5)\n",
    "        axs[0].plot(profile_axis, speed_rolling[t, ...], color=\"k\", lw=1.0)\n",
    "        axs[1].plot(profile_axis, basal_melt_rolling[0:t, ...].T, color=\"0.5\", lw=0.5)\n",
    "        axs[1].plot(profile_axis, basal_melt_rolling[t, ...], color=\"k\", lw=1.0)\n",
    "\n",
    "        axs[-1].fill_between(profile_axis, topography[t, ...] * 0 -2000, topography[t, ...] * 0, color=\"#c6dbef\", linewidth=0.3)\n",
    "\n",
    "        axs[-1].fill_between(profile_axis, bottom[t, ...], surface[t, ...], color=\"#bdbdbd\", linewidth=0.5)\n",
    "        axs[-1].fill_between(profile_axis, topography[t, ...] * 0 -2000, topography[t, ...], color=\"#fdbe85\", linewidth=0.3)\n",
    "        axs[-1].plot(profile_axis, topography[t, ...], color=\"k\", lw=0.5)\n",
    "        axs[-1].plot(profile_axis, bottom[t, ...], color=\"k\", lw=0.5)\n",
    "        axs[-1].plot(profile_axis, surface[t, ...], color=\"k\", lw=0.5)\n",
    "        axs[0].set_ylabel(f\"\"\"Speed\\n({speed.attrs[\"units\"]})\"\"\")\n",
    "        axs[1].set_ylabel(f\"\"\"Subshelf melt rate\\n({basal_melt.attrs[\"units\"]})\"\"\")\n",
    "\n",
    "        axs[-1].set_xlabel(f\"\"\"Distance ({profile_axis.attrs[\"units\"]})\"\"\")\n",
    "        axs[-1].set_ylabel(f\"\"\"Altitude ({surface.attrs[\"units\"]})\"\"\")\n",
    "\n",
    "        axs[0].text(0., 1.1, date, horizontalalignment='left',  verticalalignment='center', transform=axs[0].transAxes)\n",
    "        axs[0].set_ylim(speed.min(), speed.max())\n",
    "        axs[-1].set_ylim(-1500, 1000)\n",
    "        for ax in axs:\n",
    "            ax.set_xlim(x_min, x_max)\n",
    "        fig.savefig(f\"flowline_{t:03d}.png\", dpi=300)\n",
    "ds.close()"
   ]
  },
  {
   "cell_type": "code",
   "execution_count": null,
   "id": "b376b311",
   "metadata": {},
   "outputs": [],
   "source": [
    "ds"
   ]
  },
  {
   "cell_type": "code",
   "execution_count": null,
   "id": "3774a960",
   "metadata": {},
   "outputs": [],
   "source": [
    "847. / 4"
   ]
  },
  {
   "cell_type": "code",
   "execution_count": null,
   "id": "6fe4f217",
   "metadata": {},
   "outputs": [],
   "source": [
    "ls"
   ]
  },
  {
   "cell_type": "code",
   "execution_count": null,
   "id": "0a3617ba",
   "metadata": {},
   "outputs": [],
   "source": [
    "!rm *pdf"
   ]
  },
  {
   "cell_type": "code",
   "execution_count": 17,
   "id": "2915c3e9",
   "metadata": {},
   "outputs": [],
   "source": [
    "from osgeo import gdal\n",
    "from osgeo import ogr"
   ]
  },
  {
   "cell_type": "code",
   "execution_count": 10,
   "id": "5eb85550",
   "metadata": {},
   "outputs": [],
   "source": [
    "filename=\"/Users/andy/base/gris-analysis/flux-gates/jakobshavn-flowline-50m.gpkg\""
   ]
  },
  {
   "cell_type": "code",
   "execution_count": 54,
   "id": "f0bd9df3",
   "metadata": {},
   "outputs": [
    {
     "name": "stdout",
     "output_type": "stream",
     "text": [
      "Spatial Reference System in /Users/andy/base/gris-analysis/flux-gates/jakobshavn-flowline-50m.gpkg is not latlon. Converting.\n"
     ]
    }
   ],
   "source": [
    "    from osgeo import ogr\n",
    "    from osgeo import osr\n",
    "    from osgeo import gdal\n",
    "\n",
    "    ds = gdal.OpenEx(filename, 0)\n",
    "    layer = ds.GetLayer(0)\n",
    "    layer_type = ogr.GeometryTypeToName(layer.GetGeomType())\n",
    "    srs = layer.GetSpatialRef()\n",
    "    if not srs.IsGeographic():\n",
    "        print(\n",
    "            (\n",
    "                \"\"\"Spatial Reference System in % s is not latlon. Converting.\"\"\"\n",
    "                % filename\n",
    "            )\n",
    "        )\n",
    "        # Create spatialReference (lonlat)\n",
    "        srs_geo = osr.SpatialReference()\n",
    "        srs_geo.ImportFromProj4(\"+proj=latlon\")\n",
    "    cnt = layer.GetFeatureCount()\n",
    "\n"
   ]
  },
  {
   "cell_type": "code",
   "execution_count": 66,
   "id": "d1c84be9",
   "metadata": {},
   "outputs": [
    {
     "name": "stdout",
     "output_type": "stream",
     "text": [
      "<osgeo.ogr.Feature; proxy of <Swig Object of type 'OGRFeatureShadow *' at 0x156df5810> >\n"
     ]
    }
   ],
   "source": [
    "    profiles = []\n",
    "    if layer_type == \"Point\":\n",
    "        lon = []\n",
    "        lat = []\n",
    "        for pt in range(0, cnt):\n",
    "            feature = layer.GetFeature(pt)\n",
    "\n",
    "            try:\n",
    "                id = feature.id\n",
    "            except:\n",
    "                id = str(pt)\n",
    "            try:\n",
    "                try:\n",
    "                    name = feature.name\n",
    "                except:\n",
    "                    name = feature.Name\n",
    "            except:\n",
    "                name = str(pt)\n",
    "            try:\n",
    "                flightline = feature.flightline\n",
    "            except:\n",
    "                flightline = 2\n",
    "            try:\n",
    "                glaciertype = feature.gtype\n",
    "            except:\n",
    "                glaciertype = 4\n",
    "            try:\n",
    "                flowtype = feature.ftype\n",
    "            except:\n",
    "                flowtype = 2\n",
    "            geometry = feature.GetGeometryRef()\n",
    "            # Transform to latlon if needed\n",
    "            if not srs.IsGeographic():\n",
    "                geometry.TransformTo(srs_geo)\n",
    "\n",
    "            point = geometry.GetPoint()\n",
    "            lon.append(point[0])\n",
    "            lat.append(point[1])\n",
    "\n",
    "            try:\n",
    "                clon = feature.clon\n",
    "            except:\n",
    "                clon = point[0]\n",
    "            try:\n",
    "                clat = feature.clat\n",
    "            except:\n",
    "                clat = point[1]\n",
    "\n",
    "            profiles.append(\n",
    "                [lat, lon, id, name, clat, clon, flightline, glaciertype, flowtype]\n",
    "            )\n",
    "\n",
    "    elif layer_type in (\"Line String\", \"Multi Line String\"):\n",
    "        for pt in range(1, 2):\n",
    "            feature = layer.GetFeature(pt)\n",
    "            print(feature)\n",
    "            try:\n",
    "                id = feature.id\n",
    "            except:\n",
    "                id = str(pt)\n",
    "            if id is None:\n",
    "                id = str(pt)\n",
    "            if feature.name is None:\n",
    "                name = \"unnamed\"\n",
    "            else:\n",
    "                try:\n",
    "                    name = feature.name\n",
    "                except:\n",
    "                    name = \"unnamed\"\n",
    "            try:\n",
    "                clon = feature.clon\n",
    "            except:\n",
    "                clon = 0.0\n",
    "            try:\n",
    "                clat = feature.clat\n",
    "            except:\n",
    "                clat = 0.0\n",
    "            try:\n",
    "                flightline = feature.flightline\n",
    "            except:\n",
    "                flightline = 2\n",
    "            if flightline is None:\n",
    "                flightline = 2\n",
    "            try:\n",
    "                glaciertype = feature.gtype\n",
    "            except:\n",
    "                glaciertype = 4\n",
    "            if glaciertype is None:\n",
    "                glaciertype = 4\n",
    "            try:\n",
    "                flowtype = feature.ftype\n",
    "            except:\n",
    "                flowtype = 2\n",
    "            if flowtype is None:\n",
    "                flowtype = 2\n",
    "            geometry = feature.GetGeometryRef()\n",
    "            # Transform to latlon if needed\n",
    "            if not srs.IsGeographic():\n",
    "                geometry.TransformTo(srs_geo)\n",
    "            lon = []\n",
    "            lat = []\n",
    "            for i in range(0, geometry.GetPointCount()):\n",
    "                # GetPoint returns a tuple not a Geometry\n",
    "                pt = geometry.GetPoint(i)\n",
    "                lon.append(pt[0])\n",
    "                lat.append(pt[1])\n",
    "            # skip features with less than 2 points:\n",
    "            if len(lat) > 1:\n",
    "                profiles.append(\n",
    "                    [lat, lon, id, name, clat, clon, flightline, glaciertype, flowtype]\n",
    "                )\n"
   ]
  },
  {
   "cell_type": "code",
   "execution_count": 30,
   "id": "7d9b718c",
   "metadata": {},
   "outputs": [
    {
     "data": {
      "text/plain": [
       "1"
      ]
     },
     "execution_count": 30,
     "metadata": {},
     "output_type": "execute_result"
    }
   ],
   "source": [
    "layer.GetFeatureCount()"
   ]
  },
  {
   "cell_type": "code",
   "execution_count": 27,
   "id": "c8f8b162",
   "metadata": {},
   "outputs": [
    {
     "name": "stdout",
     "output_type": "stream",
     "text": [
      "None\n"
     ]
    }
   ],
   "source": [
    "        for pt in range(0, cnt):\n",
    "            feature = layer.GetFeature(pt)\n",
    "            print(feature)\n",
    "\n"
   ]
  },
  {
   "cell_type": "code",
   "execution_count": 18,
   "id": "c744c025",
   "metadata": {},
   "outputs": [],
   "source": [
    "layer_type = ogr.GeometryTypeToName(layer.GetGeomType())\n"
   ]
  },
  {
   "cell_type": "code",
   "execution_count": 31,
   "id": "15d2d349",
   "metadata": {},
   "outputs": [],
   "source": [
    "feature"
   ]
  },
  {
   "cell_type": "code",
   "execution_count": 32,
   "id": "c74b080c",
   "metadata": {},
   "outputs": [],
   "source": [
    "            feature = layer.GetFeature(pt)\n"
   ]
  },
  {
   "cell_type": "code",
   "execution_count": 33,
   "id": "4c2a3977",
   "metadata": {},
   "outputs": [],
   "source": [
    "feature"
   ]
  },
  {
   "cell_type": "code",
   "execution_count": 55,
   "id": "df5c2077",
   "metadata": {},
   "outputs": [
    {
     "data": {
      "text/plain": [
       "<osgeo.ogr.Feature; proxy of <Swig Object of type 'OGRFeatureShadow *' at 0x1562cf660> >"
      ]
     },
     "execution_count": 55,
     "metadata": {},
     "output_type": "execute_result"
    }
   ],
   "source": [
    "layer.GetFeature(1)"
   ]
  },
  {
   "cell_type": "code",
   "execution_count": 41,
   "id": "b16c88fa",
   "metadata": {},
   "outputs": [
    {
     "name": "stdout",
     "output_type": "stream",
     "text": [
      "None\n"
     ]
    }
   ],
   "source": [
    "for f in range(layer.GetFeatureCount()):\n",
    "     print(layer.GetFeature(f))"
   ]
  },
  {
   "cell_type": "code",
   "execution_count": 58,
   "id": "ec9c2a5c",
   "metadata": {},
   "outputs": [],
   "source": [
    "feature  = layer.GetFeature(1)"
   ]
  },
  {
   "cell_type": "code",
   "execution_count": 59,
   "id": "cefa1d14",
   "metadata": {},
   "outputs": [
    {
     "ename": "SyntaxError",
     "evalue": "invalid syntax (1359520432.py, line 1)",
     "output_type": "error",
     "traceback": [
      "\u001b[0;36m  File \u001b[0;32m\"/var/folders/sn/_0x14wz901q964z4l3012ckh0000gn/T/ipykernel_5888/1359520432.py\"\u001b[0;36m, line \u001b[0;32m1\u001b[0m\n\u001b[0;31m    feature.\u001b[0m\n\u001b[0m            ^\u001b[0m\n\u001b[0;31mSyntaxError\u001b[0m\u001b[0;31m:\u001b[0m invalid syntax\n"
     ]
    }
   ],
   "source": [
    "feature."
   ]
  },
  {
   "cell_type": "code",
   "execution_count": 67,
   "id": "09455998",
   "metadata": {},
   "outputs": [
    {
     "data": {
      "text/plain": [
       "'0'"
      ]
     },
     "execution_count": 67,
     "metadata": {},
     "output_type": "execute_result"
    }
   ],
   "source": [
    "id"
   ]
  },
  {
   "cell_type": "code",
   "execution_count": 68,
   "id": "dae99303",
   "metadata": {},
   "outputs": [
    {
     "data": {
      "text/plain": [
       "'Jakobshavn Flowline'"
      ]
     },
     "execution_count": 68,
     "metadata": {},
     "output_type": "execute_result"
    }
   ],
   "source": [
    "name"
   ]
  },
  {
   "cell_type": "code",
   "execution_count": 72,
   "id": "41923709",
   "metadata": {},
   "outputs": [
    {
     "name": "stdout",
     "output_type": "stream",
     "text": [
      "Jakobshavn Flowline\n"
     ]
    }
   ],
   "source": [
    "for f in layer:\n",
    "    print(f.name)"
   ]
  },
  {
   "cell_type": "code",
   "execution_count": 78,
   "id": "db5e3399",
   "metadata": {},
   "outputs": [
    {
     "data": {
      "text/plain": [
       "{'id': '0',\n",
       " 'name': 'Jakobshavn Flowline',\n",
       " 'length': '28478.9888',\n",
       " 'clon': None,\n",
       " 'clat': None,\n",
       " 'flightline': None,\n",
       " 'gtype': None,\n",
       " 'ftype': None}"
      ]
     },
     "execution_count": 78,
     "metadata": {},
     "output_type": "execute_result"
    }
   ],
   "source": [
    "feature.items()"
   ]
  },
  {
   "cell_type": "code",
   "execution_count": 79,
   "id": "8d7f22a0",
   "metadata": {},
   "outputs": [],
   "source": [
    "loc=1e-11\n",
    "scale=9.9e-10"
   ]
  },
  {
   "cell_type": "code",
   "execution_count": 80,
   "id": "0467561f",
   "metadata": {},
   "outputs": [
    {
     "data": {
      "text/plain": [
       "1e-09"
      ]
     },
     "execution_count": 80,
     "metadata": {},
     "output_type": "execute_result"
    }
   ],
   "source": [
    "loc + scale"
   ]
  },
  {
   "cell_type": "code",
   "execution_count": null,
   "id": "3dfdba26",
   "metadata": {},
   "outputs": [],
   "source": []
  }
 ],
 "metadata": {
  "kernelspec": {
   "display_name": "Python 3 (ipykernel)",
   "language": "python",
   "name": "python3"
  },
  "language_info": {
   "codemirror_mode": {
    "name": "ipython",
    "version": 3
   },
   "file_extension": ".py",
   "mimetype": "text/x-python",
   "name": "python",
   "nbconvert_exporter": "python",
   "pygments_lexer": "ipython3",
   "version": "3.9.9"
  }
 },
 "nbformat": 4,
 "nbformat_minor": 5
}
