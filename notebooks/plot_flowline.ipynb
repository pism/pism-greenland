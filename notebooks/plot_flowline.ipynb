{
 "cells": [
  {
   "cell_type": "code",
   "execution_count": 1,
   "id": "22525f6d",
   "metadata": {},
   "outputs": [],
   "source": [
    "import xarray as xr\n",
    "import pylab as plt\n",
    "import numpy as np\n",
    "import matplotlib as mpl\n",
    "import matplotlib.cm as cmx\n",
    "import matplotlib.colors as colors\n",
    "import cf_xarray.units  # must be imported before pint_xarray\n",
    "import pint_xarray\n",
    "from pint_xarray import unit_registry as ureg"
   ]
  },
  {
   "cell_type": "code",
   "execution_count": 2,
   "id": "4b54ec5d",
   "metadata": {},
   "outputs": [],
   "source": [
    "ds = xr.open_dataset(\"/Users/andy/base/crios2pism/historical/2021_12_fractures/profiles/flowline_ex_jib_g600m_v1_RAGIS_id_10_1980-1-1_2010-1-1.nc\")"
   ]
  },
  {
   "cell_type": "code",
   "execution_count": 6,
   "id": "02ac1a1b",
   "metadata": {},
   "outputs": [
    {
     "ename": "KeyboardInterrupt",
     "evalue": "",
     "output_type": "error",
     "traceback": [
      "\u001b[0;31m---------------------------------------------------------------------------\u001b[0m",
      "\u001b[0;31mAttributeError\u001b[0m                            Traceback (most recent call last)",
      "\u001b[0;32m~/Library/Python/3.9/lib/python/site-packages/PIL/ImageFile.py\u001b[0m in \u001b[0;36m_save\u001b[0;34m(im, fp, tile, bufsize)\u001b[0m\n\u001b[1;32m    499\u001b[0m     \u001b[0;32mtry\u001b[0m\u001b[0;34m:\u001b[0m\u001b[0;34m\u001b[0m\u001b[0;34m\u001b[0m\u001b[0m\n\u001b[0;32m--> 500\u001b[0;31m         \u001b[0mfh\u001b[0m \u001b[0;34m=\u001b[0m \u001b[0mfp\u001b[0m\u001b[0;34m.\u001b[0m\u001b[0mfileno\u001b[0m\u001b[0;34m(\u001b[0m\u001b[0;34m)\u001b[0m\u001b[0;34m\u001b[0m\u001b[0;34m\u001b[0m\u001b[0m\n\u001b[0m\u001b[1;32m    501\u001b[0m         \u001b[0mfp\u001b[0m\u001b[0;34m.\u001b[0m\u001b[0mflush\u001b[0m\u001b[0;34m(\u001b[0m\u001b[0;34m)\u001b[0m\u001b[0;34m\u001b[0m\u001b[0;34m\u001b[0m\u001b[0m\n",
      "\u001b[0;31mAttributeError\u001b[0m: '_idat' object has no attribute 'fileno'",
      "\nDuring handling of the above exception, another exception occurred:\n",
      "\u001b[0;31mKeyboardInterrupt\u001b[0m                         Traceback (most recent call last)",
      "\u001b[0;32m/var/folders/sn/_0x14wz901q964z4l3012ckh0000gn/T/ipykernel_25793/1278913646.py\u001b[0m in \u001b[0;36m<module>\u001b[0;34m\u001b[0m\n\u001b[1;32m     50\u001b[0m         \u001b[0;32mfor\u001b[0m \u001b[0max\u001b[0m \u001b[0;32min\u001b[0m \u001b[0maxs\u001b[0m\u001b[0;34m:\u001b[0m\u001b[0;34m\u001b[0m\u001b[0;34m\u001b[0m\u001b[0m\n\u001b[1;32m     51\u001b[0m             \u001b[0max\u001b[0m\u001b[0;34m.\u001b[0m\u001b[0mset_xlim\u001b[0m\u001b[0;34m(\u001b[0m\u001b[0mx_min\u001b[0m\u001b[0;34m,\u001b[0m \u001b[0mx_max\u001b[0m\u001b[0;34m)\u001b[0m\u001b[0;34m\u001b[0m\u001b[0;34m\u001b[0m\u001b[0m\n\u001b[0;32m---> 52\u001b[0;31m         \u001b[0mfig\u001b[0m\u001b[0;34m.\u001b[0m\u001b[0msavefig\u001b[0m\u001b[0;34m(\u001b[0m\u001b[0;34mf\"flowline_{t:03d}.png\"\u001b[0m\u001b[0;34m,\u001b[0m \u001b[0mdpi\u001b[0m\u001b[0;34m=\u001b[0m\u001b[0;36m300\u001b[0m\u001b[0;34m)\u001b[0m\u001b[0;34m\u001b[0m\u001b[0;34m\u001b[0m\u001b[0m\n\u001b[0m\u001b[1;32m     53\u001b[0m         \u001b[0mplt\u001b[0m\u001b[0;34m.\u001b[0m\u001b[0mclose\u001b[0m\u001b[0;34m(\u001b[0m\u001b[0mplt\u001b[0m\u001b[0;34m.\u001b[0m\u001b[0mgcf\u001b[0m\u001b[0;34m(\u001b[0m\u001b[0;34m)\u001b[0m\u001b[0;34m)\u001b[0m\u001b[0;34m\u001b[0m\u001b[0;34m\u001b[0m\u001b[0m\n\u001b[1;32m     54\u001b[0m         \u001b[0;32mdel\u001b[0m \u001b[0mfig\u001b[0m\u001b[0;34m\u001b[0m\u001b[0;34m\u001b[0m\u001b[0m\n",
      "\u001b[0;32m/opt/local/Library/Frameworks/Python.framework/Versions/3.9/lib/python3.9/site-packages/matplotlib/figure.py\u001b[0m in \u001b[0;36msavefig\u001b[0;34m(self, fname, transparent, **kwargs)\u001b[0m\n\u001b[1;32m   3010\u001b[0m                         ax.patch._cm_set(facecolor='none', edgecolor='none'))\n\u001b[1;32m   3011\u001b[0m \u001b[0;34m\u001b[0m\u001b[0m\n\u001b[0;32m-> 3012\u001b[0;31m             \u001b[0mself\u001b[0m\u001b[0;34m.\u001b[0m\u001b[0mcanvas\u001b[0m\u001b[0;34m.\u001b[0m\u001b[0mprint_figure\u001b[0m\u001b[0;34m(\u001b[0m\u001b[0mfname\u001b[0m\u001b[0;34m,\u001b[0m \u001b[0;34m**\u001b[0m\u001b[0mkwargs\u001b[0m\u001b[0;34m)\u001b[0m\u001b[0;34m\u001b[0m\u001b[0;34m\u001b[0m\u001b[0m\n\u001b[0m\u001b[1;32m   3013\u001b[0m \u001b[0;34m\u001b[0m\u001b[0m\n\u001b[1;32m   3014\u001b[0m     def ginput(self, n=1, timeout=30, show_clicks=True,\n",
      "\u001b[0;32m/opt/local/Library/Frameworks/Python.framework/Versions/3.9/lib/python3.9/site-packages/matplotlib/backend_bases.py\u001b[0m in \u001b[0;36mprint_figure\u001b[0;34m(self, filename, dpi, facecolor, edgecolor, orientation, format, bbox_inches, pad_inches, bbox_extra_artists, backend, **kwargs)\u001b[0m\n\u001b[1;32m   2312\u001b[0m                 \u001b[0;31m# force the figure dpi to 72), so we need to set it again here.\u001b[0m\u001b[0;34m\u001b[0m\u001b[0;34m\u001b[0m\u001b[0m\n\u001b[1;32m   2313\u001b[0m                 \u001b[0;32mwith\u001b[0m \u001b[0mcbook\u001b[0m\u001b[0;34m.\u001b[0m\u001b[0m_setattr_cm\u001b[0m\u001b[0;34m(\u001b[0m\u001b[0mself\u001b[0m\u001b[0;34m.\u001b[0m\u001b[0mfigure\u001b[0m\u001b[0;34m,\u001b[0m \u001b[0mdpi\u001b[0m\u001b[0;34m=\u001b[0m\u001b[0mdpi\u001b[0m\u001b[0;34m)\u001b[0m\u001b[0;34m:\u001b[0m\u001b[0;34m\u001b[0m\u001b[0;34m\u001b[0m\u001b[0m\n\u001b[0;32m-> 2314\u001b[0;31m                     result = print_method(\n\u001b[0m\u001b[1;32m   2315\u001b[0m                         \u001b[0mfilename\u001b[0m\u001b[0;34m,\u001b[0m\u001b[0;34m\u001b[0m\u001b[0;34m\u001b[0m\u001b[0m\n\u001b[1;32m   2316\u001b[0m                         \u001b[0mfacecolor\u001b[0m\u001b[0;34m=\u001b[0m\u001b[0mfacecolor\u001b[0m\u001b[0;34m,\u001b[0m\u001b[0;34m\u001b[0m\u001b[0;34m\u001b[0m\u001b[0m\n",
      "\u001b[0;32m/opt/local/Library/Frameworks/Python.framework/Versions/3.9/lib/python3.9/site-packages/matplotlib/backend_bases.py\u001b[0m in \u001b[0;36mwrapper\u001b[0;34m(*args, **kwargs)\u001b[0m\n\u001b[1;32m   1641\u001b[0m             \u001b[0mkwargs\u001b[0m\u001b[0;34m.\u001b[0m\u001b[0mpop\u001b[0m\u001b[0;34m(\u001b[0m\u001b[0marg\u001b[0m\u001b[0;34m)\u001b[0m\u001b[0;34m\u001b[0m\u001b[0;34m\u001b[0m\u001b[0m\n\u001b[1;32m   1642\u001b[0m \u001b[0;34m\u001b[0m\u001b[0m\n\u001b[0;32m-> 1643\u001b[0;31m         \u001b[0;32mreturn\u001b[0m \u001b[0mfunc\u001b[0m\u001b[0;34m(\u001b[0m\u001b[0;34m*\u001b[0m\u001b[0margs\u001b[0m\u001b[0;34m,\u001b[0m \u001b[0;34m**\u001b[0m\u001b[0mkwargs\u001b[0m\u001b[0;34m)\u001b[0m\u001b[0;34m\u001b[0m\u001b[0;34m\u001b[0m\u001b[0m\n\u001b[0m\u001b[1;32m   1644\u001b[0m \u001b[0;34m\u001b[0m\u001b[0m\n\u001b[1;32m   1645\u001b[0m     \u001b[0;32mreturn\u001b[0m \u001b[0mwrapper\u001b[0m\u001b[0;34m\u001b[0m\u001b[0;34m\u001b[0m\u001b[0m\n",
      "\u001b[0;32m/opt/local/Library/Frameworks/Python.framework/Versions/3.9/lib/python3.9/site-packages/matplotlib/_api/deprecation.py\u001b[0m in \u001b[0;36mwrapper\u001b[0;34m(*inner_args, **inner_kwargs)\u001b[0m\n\u001b[1;32m    410\u001b[0m                          \u001b[0;32melse\u001b[0m \u001b[0mdeprecation_addendum\u001b[0m\u001b[0;34m,\u001b[0m\u001b[0;34m\u001b[0m\u001b[0;34m\u001b[0m\u001b[0m\n\u001b[1;32m    411\u001b[0m                 **kwargs)\n\u001b[0;32m--> 412\u001b[0;31m         \u001b[0;32mreturn\u001b[0m \u001b[0mfunc\u001b[0m\u001b[0;34m(\u001b[0m\u001b[0;34m*\u001b[0m\u001b[0minner_args\u001b[0m\u001b[0;34m,\u001b[0m \u001b[0;34m**\u001b[0m\u001b[0minner_kwargs\u001b[0m\u001b[0;34m)\u001b[0m\u001b[0;34m\u001b[0m\u001b[0;34m\u001b[0m\u001b[0m\n\u001b[0m\u001b[1;32m    413\u001b[0m \u001b[0;34m\u001b[0m\u001b[0m\n\u001b[1;32m    414\u001b[0m     \u001b[0mDECORATORS\u001b[0m\u001b[0;34m[\u001b[0m\u001b[0mwrapper\u001b[0m\u001b[0;34m]\u001b[0m \u001b[0;34m=\u001b[0m \u001b[0mdecorator\u001b[0m\u001b[0;34m\u001b[0m\u001b[0;34m\u001b[0m\u001b[0m\n",
      "\u001b[0;32m/opt/local/Library/Frameworks/Python.framework/Versions/3.9/lib/python3.9/site-packages/matplotlib/backends/backend_agg.py\u001b[0m in \u001b[0;36mprint_png\u001b[0;34m(self, filename_or_obj, metadata, pil_kwargs, *args)\u001b[0m\n\u001b[1;32m    539\u001b[0m         \"\"\"\n\u001b[1;32m    540\u001b[0m         \u001b[0mFigureCanvasAgg\u001b[0m\u001b[0;34m.\u001b[0m\u001b[0mdraw\u001b[0m\u001b[0;34m(\u001b[0m\u001b[0mself\u001b[0m\u001b[0;34m)\u001b[0m\u001b[0;34m\u001b[0m\u001b[0;34m\u001b[0m\u001b[0m\n\u001b[0;32m--> 541\u001b[0;31m         mpl.image.imsave(\n\u001b[0m\u001b[1;32m    542\u001b[0m             \u001b[0mfilename_or_obj\u001b[0m\u001b[0;34m,\u001b[0m \u001b[0mself\u001b[0m\u001b[0;34m.\u001b[0m\u001b[0mbuffer_rgba\u001b[0m\u001b[0;34m(\u001b[0m\u001b[0;34m)\u001b[0m\u001b[0;34m,\u001b[0m \u001b[0mformat\u001b[0m\u001b[0;34m=\u001b[0m\u001b[0;34m\"png\"\u001b[0m\u001b[0;34m,\u001b[0m \u001b[0morigin\u001b[0m\u001b[0;34m=\u001b[0m\u001b[0;34m\"upper\"\u001b[0m\u001b[0;34m,\u001b[0m\u001b[0;34m\u001b[0m\u001b[0;34m\u001b[0m\u001b[0m\n\u001b[1;32m    543\u001b[0m             dpi=self.figure.dpi, metadata=metadata, pil_kwargs=pil_kwargs)\n",
      "\u001b[0;32m/opt/local/Library/Frameworks/Python.framework/Versions/3.9/lib/python3.9/site-packages/matplotlib/image.py\u001b[0m in \u001b[0;36mimsave\u001b[0;34m(fname, arr, vmin, vmax, cmap, format, origin, dpi, metadata, pil_kwargs)\u001b[0m\n\u001b[1;32m   1673\u001b[0m         \u001b[0mpil_kwargs\u001b[0m\u001b[0;34m.\u001b[0m\u001b[0msetdefault\u001b[0m\u001b[0;34m(\u001b[0m\u001b[0;34m\"format\"\u001b[0m\u001b[0;34m,\u001b[0m \u001b[0mformat\u001b[0m\u001b[0;34m)\u001b[0m\u001b[0;34m\u001b[0m\u001b[0;34m\u001b[0m\u001b[0m\n\u001b[1;32m   1674\u001b[0m         \u001b[0mpil_kwargs\u001b[0m\u001b[0;34m.\u001b[0m\u001b[0msetdefault\u001b[0m\u001b[0;34m(\u001b[0m\u001b[0;34m\"dpi\"\u001b[0m\u001b[0;34m,\u001b[0m \u001b[0;34m(\u001b[0m\u001b[0mdpi\u001b[0m\u001b[0;34m,\u001b[0m \u001b[0mdpi\u001b[0m\u001b[0;34m)\u001b[0m\u001b[0;34m)\u001b[0m\u001b[0;34m\u001b[0m\u001b[0;34m\u001b[0m\u001b[0m\n\u001b[0;32m-> 1675\u001b[0;31m         \u001b[0mimage\u001b[0m\u001b[0;34m.\u001b[0m\u001b[0msave\u001b[0m\u001b[0;34m(\u001b[0m\u001b[0mfname\u001b[0m\u001b[0;34m,\u001b[0m \u001b[0;34m**\u001b[0m\u001b[0mpil_kwargs\u001b[0m\u001b[0;34m)\u001b[0m\u001b[0;34m\u001b[0m\u001b[0;34m\u001b[0m\u001b[0m\n\u001b[0m\u001b[1;32m   1676\u001b[0m \u001b[0;34m\u001b[0m\u001b[0m\n\u001b[1;32m   1677\u001b[0m \u001b[0;34m\u001b[0m\u001b[0m\n",
      "\u001b[0;32m~/Library/Python/3.9/lib/python/site-packages/PIL/Image.py\u001b[0m in \u001b[0;36msave\u001b[0;34m(self, fp, format, **params)\u001b[0m\n\u001b[1;32m   2170\u001b[0m \u001b[0;34m\u001b[0m\u001b[0m\n\u001b[1;32m   2171\u001b[0m         \u001b[0;32mtry\u001b[0m\u001b[0;34m:\u001b[0m\u001b[0;34m\u001b[0m\u001b[0;34m\u001b[0m\u001b[0m\n\u001b[0;32m-> 2172\u001b[0;31m             \u001b[0msave_handler\u001b[0m\u001b[0;34m(\u001b[0m\u001b[0mself\u001b[0m\u001b[0;34m,\u001b[0m \u001b[0mfp\u001b[0m\u001b[0;34m,\u001b[0m \u001b[0mfilename\u001b[0m\u001b[0;34m)\u001b[0m\u001b[0;34m\u001b[0m\u001b[0;34m\u001b[0m\u001b[0m\n\u001b[0m\u001b[1;32m   2173\u001b[0m         \u001b[0;32mfinally\u001b[0m\u001b[0;34m:\u001b[0m\u001b[0;34m\u001b[0m\u001b[0;34m\u001b[0m\u001b[0m\n\u001b[1;32m   2174\u001b[0m             \u001b[0;31m# do what we can to clean up\u001b[0m\u001b[0;34m\u001b[0m\u001b[0;34m\u001b[0m\u001b[0m\n",
      "\u001b[0;32m~/Library/Python/3.9/lib/python/site-packages/PIL/PngImagePlugin.py\u001b[0m in \u001b[0;36m_save\u001b[0;34m(im, fp, filename, chunk, save_all)\u001b[0m\n\u001b[1;32m   1333\u001b[0m         \u001b[0m_write_multiple_frames\u001b[0m\u001b[0;34m(\u001b[0m\u001b[0mim\u001b[0m\u001b[0;34m,\u001b[0m \u001b[0mfp\u001b[0m\u001b[0;34m,\u001b[0m \u001b[0mchunk\u001b[0m\u001b[0;34m,\u001b[0m \u001b[0mrawmode\u001b[0m\u001b[0;34m)\u001b[0m\u001b[0;34m\u001b[0m\u001b[0;34m\u001b[0m\u001b[0m\n\u001b[1;32m   1334\u001b[0m     \u001b[0;32melse\u001b[0m\u001b[0;34m:\u001b[0m\u001b[0;34m\u001b[0m\u001b[0;34m\u001b[0m\u001b[0m\n\u001b[0;32m-> 1335\u001b[0;31m         \u001b[0mImageFile\u001b[0m\u001b[0;34m.\u001b[0m\u001b[0m_save\u001b[0m\u001b[0;34m(\u001b[0m\u001b[0mim\u001b[0m\u001b[0;34m,\u001b[0m \u001b[0m_idat\u001b[0m\u001b[0;34m(\u001b[0m\u001b[0mfp\u001b[0m\u001b[0;34m,\u001b[0m \u001b[0mchunk\u001b[0m\u001b[0;34m)\u001b[0m\u001b[0;34m,\u001b[0m \u001b[0;34m[\u001b[0m\u001b[0;34m(\u001b[0m\u001b[0;34m\"zip\"\u001b[0m\u001b[0;34m,\u001b[0m \u001b[0;34m(\u001b[0m\u001b[0;36m0\u001b[0m\u001b[0;34m,\u001b[0m \u001b[0;36m0\u001b[0m\u001b[0;34m)\u001b[0m \u001b[0;34m+\u001b[0m \u001b[0mim\u001b[0m\u001b[0;34m.\u001b[0m\u001b[0msize\u001b[0m\u001b[0;34m,\u001b[0m \u001b[0;36m0\u001b[0m\u001b[0;34m,\u001b[0m \u001b[0mrawmode\u001b[0m\u001b[0;34m)\u001b[0m\u001b[0;34m]\u001b[0m\u001b[0;34m)\u001b[0m\u001b[0;34m\u001b[0m\u001b[0;34m\u001b[0m\u001b[0m\n\u001b[0m\u001b[1;32m   1336\u001b[0m \u001b[0;34m\u001b[0m\u001b[0m\n\u001b[1;32m   1337\u001b[0m     \u001b[0;32mif\u001b[0m \u001b[0minfo\u001b[0m\u001b[0;34m:\u001b[0m\u001b[0;34m\u001b[0m\u001b[0;34m\u001b[0m\u001b[0m\n",
      "\u001b[0;32m~/Library/Python/3.9/lib/python/site-packages/PIL/ImageFile.py\u001b[0m in \u001b[0;36m_save\u001b[0;34m(im, fp, tile, bufsize)\u001b[0m\n\u001b[1;32m    512\u001b[0m             \u001b[0;32melse\u001b[0m\u001b[0;34m:\u001b[0m\u001b[0;34m\u001b[0m\u001b[0;34m\u001b[0m\u001b[0m\n\u001b[1;32m    513\u001b[0m                 \u001b[0;32mwhile\u001b[0m \u001b[0;32mTrue\u001b[0m\u001b[0;34m:\u001b[0m\u001b[0;34m\u001b[0m\u001b[0;34m\u001b[0m\u001b[0m\n\u001b[0;32m--> 514\u001b[0;31m                     \u001b[0ml\u001b[0m\u001b[0;34m,\u001b[0m \u001b[0ms\u001b[0m\u001b[0;34m,\u001b[0m \u001b[0md\u001b[0m \u001b[0;34m=\u001b[0m \u001b[0me\u001b[0m\u001b[0;34m.\u001b[0m\u001b[0mencode\u001b[0m\u001b[0;34m(\u001b[0m\u001b[0mbufsize\u001b[0m\u001b[0;34m)\u001b[0m\u001b[0;34m\u001b[0m\u001b[0;34m\u001b[0m\u001b[0m\n\u001b[0m\u001b[1;32m    515\u001b[0m                     \u001b[0mfp\u001b[0m\u001b[0;34m.\u001b[0m\u001b[0mwrite\u001b[0m\u001b[0;34m(\u001b[0m\u001b[0md\u001b[0m\u001b[0;34m)\u001b[0m\u001b[0;34m\u001b[0m\u001b[0;34m\u001b[0m\u001b[0m\n\u001b[1;32m    516\u001b[0m                     \u001b[0;32mif\u001b[0m \u001b[0ms\u001b[0m\u001b[0;34m:\u001b[0m\u001b[0;34m\u001b[0m\u001b[0;34m\u001b[0m\u001b[0m\n",
      "\u001b[0;31mKeyboardInterrupt\u001b[0m: "
     ]
    },
    {
     "data": {
      "image/png": "[encoded data removed]",
      "text/plain": [
       "<Figure size 446.4x432 with 3 Axes>"
      ]
     },
     "metadata": {
      "needs_background": "light"
     },
     "output_type": "display_data"
    }
   ],
   "source": [
    "time = ds[\"time\"].dt.strftime(\"%Y-%m-%d\").values\n",
    "profile_axis_units = ds.variables[\"profile_axis\"].attrs[\"units\"]\n",
    "ds = ds.pint.quantify({\"profile_axis\": profile_axis_units, \"vonmises_stress\": None})\n",
    "ds = ds.pint.to(profile_axis=\"km\").pint.dequantify()\n",
    "\n",
    "\n",
    "for profile_id in ds.variables[\"profile_id\"]:\n",
    "    profile_name = ds.variables[\"profile_name\"][profile_id]\n",
    "    profile_axis = ds.variables[\"profile_axis\"][profile_id]\n",
    "    x_min = profile_axis.min()\n",
    "    x_max = profile_axis.max()\n",
    "\n",
    "    surface = ds.variables[\"usurf\"][profile_id,...]\n",
    "    topography = ds.variables[\"topg\"][profile_id,...]\n",
    "    thickness = ds.variables[\"thk\"][profile_id,...]\n",
    "    speed = ds.variables[\"velsurf_mag\"][profile_id, ...]\n",
    "    speed = speed.where(speed > 10)\n",
    "    basal_melt = ds.variables[\"bmelt\"][profile_id, ...]\n",
    "    basal_melt = basal_melt.where(basal_melt > 10)\n",
    "\n",
    "    speed_rolling = xr.DataArray(speed).rolling(time=3).mean()\n",
    "    basal_melt_rolling = xr.DataArray(basal_melt).rolling(time=3).mean()\n",
    "\n",
    "    bottom = surface - thickness\n",
    "    for t, date in enumerate(time):\n",
    "        fig, axs = plt.subplots(3, 1, sharex=\"col\", figsize=[6.2, 6], gridspec_kw=dict(height_ratios=[2, 2, 3]),\n",
    ")\n",
    "        axs[0].plot(profile_axis, speed_rolling[0:t, ...].T, color=\"0.75\", lw=0.5)\n",
    "        axs[0].plot(profile_axis, speed_rolling[t, ...], color=\"k\", lw=2.0)\n",
    "        axs[1].plot(profile_axis, basal_melt_rolling[0:t, ...].T, color=\"0.75\", lw=0.5)\n",
    "        axs[1].plot(profile_axis, basal_melt_rolling[t, ...], color=\"k\", lw=2.0)\n",
    "\n",
    "        axs[-1].fill_between(profile_axis, topography[t, ...] * 0 -2000, topography[t, ...] * 0, color=\"#c6dbef\", linewidth=0.3)\n",
    "\n",
    "        axs[-1].fill_between(profile_axis, bottom[t, ...], surface[t, ...], color=\"#bdbdbd\", linewidth=0.5)\n",
    "        axs[-1].fill_between(profile_axis, topography[t, ...] * 0 -2000, topography[t, ...], color=\"#fdbe85\", linewidth=0.3)\n",
    "        axs[-1].plot(profile_axis, topography[t, ...], color=\"k\", lw=0.5)\n",
    "        axs[-1].plot(profile_axis, bottom[t, ...], color=\"k\", lw=0.5)\n",
    "        axs[-1].plot(profile_axis, surface[t, ...], color=\"k\", lw=0.5)\n",
    "        axs[0].set_ylabel(f\"\"\"Speed\\n({speed.attrs[\"units\"]})\"\"\")\n",
    "        axs[1].set_ylabel(f\"\"\"Subshelf melt rate\\n({basal_melt.attrs[\"units\"]})\"\"\")\n",
    "\n",
    "        axs[-1].set_xlabel(f\"\"\"Distance ({profile_axis.attrs[\"units\"]})\"\"\")\n",
    "        axs[-1].set_ylabel(f\"\"\"Altitude ({surface.attrs[\"units\"]})\"\"\")\n",
    "\n",
    "        axs[0].text(0., 1.1, date, horizontalalignment='left',  verticalalignment='center', transform=axs[0].transAxes)\n",
    "        axs[0].set_ylim(0, 20000)\n",
    "        axs[1].set_ylim(100, 250)\n",
    "        axs[-1].set_ylim(-1500, 1000)\n",
    "        for ax in axs:\n",
    "            ax.set_xlim(x_min, x_max)\n",
    "        fig.savefig(f\"flowline_{t:03d}.png\", dpi=300)\n",
    "        plt.close(plt.gcf())\n",
    "        del fig\n",
    "ds.close()"
   ]
  },
  {
   "cell_type": "code",
   "execution_count": null,
   "id": "b376b311",
   "metadata": {},
   "outputs": [],
   "source": [
    "ds.pint.quantify?"
   ]
  },
  {
   "cell_type": "code",
   "execution_count": null,
   "id": "3774a960",
   "metadata": {},
   "outputs": [],
   "source": [
    "847. / 4"
   ]
  },
  {
   "cell_type": "code",
   "execution_count": null,
   "id": "8a76f647",
   "metadata": {},
   "outputs": [],
   "source": [
    "ls"
   ]
  },
  {
   "cell_type": "code",
   "execution_count": null,
   "id": "c9caff40",
   "metadata": {},
   "outputs": [],
   "source": [
    "!rm *pdf"
   ]
  },
  {
   "cell_type": "code",
   "execution_count": null,
   "id": "975cc78a",
   "metadata": {},
   "outputs": [],
   "source": [
    "from osgeo import gdal\n",
    "from osgeo import ogr"
   ]
  },
  {
   "cell_type": "code",
   "execution_count": null,
   "id": "74c5a3b1",
   "metadata": {},
   "outputs": [],
   "source": [
    "filename=\"/Users/andy/base/gris-analysis/flux-gates/jakobshavn-flowline-50m.gpkg\""
   ]
  },
  {
   "cell_type": "code",
   "execution_count": null,
   "id": "3bd9d6b0",
   "metadata": {},
   "outputs": [],
   "source": [
    "    from osgeo import ogr\n",
    "    from osgeo import osr\n",
    "    from osgeo import gdal\n",
    "\n",
    "    ds = gdal.OpenEx(filename, 0)\n",
    "    layer = ds.GetLayer(0)\n",
    "    layer_type = ogr.GeometryTypeToName(layer.GetGeomType())\n",
    "    srs = layer.GetSpatialRef()\n",
    "    if not srs.IsGeographic():\n",
    "        print(\n",
    "            (\n",
    "                \"\"\"Spatial Reference System in % s is not latlon. Converting.\"\"\"\n",
    "                % filename\n",
    "            )\n",
    "        )\n",
    "        # Create spatialReference (lonlat)\n",
    "        srs_geo = osr.SpatialReference()\n",
    "        srs_geo.ImportFromProj4(\"+proj=latlon\")\n",
    "    cnt = layer.GetFeatureCount()\n",
    "\n"
   ]
  },
  {
   "cell_type": "code",
   "execution_count": null,
   "id": "47cf5e7c",
   "metadata": {},
   "outputs": [],
   "source": [
    "    profiles = []\n",
    "    if layer_type == \"Point\":\n",
    "        lon = []\n",
    "        lat = []\n",
    "        for pt in range(0, cnt):\n",
    "            feature = layer.GetFeature(pt)\n",
    "\n",
    "            try:\n",
    "                id = feature.id\n",
    "            except:\n",
    "                id = str(pt)\n",
    "            try:\n",
    "                try:\n",
    "                    name = feature.name\n",
    "                except:\n",
    "                    name = feature.Name\n",
    "            except:\n",
    "                name = str(pt)\n",
    "            try:\n",
    "                flightline = feature.flightline\n",
    "            except:\n",
    "                flightline = 2\n",
    "            try:\n",
    "                glaciertype = feature.gtype\n",
    "            except:\n",
    "                glaciertype = 4\n",
    "            try:\n",
    "                flowtype = feature.ftype\n",
    "            except:\n",
    "                flowtype = 2\n",
    "            geometry = feature.GetGeometryRef()\n",
    "            # Transform to latlon if needed\n",
    "            if not srs.IsGeographic():\n",
    "                geometry.TransformTo(srs_geo)\n",
    "\n",
    "            point = geometry.GetPoint()\n",
    "            lon.append(point[0])\n",
    "            lat.append(point[1])\n",
    "\n",
    "            try:\n",
    "                clon = feature.clon\n",
    "            except:\n",
    "                clon = point[0]\n",
    "            try:\n",
    "                clat = feature.clat\n",
    "            except:\n",
    "                clat = point[1]\n",
    "\n",
    "            profiles.append(\n",
    "                [lat, lon, id, name, clat, clon, flightline, glaciertype, flowtype]\n",
    "            )\n",
    "\n",
    "    elif layer_type in (\"Line String\", \"Multi Line String\"):\n",
    "        for pt in range(1, 2):\n",
    "            feature = layer.GetFeature(pt)\n",
    "            print(feature)\n",
    "            try:\n",
    "                id = feature.id\n",
    "            except:\n",
    "                id = str(pt)\n",
    "            if id is None:\n",
    "                id = str(pt)\n",
    "            if feature.name is None:\n",
    "                name = \"unnamed\"\n",
    "            else:\n",
    "                try:\n",
    "                    name = feature.name\n",
    "                except:\n",
    "                    name = \"unnamed\"\n",
    "            try:\n",
    "                clon = feature.clon\n",
    "            except:\n",
    "                clon = 0.0\n",
    "            try:\n",
    "                clat = feature.clat\n",
    "            except:\n",
    "                clat = 0.0\n",
    "            try:\n",
    "                flightline = feature.flightline\n",
    "            except:\n",
    "                flightline = 2\n",
    "            if flightline is None:\n",
    "                flightline = 2\n",
    "            try:\n",
    "                glaciertype = feature.gtype\n",
    "            except:\n",
    "                glaciertype = 4\n",
    "            if glaciertype is None:\n",
    "                glaciertype = 4\n",
    "            try:\n",
    "                flowtype = feature.ftype\n",
    "            except:\n",
    "                flowtype = 2\n",
    "            if flowtype is None:\n",
    "                flowtype = 2\n",
    "            geometry = feature.GetGeometryRef()\n",
    "            # Transform to latlon if needed\n",
    "            if not srs.IsGeographic():\n",
    "                geometry.TransformTo(srs_geo)\n",
    "            lon = []\n",
    "            lat = []\n",
    "            for i in range(0, geometry.GetPointCount()):\n",
    "                # GetPoint returns a tuple not a Geometry\n",
    "                pt = geometry.GetPoint(i)\n",
    "                lon.append(pt[0])\n",
    "                lat.append(pt[1])\n",
    "            # skip features with less than 2 points:\n",
    "            if len(lat) > 1:\n",
    "                profiles.append(\n",
    "                    [lat, lon, id, name, clat, clon, flightline, glaciertype, flowtype]\n",
    "                )\n"
   ]
  },
  {
   "cell_type": "code",
   "execution_count": null,
   "id": "05d364bc",
   "metadata": {},
   "outputs": [],
   "source": [
    "layer.GetFeatureCount()"
   ]
  },
  {
   "cell_type": "code",
   "execution_count": null,
   "id": "53fa3cfa",
   "metadata": {},
   "outputs": [],
   "source": [
    "        for pt in range(0, cnt):\n",
    "            feature = layer.GetFeature(pt)\n",
    "            print(feature)\n",
    "\n"
   ]
  },
  {
   "cell_type": "code",
   "execution_count": null,
   "id": "c656a331",
   "metadata": {},
   "outputs": [],
   "source": [
    "layer_type = ogr.GeometryTypeToName(layer.GetGeomType())\n"
   ]
  },
  {
   "cell_type": "code",
   "execution_count": null,
   "id": "a760b90e",
   "metadata": {},
   "outputs": [],
   "source": [
    "feature"
   ]
  },
  {
   "cell_type": "code",
   "execution_count": null,
   "id": "c27a7de4",
   "metadata": {},
   "outputs": [],
   "source": [
    "            feature = layer.GetFeature(pt)\n"
   ]
  },
  {
   "cell_type": "code",
   "execution_count": null,
   "id": "1a5c6302",
   "metadata": {},
   "outputs": [],
   "source": [
    "feature"
   ]
  },
  {
   "cell_type": "code",
   "execution_count": null,
   "id": "4c7c03c1",
   "metadata": {},
   "outputs": [],
   "source": [
    "layer.GetFeature(1)"
   ]
  },
  {
   "cell_type": "code",
   "execution_count": null,
   "id": "97c61001",
   "metadata": {},
   "outputs": [],
   "source": [
    "for f in range(layer.GetFeatureCount()):\n",
    "     print(layer.GetFeature(f))"
   ]
  },
  {
   "cell_type": "code",
   "execution_count": null,
   "id": "7300710f",
   "metadata": {},
   "outputs": [],
   "source": [
    "feature  = layer.GetFeature(1)"
   ]
  },
  {
   "cell_type": "code",
   "execution_count": null,
   "id": "86c0bf99",
   "metadata": {},
   "outputs": [],
   "source": [
    "feature."
   ]
  },
  {
   "cell_type": "code",
   "execution_count": null,
   "id": "5d750d16",
   "metadata": {},
   "outputs": [],
   "source": [
    "id"
   ]
  },
  {
   "cell_type": "code",
   "execution_count": null,
   "id": "b6aa49e6",
   "metadata": {},
   "outputs": [],
   "source": [
    "name"
   ]
  },
  {
   "cell_type": "code",
   "execution_count": null,
   "id": "aac63729",
   "metadata": {},
   "outputs": [],
   "source": [
    "for f in layer:\n",
    "    print(f.name)"
   ]
  },
  {
   "cell_type": "code",
   "execution_count": null,
   "id": "5dd2e0ae",
   "metadata": {},
   "outputs": [],
   "source": [
    "feature.items()"
   ]
  },
  {
   "cell_type": "code",
   "execution_count": null,
   "id": "cb6737c4",
   "metadata": {},
   "outputs": [],
   "source": [
    "loc=1e-11\n",
    "scale=9.9e-10"
   ]
  },
  {
   "cell_type": "code",
   "execution_count": null,
   "id": "18358733",
   "metadata": {},
   "outputs": [],
   "source": [
    "loc + scale"
   ]
  },
  {
   "cell_type": "code",
   "execution_count": null,
   "id": "8ce008cc",
   "metadata": {},
   "outputs": [],
   "source": []
  }
 ],
 "metadata": {
  "kernelspec": {
   "display_name": "Python 3 (ipykernel)",
   "language": "python",
   "name": "python3"
  },
  "language_info": {
   "codemirror_mode": {
    "name": "ipython",
    "version": 3
   },
   "file_extension": ".py",
   "mimetype": "text/x-python",
   "name": "python",
   "nbconvert_exporter": "python",
   "pygments_lexer": "ipython3",
   "version": "3.9.9"
  }
 },
 "nbformat": 4,
 "nbformat_minor": 5
}
