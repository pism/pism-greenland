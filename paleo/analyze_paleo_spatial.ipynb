{
 "cells": [
  {
   "cell_type": "markdown",
   "id": "c7254a8a-bdcd-467d-a823-ff38f935cd70",
   "metadata": {},
   "source": [
    "# Analyze Paleo Simulations"
   ]
  },
  {
   "cell_type": "code",
   "execution_count": 1,
   "id": "ac60aa6b-bbc1-4757-96b4-f2ff839a0c2b",
   "metadata": {
    "tags": []
   },
   "outputs": [],
   "source": [
    "import xarray as xr\n",
    "from glob import glob\n",
    "import pylab as plt\n",
    "import pandas as pd\n",
    "import os\n",
    "from dask.diagnostics import ProgressBar\n",
    "import dask\n",
    "import re\n",
    "import numpy as np\n",
    "from pathlib import Path\n",
    "import seaborn as sns\n",
    "import matplotlib.lines as mlines\n",
    "import cartopy.crs as ccrs\n",
    "from typing import Union\n",
    "import cftime\n",
    "from tqdm.auto import tqdm\n",
    "\n",
    "from pypism.utils import qgis2cmap\n",
    "from pism_ragis.analysis import sensitivity_analysis\n",
    "from pism_ragis.processing import convert_netcdf_to_dataframe, check_paleo_file, copy_file\n",
    "from pism_ragis.stats import run_stats"
   ]
  },
  {
   "cell_type": "code",
   "execution_count": 2,
   "id": "7606cf70-ea6b-431a-b417-fc9f6c059e33",
   "metadata": {},
   "outputs": [
    {
     "data": {
      "text/html": [
       "<style>.container { width:95% !important; }</style>"
      ],
      "text/plain": [
       "<IPython.core.display.HTML object>"
      ]
     },
     "metadata": {},
     "output_type": "display_data"
    }
   ],
   "source": [
    "from IPython.display import display, HTML\n",
    "display(HTML(\"<style>.container { width:95% !important; }</style>\"))"
   ]
  },
  {
   "cell_type": "code",
   "execution_count": 38,
   "id": "879348c0-0ba3-4a59-a4ae-b1d42e57d5a7",
   "metadata": {
    "tags": []
   },
   "outputs": [],
   "source": [
    "fontsize = 8\n",
    "lw = 0.65\n",
    "markersize = 1\n",
    "params = {\n",
    "    \"axes.linewidth\": 0.25,\n",
    "    \"lines.linewidth\": lw,\n",
    "    \"axes.labelsize\": fontsize,\n",
    "    \"font.size\": fontsize,\n",
    "    \"xtick.labelsize\": fontsize,\n",
    "    \"xtick.major.size\": 2.5,\n",
    "    \"xtick.major.width\": 0.25,\n",
    "    \"ytick.labelsize\": fontsize,\n",
    "    \"ytick.major.size\": 2.5,\n",
    "    \"ytick.major.width\": 0.25,\n",
    "    \"legend.fontsize\": fontsize,\n",
    "    \"lines.markersize\": markersize,\n",
    "    \"font.size\": fontsize,\n",
    "    }\n",
    "\n",
    "plt.rcParams.update(params)\n"
   ]
  },
  {
   "cell_type": "markdown",
   "id": "160b2932-e6e7-4568-a53b-eedbf7e5f077",
   "metadata": {},
   "source": [
    "## Grid Resolution"
   ]
  },
  {
   "cell_type": "code",
   "execution_count": 39,
   "id": "e89b5754-5a83-44bf-b162-0f5557cd0670",
   "metadata": {},
   "outputs": [],
   "source": [
    "grid_res = 9000"
   ]
  },
  {
   "cell_type": "markdown",
   "id": "3f4be9da-2734-44ea-beb0-22509f608cd2",
   "metadata": {},
   "source": [
    "## Data Path"
   ]
  },
  {
   "cell_type": "code",
   "execution_count": 40,
   "id": "1ca4ee4c-a652-444c-b274-9b59c48e1c87",
   "metadata": {},
   "outputs": [],
   "source": [
    "data_dir = Path(\"/mnt/storstrommen/layers-v2/data/pism/\")"
   ]
  },
  {
   "cell_type": "code",
   "execution_count": 41,
   "id": "9cb23cdc-c0b8-4bb4-8e3a-11f3fb0e7377",
   "metadata": {
    "tags": []
   },
   "outputs": [],
   "source": [
    "exp = {\"Experiment\": \"climate-calving\",\n",
    "       \"proj_dir\": Path(\"2024_01_climate_calving\"),\n",
    "       \"snap_dir\": \"snap\",\n",
    "       \"spatial_dir\": \"spatial\",\n",
    "       \"spatial_tmp_dir\": Path(\"2024_01_climate_calving_tmp\"),\n",
    "       \"scalar_dir\": \"scalar\",\n",
    "       \"state_dir\": \"state\",\n",
    "       \"fig_dir\": \"figures\",\n",
    "        \"lhs\": \"gris_paleo_climate_calving_w_posterior_lhs_20\",\n",
    "        \"DEM\": \"GRIMP\"\n",
    "    }"
   ]
  },
  {
   "cell_type": "code",
   "execution_count": 42,
   "id": "21040818-95f4-4f28-8b9b-b47ebdbb25d3",
   "metadata": {},
   "outputs": [],
   "source": [
    "fig_path = data_dir / exp[\"proj_dir\"] / exp[\"fig_dir\"]\n",
    "fig_path.mkdir(exist_ok=True)"
   ]
  },
  {
   "cell_type": "code",
   "execution_count": 43,
   "id": "e47b5276-f14f-4aca-b132-80646619acd4",
   "metadata": {},
   "outputs": [],
   "source": [
    "def preprocess_nc(ds: xr.DataArray) -> xr.DataArray:\n",
    "    \"\"\"\n",
    "    Preprocessing of ensemble\n",
    "\n",
    "    Tries to get \"id\" from filename and add it as a new\n",
    "    dimension used to concatenate the files\n",
    "    \"\"\"\n",
    "    m_id_re = re.search(\"id_(.+?)_\", ds.encoding[\"source\"])\n",
    "    assert m_id_re is not None\n",
    "    m_id: Union[str, int]\n",
    "    m_id = int(m_id_re.group(1))\n",
    "\n",
    "    ds[\"id\"] = m_id\n",
    "\n",
    "    if \"nv\" in ds.sizes:\n",
    "        ds = ds.mean(dim=\"nv\")\n",
    "    return ds.drop_duplicates(dim=\"time\")"
   ]
  },
  {
   "cell_type": "markdown",
   "id": "d35a7d59-ad0c-44ef-aa7c-5ea6e4f2df16",
   "metadata": {},
   "source": [
    "## Scalar fields"
   ]
  },
  {
   "cell_type": "code",
   "execution_count": 44,
   "id": "3bc1b34a-0754-469c-9c89-305d4047099b",
   "metadata": {},
   "outputs": [
    {
     "data": {
      "application/vnd.jupyter.widget-view+json": {
       "model_id": "87b1cd57393b4e16a432e7e652d3136a",
       "version_major": 2,
       "version_minor": 0
      },
      "text/plain": [
       "  0%|          | 0/20 [00:00<?, ?it/s]"
      ]
     },
     "metadata": {},
     "output_type": "display_data"
    }
   ],
   "source": [
    "scalar_path = data_dir / exp[\"proj_dir\"] / exp[\"scalar_dir\"]\n",
    "scalar_processed_path = data_dir / exp[\"proj_dir\"] / (exp[\"scalar_dir\"] + \"_processed\")\n",
    "scalar_files = sorted(scalar_path.glob(f\"*{grid_res}m*.nc\"))\n",
    "\n",
    "for scalar_file in tqdm(scalar_files):\n",
    "    if check_paleo_file:\n",
    "        copy_file(scalar_file, scalar_processed_path)\n",
    "scalar_processed_files = sorted(scalar_processed_path.glob(\"*0.nc\"))"
   ]
  },
  {
   "cell_type": "code",
   "execution_count": 45,
   "id": "ae969866-f15d-4bf9-8992-5ebe555f5f2b",
   "metadata": {},
   "outputs": [],
   "source": [
    "scalar_ds = xr.open_mfdataset(scalar_processed_files, preprocess=preprocess_nc, combine=\"nested\", concat_dim=\"id\", parallel=True).chunk(dict(id=-1))"
   ]
  },
  {
   "cell_type": "code",
   "execution_count": 17,
   "id": "10766cae-fb4a-4275-9a4b-62eb02098dcc",
   "metadata": {},
   "outputs": [
    {
     "data": {
      "image/png": "[encoded data removed]",
      "text/plain": [
       "<Figure size 620x240 with 1 Axes>"
      ]
     },
     "metadata": {},
     "output_type": "display_data"
    }
   ],
   "source": [
    "plot_var = \"sea_level_rise_potential\" \n",
    "\n",
    "fig = plt.figure(figsize=[6.2, 2.4])\n",
    "ax = fig.add_subplot(111)\n",
    "scalar_ds[plot_var].plot.line(x=\"time\", color=\"0.6\", ax=ax, add_legend=False)\n",
    "\n",
    "q_16 = scalar_ds[plot_var].quantile(0.16, dim=\"id\")\n",
    "q_50 = scalar_ds[plot_var].quantile(0.50, dim=\"id\")\n",
    "q_84 = scalar_ds[plot_var].quantile(0.84, dim=\"id\")\n",
    "# ax.fill_between(q_50[\"time\"], q_16, q_84, color=\"b\")\n",
    "q_50.plot.line(x=\"time\", color=\"k\", lw=2, ax=ax, label=\"median\", add_legend=False)\n",
    "median_line = mlines.Line2D(\n",
    "    [], [], color=\"k\", linewidth=2, label=\"Median\"\n",
    "    )\n",
    "legend = ax.legend(handles=[median_line], loc=\"lower left\", bbox_to_anchor=(0.3, 0.0))\n",
    "legend.get_frame().set_linewidth(0.0)\n",
    "legend.get_frame().set_alpha(0.0)\n",
    "ax.add_artist(legend)\n",
    "\n",
    "ax.set_ylabel(\"Sea-level rise potential\\n(m SLE)\")\n",
    "ax.set_xlabel(\"Years before present\")\n",
    "fig.tight_layout()\n",
    "fig.savefig(fig_path / f\"{plot_var}_paleo-ensemble-{grid_res}m.pdf\")"
   ]
  },
  {
   "cell_type": "code",
   "execution_count": 47,
   "id": "de9cd346-c331-4501-ad29-f285113802b9",
   "metadata": {},
   "outputs": [],
   "source": [
    "scalar_df = scalar_ds.to_dataframe().reset_index()"
   ]
  },
  {
   "cell_type": "code",
   "execution_count": 48,
   "id": "dae615f5-403c-4685-b0cb-c4fda8f0993f",
   "metadata": {},
   "outputs": [
    {
     "ename": "ConversionError",
     "evalue": "Failed to convert value(s) to axis units: 0          -124999-01-01 00:00:00\n1          -124999-01-01 00:00:00\n2          -124999-01-01 00:00:00\n3          -124999-01-01 00:00:00\n4          -124999-01-01 00:00:00\n                    ...          \n1555015       0001-01-01 00:00:00\n1555016       0001-01-01 00:00:00\n1555017       0001-01-01 00:00:00\n1555018       0001-01-01 00:00:00\n1555019       0001-01-01 00:00:00\nName: x, Length: 1555020, dtype: object",
     "output_type": "error",
     "traceback": [
      "\u001b[0;31m---------------------------------------------------------------------------\u001b[0m",
      "\u001b[0;31mValueError\u001b[0m                                Traceback (most recent call last)",
      "File \u001b[0;32m~/miniconda3/envs/pism-ragis/lib/python3.11/site-packages/matplotlib/axis.py:1769\u001b[0m, in \u001b[0;36mAxis.convert_units\u001b[0;34m(self, x)\u001b[0m\n\u001b[1;32m   1768\u001b[0m \u001b[38;5;28;01mtry\u001b[39;00m:\n\u001b[0;32m-> 1769\u001b[0m     ret \u001b[38;5;241m=\u001b[39m \u001b[38;5;28;43mself\u001b[39;49m\u001b[38;5;241;43m.\u001b[39;49m\u001b[43mconverter\u001b[49m\u001b[38;5;241;43m.\u001b[39;49m\u001b[43mconvert\u001b[49m\u001b[43m(\u001b[49m\u001b[43mx\u001b[49m\u001b[43m,\u001b[49m\u001b[43m \u001b[49m\u001b[38;5;28;43mself\u001b[39;49m\u001b[38;5;241;43m.\u001b[39;49m\u001b[43munits\u001b[49m\u001b[43m,\u001b[49m\u001b[43m \u001b[49m\u001b[38;5;28;43mself\u001b[39;49m\u001b[43m)\u001b[49m\n\u001b[1;32m   1770\u001b[0m \u001b[38;5;28;01mexcept\u001b[39;00m \u001b[38;5;167;01mException\u001b[39;00m \u001b[38;5;28;01mas\u001b[39;00m e:\n",
      "File \u001b[0;32m~/miniconda3/envs/pism-ragis/lib/python3.11/site-packages/nc_time_axis/__init__.py:556\u001b[0m, in \u001b[0;36mNetCDFTimeConverter.convert\u001b[0;34m(cls, value, unit, axis)\u001b[0m\n\u001b[1;32m    555\u001b[0m \u001b[38;5;28;01mif\u001b[39;00m \u001b[38;5;129;01mnot\u001b[39;00m \u001b[38;5;28misinstance\u001b[39m(first_value, (CalendarDateTime, cftime\u001b[38;5;241m.\u001b[39mdatetime)):\n\u001b[0;32m--> 556\u001b[0m     \u001b[38;5;28;01mraise\u001b[39;00m \u001b[38;5;167;01mValueError\u001b[39;00m(\n\u001b[1;32m    557\u001b[0m         \u001b[38;5;124m\"\u001b[39m\u001b[38;5;124mThe values must be numbers or instances of \u001b[39m\u001b[38;5;124m\"\u001b[39m\n\u001b[1;32m    558\u001b[0m         \u001b[38;5;124m'\u001b[39m\u001b[38;5;124m\"\u001b[39m\u001b[38;5;124mnc_time_axis.CalendarDateTime\u001b[39m\u001b[38;5;124m\"\u001b[39m\u001b[38;5;124m or \u001b[39m\u001b[38;5;124m'\u001b[39m\n\u001b[1;32m    559\u001b[0m         \u001b[38;5;124m'\u001b[39m\u001b[38;5;124m\"\u001b[39m\u001b[38;5;124mcftime.datetime\u001b[39m\u001b[38;5;124m\"\u001b[39m\u001b[38;5;124m.\u001b[39m\u001b[38;5;124m'\u001b[39m\n\u001b[1;32m    560\u001b[0m     )\n\u001b[1;32m    562\u001b[0m \u001b[38;5;28;01mif\u001b[39;00m \u001b[38;5;28misinstance\u001b[39m(first_value, CalendarDateTime):\n",
      "\u001b[0;31mValueError\u001b[0m: The values must be numbers or instances of \"nc_time_axis.CalendarDateTime\" or \"cftime.datetime\".",
      "\nThe above exception was the direct cause of the following exception:\n",
      "\u001b[0;31mConversionError\u001b[0m                           Traceback (most recent call last)",
      "Cell \u001b[0;32mIn[48], line 1\u001b[0m\n\u001b[0;32m----> 1\u001b[0m \u001b[43msns\u001b[49m\u001b[38;5;241;43m.\u001b[39;49m\u001b[43mlineplot\u001b[49m\u001b[43m(\u001b[49m\u001b[43mdata\u001b[49m\u001b[38;5;241;43m=\u001b[39;49m\u001b[43mscalar_df\u001b[49m\u001b[43m,\u001b[49m\u001b[43m \u001b[49m\u001b[43mx\u001b[49m\u001b[38;5;241;43m=\u001b[39;49m\u001b[38;5;124;43m\"\u001b[39;49m\u001b[38;5;124;43mtime\u001b[39;49m\u001b[38;5;124;43m\"\u001b[39;49m\u001b[43m,\u001b[49m\u001b[43m \u001b[49m\u001b[43my\u001b[49m\u001b[38;5;241;43m=\u001b[39;49m\u001b[43mplot_var\u001b[49m\u001b[43m,\u001b[49m\u001b[43m \u001b[49m\u001b[43mestimator\u001b[49m\u001b[38;5;241;43m=\u001b[39;49m\u001b[38;5;28;43;01mNone\u001b[39;49;00m\u001b[43m)\u001b[49m\n",
      "File \u001b[0;32m~/miniconda3/envs/pism-ragis/lib/python3.11/site-packages/seaborn/relational.py:510\u001b[0m, in \u001b[0;36mlineplot\u001b[0;34m(data, x, y, hue, size, style, units, weights, palette, hue_order, hue_norm, sizes, size_order, size_norm, dashes, markers, style_order, estimator, errorbar, n_boot, seed, orient, sort, err_style, err_kws, legend, ci, ax, **kwargs)\u001b[0m\n\u001b[1;32m    507\u001b[0m color \u001b[38;5;241m=\u001b[39m kwargs\u001b[38;5;241m.\u001b[39mpop(\u001b[38;5;124m\"\u001b[39m\u001b[38;5;124mcolor\u001b[39m\u001b[38;5;124m\"\u001b[39m, kwargs\u001b[38;5;241m.\u001b[39mpop(\u001b[38;5;124m\"\u001b[39m\u001b[38;5;124mc\u001b[39m\u001b[38;5;124m\"\u001b[39m, \u001b[38;5;28;01mNone\u001b[39;00m))\n\u001b[1;32m    508\u001b[0m kwargs[\u001b[38;5;124m\"\u001b[39m\u001b[38;5;124mcolor\u001b[39m\u001b[38;5;124m\"\u001b[39m] \u001b[38;5;241m=\u001b[39m _default_color(ax\u001b[38;5;241m.\u001b[39mplot, hue, color, kwargs)\n\u001b[0;32m--> 510\u001b[0m \u001b[43mp\u001b[49m\u001b[38;5;241;43m.\u001b[39;49m\u001b[43mplot\u001b[49m\u001b[43m(\u001b[49m\u001b[43max\u001b[49m\u001b[43m,\u001b[49m\u001b[43m \u001b[49m\u001b[43mkwargs\u001b[49m\u001b[43m)\u001b[49m\n\u001b[1;32m    511\u001b[0m \u001b[38;5;28;01mreturn\u001b[39;00m ax\n",
      "File \u001b[0;32m~/miniconda3/envs/pism-ragis/lib/python3.11/site-packages/seaborn/relational.py:275\u001b[0m, in \u001b[0;36m_LinePlotter.plot\u001b[0;34m(self, ax, kws)\u001b[0m\n\u001b[1;32m    267\u001b[0m \u001b[38;5;66;03m# TODO How to handle NA? We don't want NA to propagate through to the\u001b[39;00m\n\u001b[1;32m    268\u001b[0m \u001b[38;5;66;03m# estimate/CI when some values are present, but we would also like\u001b[39;00m\n\u001b[1;32m    269\u001b[0m \u001b[38;5;66;03m# matplotlib to show \"gaps\" in the line when all values are missing.\u001b[39;00m\n\u001b[0;32m   (...)\u001b[0m\n\u001b[1;32m    272\u001b[0m \n\u001b[1;32m    273\u001b[0m \u001b[38;5;66;03m# Loop over the semantic subsets and add to the plot\u001b[39;00m\n\u001b[1;32m    274\u001b[0m grouping_vars \u001b[38;5;241m=\u001b[39m \u001b[38;5;124m\"\u001b[39m\u001b[38;5;124mhue\u001b[39m\u001b[38;5;124m\"\u001b[39m, \u001b[38;5;124m\"\u001b[39m\u001b[38;5;124msize\u001b[39m\u001b[38;5;124m\"\u001b[39m, \u001b[38;5;124m\"\u001b[39m\u001b[38;5;124mstyle\u001b[39m\u001b[38;5;124m\"\u001b[39m\n\u001b[0;32m--> 275\u001b[0m \u001b[43m\u001b[49m\u001b[38;5;28;43;01mfor\u001b[39;49;00m\u001b[43m \u001b[49m\u001b[43msub_vars\u001b[49m\u001b[43m,\u001b[49m\u001b[43m \u001b[49m\u001b[43msub_data\u001b[49m\u001b[43m \u001b[49m\u001b[38;5;129;43;01min\u001b[39;49;00m\u001b[43m \u001b[49m\u001b[38;5;28;43mself\u001b[39;49m\u001b[38;5;241;43m.\u001b[39;49m\u001b[43miter_data\u001b[49m\u001b[43m(\u001b[49m\u001b[43mgrouping_vars\u001b[49m\u001b[43m,\u001b[49m\u001b[43m \u001b[49m\u001b[43mfrom_comp_data\u001b[49m\u001b[38;5;241;43m=\u001b[39;49m\u001b[38;5;28;43;01mTrue\u001b[39;49;00m\u001b[43m)\u001b[49m\u001b[43m:\u001b[49m\n\u001b[1;32m    277\u001b[0m \u001b[43m    \u001b[49m\u001b[38;5;28;43;01mif\u001b[39;49;00m\u001b[43m \u001b[49m\u001b[38;5;28;43mself\u001b[39;49m\u001b[38;5;241;43m.\u001b[39;49m\u001b[43msort\u001b[49m\u001b[43m:\u001b[49m\n\u001b[1;32m    278\u001b[0m \u001b[43m        \u001b[49m\u001b[43msort_vars\u001b[49m\u001b[43m \u001b[49m\u001b[38;5;241;43m=\u001b[39;49m\u001b[43m \u001b[49m\u001b[43m[\u001b[49m\u001b[38;5;124;43m\"\u001b[39;49m\u001b[38;5;124;43munits\u001b[39;49m\u001b[38;5;124;43m\"\u001b[39;49m\u001b[43m,\u001b[49m\u001b[43m \u001b[49m\u001b[43morient\u001b[49m\u001b[43m,\u001b[49m\u001b[43m \u001b[49m\u001b[43mother\u001b[49m\u001b[43m]\u001b[49m\n",
      "File \u001b[0;32m~/miniconda3/envs/pism-ragis/lib/python3.11/site-packages/seaborn/_base.py:902\u001b[0m, in \u001b[0;36mVectorPlotter.iter_data\u001b[0;34m(self, grouping_vars, reverse, from_comp_data, by_facet, allow_empty, dropna)\u001b[0m\n\u001b[1;32m    899\u001b[0m grouping_vars \u001b[38;5;241m=\u001b[39m [var \u001b[38;5;28;01mfor\u001b[39;00m var \u001b[38;5;129;01min\u001b[39;00m grouping_vars \u001b[38;5;28;01mif\u001b[39;00m var \u001b[38;5;129;01min\u001b[39;00m \u001b[38;5;28mself\u001b[39m\u001b[38;5;241m.\u001b[39mvariables]\n\u001b[1;32m    901\u001b[0m \u001b[38;5;28;01mif\u001b[39;00m from_comp_data:\n\u001b[0;32m--> 902\u001b[0m     data \u001b[38;5;241m=\u001b[39m \u001b[38;5;28;43mself\u001b[39;49m\u001b[38;5;241;43m.\u001b[39;49m\u001b[43mcomp_data\u001b[49m\n\u001b[1;32m    903\u001b[0m \u001b[38;5;28;01melse\u001b[39;00m:\n\u001b[1;32m    904\u001b[0m     data \u001b[38;5;241m=\u001b[39m \u001b[38;5;28mself\u001b[39m\u001b[38;5;241m.\u001b[39mplot_data\n",
      "File \u001b[0;32m~/miniconda3/envs/pism-ragis/lib/python3.11/site-packages/seaborn/_base.py:1000\u001b[0m, in \u001b[0;36mVectorPlotter.comp_data\u001b[0;34m(self)\u001b[0m\n\u001b[1;32m    995\u001b[0m \u001b[38;5;28;01mif\u001b[39;00m var \u001b[38;5;129;01min\u001b[39;00m \u001b[38;5;28mself\u001b[39m\u001b[38;5;241m.\u001b[39mvar_levels:\n\u001b[1;32m    996\u001b[0m     \u001b[38;5;66;03m# TODO this should happen in some centralized location\u001b[39;00m\n\u001b[1;32m    997\u001b[0m     \u001b[38;5;66;03m# it is similar to GH2419, but more complicated because\u001b[39;00m\n\u001b[1;32m    998\u001b[0m     \u001b[38;5;66;03m# supporting `order` in categorical plots is tricky\u001b[39;00m\n\u001b[1;32m    999\u001b[0m     orig \u001b[38;5;241m=\u001b[39m orig[orig\u001b[38;5;241m.\u001b[39misin(\u001b[38;5;28mself\u001b[39m\u001b[38;5;241m.\u001b[39mvar_levels[var])]\n\u001b[0;32m-> 1000\u001b[0m comp \u001b[38;5;241m=\u001b[39m pd\u001b[38;5;241m.\u001b[39mto_numeric(\u001b[43mconverter\u001b[49m\u001b[38;5;241;43m.\u001b[39;49m\u001b[43mconvert_units\u001b[49m\u001b[43m(\u001b[49m\u001b[43morig\u001b[49m\u001b[43m)\u001b[49m)\u001b[38;5;241m.\u001b[39mastype(\u001b[38;5;28mfloat\u001b[39m)\n\u001b[1;32m   1001\u001b[0m transform \u001b[38;5;241m=\u001b[39m converter\u001b[38;5;241m.\u001b[39mget_transform()\u001b[38;5;241m.\u001b[39mtransform\n\u001b[1;32m   1002\u001b[0m parts\u001b[38;5;241m.\u001b[39mappend(pd\u001b[38;5;241m.\u001b[39mSeries(transform(comp), orig\u001b[38;5;241m.\u001b[39mindex, name\u001b[38;5;241m=\u001b[39morig\u001b[38;5;241m.\u001b[39mname))\n",
      "File \u001b[0;32m~/miniconda3/envs/pism-ragis/lib/python3.11/site-packages/matplotlib/axis.py:1771\u001b[0m, in \u001b[0;36mAxis.convert_units\u001b[0;34m(self, x)\u001b[0m\n\u001b[1;32m   1769\u001b[0m     ret \u001b[38;5;241m=\u001b[39m \u001b[38;5;28mself\u001b[39m\u001b[38;5;241m.\u001b[39mconverter\u001b[38;5;241m.\u001b[39mconvert(x, \u001b[38;5;28mself\u001b[39m\u001b[38;5;241m.\u001b[39munits, \u001b[38;5;28mself\u001b[39m)\n\u001b[1;32m   1770\u001b[0m \u001b[38;5;28;01mexcept\u001b[39;00m \u001b[38;5;167;01mException\u001b[39;00m \u001b[38;5;28;01mas\u001b[39;00m e:\n\u001b[0;32m-> 1771\u001b[0m     \u001b[38;5;28;01mraise\u001b[39;00m munits\u001b[38;5;241m.\u001b[39mConversionError(\u001b[38;5;124m'\u001b[39m\u001b[38;5;124mFailed to convert value(s) to axis \u001b[39m\u001b[38;5;124m'\u001b[39m\n\u001b[1;32m   1772\u001b[0m                                  \u001b[38;5;124mf\u001b[39m\u001b[38;5;124m'\u001b[39m\u001b[38;5;124munits: \u001b[39m\u001b[38;5;132;01m{\u001b[39;00mx\u001b[38;5;132;01m!r}\u001b[39;00m\u001b[38;5;124m'\u001b[39m) \u001b[38;5;28;01mfrom\u001b[39;00m \u001b[38;5;21;01me\u001b[39;00m\n\u001b[1;32m   1773\u001b[0m \u001b[38;5;28;01mreturn\u001b[39;00m ret\n",
      "\u001b[0;31mConversionError\u001b[0m: Failed to convert value(s) to axis units: 0          -124999-01-01 00:00:00\n1          -124999-01-01 00:00:00\n2          -124999-01-01 00:00:00\n3          -124999-01-01 00:00:00\n4          -124999-01-01 00:00:00\n                    ...          \n1555015       0001-01-01 00:00:00\n1555016       0001-01-01 00:00:00\n1555017       0001-01-01 00:00:00\n1555018       0001-01-01 00:00:00\n1555019       0001-01-01 00:00:00\nName: x, Length: 1555020, dtype: object"
     ]
    },
    {
     "data": {
      "image/png": "[encoded data removed]",
      "text/plain": [
       "<Figure size 640x480 with 1 Axes>"
      ]
     },
     "metadata": {},
     "output_type": "display_data"
    }
   ],
   "source": [
    "sns.lineplot(data=scalar_df, x=\"time\", y=plot_var, estimator=None)"
   ]
  },
  {
   "cell_type": "markdown",
   "id": "6321342c-b8e1-434b-88b9-b4d86e3fa807",
   "metadata": {},
   "source": [
    "## Spatial fields"
   ]
  },
  {
   "cell_type": "code",
   "execution_count": null,
   "id": "0c8acda9-a7b0-4c55-b8f9-1501c0cf5fae",
   "metadata": {},
   "outputs": [],
   "source": [
    "spatial_path = data_dir / exp[\"proj_dir\"] / exp[\"spatial_dir\"]\n",
    "spatial_tmp_path = data_dir / exp[\"spatial_tmp_dir\"]\n",
    "spatial_processed_path = data_dir / exp[\"proj_dir\"] / (exp[\"spatial_dir\"] + \"_processed\")\n",
    "spatial_processed_path.mkdir(parents=True, exist_ok=True)\n",
    "spatial_files = sorted(spatial_tmp_path.glob(f\"ex_*{grid_res}m*.nc\"))\n",
    "\n",
    "for spatial_file in tqdm(spatial_files):\n",
    "    if check_paleo_file:\n",
    "        copy_file(spatial_file, spatial_processed_path)\n",
    "spatial_processed_files = sorted(spatial_processed_path.glob(\"ex_*0.nc\"))"
   ]
  },
  {
   "cell_type": "code",
   "execution_count": null,
   "id": "5f23840a-4dc1-4ee8-8694-2bd2f7c45b69",
   "metadata": {},
   "outputs": [],
   "source": [
    "spatial_processed_files = sorted(spatial_processed_path.glob(\"ex_*0.nc\"))"
   ]
  },
  {
   "cell_type": "code",
   "execution_count": null,
   "id": "0e5d54c1-dc4f-4dea-a674-450640212abe",
   "metadata": {},
   "outputs": [],
   "source": [
    "spatial_ds = xr.open_mfdataset(spatial_processed_files, preprocess=preprocess_nc, combine=\"nested\", concat_dim=\"id\", parallel=True)"
   ]
  },
  {
   "cell_type": "code",
   "execution_count": null,
   "id": "43951910-b0b6-4ce5-8b6d-f8066b2c783d",
   "metadata": {},
   "outputs": [],
   "source": [
    "speed_cmap = qgis2cmap(\"/home/andy/base/pypism/tests/data/test_qgis_colorramp.txt\")"
   ]
  },
  {
   "cell_type": "code",
   "execution_count": null,
   "id": "39e9d3be-ad81-4839-ab4e-38ea7768d0d1",
   "metadata": {},
   "outputs": [],
   "source": [
    "crs = ccrs.NorthPolarStereo(central_longitude=-45, true_scale_latitude=70, globe=None)\n",
    "s = spatial_ds.sel(time=cftime.DatetimeNoLeap(-120000, 1, 1), method=\"nearest\")[\"velsurf_mag\"].median(dim=\"id\").load()\n",
    "f = s.plot(vmin=10, vmax=1500,\n",
    "           cmap=speed_cmap,\n",
    "           cbar_kwargs={\"label\": \"Speed (m/yr)\"},\n",
    "           transform=crs,                                                                                                   \n",
    "           subplot_kws={\"projection\": crs})\n",
    "f.axes.coastlines(linewidth=0.25, resolution=\"10m\")\n",
    "f.axes.set_extent([-60, -30, 58, 85])"
   ]
  },
  {
   "cell_type": "code",
   "execution_count": null,
   "id": "14ca616c-6d4e-41fc-b528-9c65786db393",
   "metadata": {},
   "outputs": [],
   "source": [
    "crs = ccrs.NorthPolarStereo(central_longitude=-45, true_scale_latitude=70, globe=None)\n",
    "s = spatial_ds.sel(time=cftime.DatetimeNoLeap(-120000, 1, 1), method=\"nearest\")[\"velsurf_mag\"].load()\n",
    "f = s.plot(vmin=10, vmax=1500,\n",
    "           cmap=speed_cmap,\n",
    "           col=\"id\", col_wrap=4,                                                            \n",
    "           transform=crs,                                                                                                   \n",
    "           subplot_kws={\"projection\": crs})\n",
    "for f_ax in f.axs.flat:\n",
    "    f_ax.coastlines(linewidth=0.25, resolution=\"10m\")\n",
    "    f_ax.set_extent([-60, -30, 58, 85])"
   ]
  },
  {
   "cell_type": "code",
   "execution_count": null,
   "id": "5114a187-743c-45b4-932e-3191b9ca9fee",
   "metadata": {},
   "outputs": [],
   "source": [
    "sorted(spatial_ds.id)"
   ]
  },
  {
   "cell_type": "code",
   "execution_count": null,
   "id": "0dddd6fc-54dc-40e7-86a2-aa7f966f0938",
   "metadata": {},
   "outputs": [],
   "source": [
    "state_path = data_dir / exp[\"proj_dir\"] / exp[\"state_dir\"]\n",
    "state_files = sorted(state_path.glob(f\"*{grid_res}m*.nc\"))\n",
    "\n",
    "snap_path = data_dir / exp[\"proj_dir\"] / exp[\"snap_dir\"]\n",
    "snap_files = sorted(snap_path.glob(f\"*{grid_res}m*.nc\"))\n",
    "snap_processed_path = data_dir / exp[\"proj_dir\"] / \"snap_processed\"\n",
    "snap_processed_files = sorted(sorted(snap_processed_path.glob(\"save*.nc\")))"
   ]
  },
  {
   "cell_type": "code",
   "execution_count": null,
   "id": "94522082-a7ac-407c-89b4-2b304c96ab7f",
   "metadata": {},
   "outputs": [],
   "source": []
  },
  {
   "cell_type": "code",
   "execution_count": null,
   "id": "5912a67a-4564-4597-9df6-27eef0354cc4",
   "metadata": {},
   "outputs": [],
   "source": []
  },
  {
   "cell_type": "code",
   "execution_count": null,
   "id": "acf4e939-4bef-436a-a9c4-4276a22e8e69",
   "metadata": {},
   "outputs": [],
   "source": []
  },
  {
   "cell_type": "code",
   "execution_count": null,
   "id": "78ccfa23-e46f-473b-902d-21e3cf7665ee",
   "metadata": {},
   "outputs": [],
   "source": [
    "spatial_processed_files = sorted(spatial_processed_path.glob(\"ex_*0.nc\"))"
   ]
  },
  {
   "cell_type": "code",
   "execution_count": null,
   "id": "5d0bfc12-fcbe-4fa2-8b80-f0d190e4f0dd",
   "metadata": {
    "tags": []
   },
   "outputs": [],
   "source": [
    "scalar_ds = xr.open_mfdataset(scalar_processed_files, preprocess=preprocess_nc, combine=\"nested\", concat_dim=\"id\", parallel=True).chunk(dict(id=-1))"
   ]
  },
  {
   "cell_type": "code",
   "execution_count": null,
   "id": "4115f156-0ac8-4019-8cc5-147d9cb03e13",
   "metadata": {},
   "outputs": [],
   "source": [
    "snap_ds = xr.open_mfdataset(snap_processed_files, preprocess=preprocess_nc, combine=\"nested\", concat_dim=\"id\", parallel=True).chunk(dict(id=-1))"
   ]
  },
  {
   "cell_type": "code",
   "execution_count": null,
   "id": "eabdd8ef-e3f2-41d0-9f05-c58031d8c2fd",
   "metadata": {},
   "outputs": [],
   "source": [
    "snap_ds"
   ]
  },
  {
   "cell_type": "code",
   "execution_count": null,
   "id": "7e75cdbb-bbd7-4aa6-b0e3-d5d2572a6573",
   "metadata": {},
   "outputs": [],
   "source": []
  },
  {
   "cell_type": "code",
   "execution_count": null,
   "id": "240a445b-77b5-40f8-9192-53f93582e8f9",
   "metadata": {},
   "outputs": [],
   "source": []
  },
  {
   "cell_type": "code",
   "execution_count": null,
   "id": "b08dbedb-6d5d-41d7-b041-0dbcaff463b8",
   "metadata": {},
   "outputs": [],
   "source": [
    "state_ds = xr.open_mfdataset(state_files, preprocess=preprocess_nc, combine=\"nested\", concat_dim=\"id\", parallel=True)"
   ]
  },
  {
   "cell_type": "code",
   "execution_count": null,
   "id": "653d60e7-b9fe-4984-b03e-a98bad1ef8b5",
   "metadata": {},
   "outputs": [],
   "source": [
    "state_ds.isel(time=-1).median(dim=\"id\")[\"velsurf_mag\"].plot(vmax=250)"
   ]
  },
  {
   "cell_type": "code",
   "execution_count": null,
   "id": "b6d87ff8-1567-4a20-bcdf-6fdd6e7b3b99",
   "metadata": {},
   "outputs": [],
   "source": [
    "spatial_ds.sel(time=cftime.DatetimeNoLeap(-120000, 1, 1), method=\"nearest\")[\"velsurf_mag\"]"
   ]
  },
  {
   "cell_type": "code",
   "execution_count": null,
   "id": "42127b13-1764-4002-9825-878eaa2968c7",
   "metadata": {},
   "outputs": [],
   "source": [
    "ds = xr.open_dataset(snap_files[0])\n",
    "m_id_re = re.search(\"id_(.+?)_\", ds.encoding[\"source\"])\n",
    "ds = ds.expand_dims(\"id\").assign_coords({\"id\": (\"time\", [0])})"
   ]
  },
  {
   "cell_type": "code",
   "execution_count": null,
   "id": "d89d2814-a3e9-4482-b3ff-da1647457415",
   "metadata": {},
   "outputs": [],
   "source": [
    "import cftime\n",
    "import nc_time_axis"
   ]
  },
  {
   "cell_type": "code",
   "execution_count": null,
   "id": "4c01651d-fbd5-424f-89bd-99b34c3c2017",
   "metadata": {},
   "outputs": [],
   "source": [
    "state_ds = xr.open_mfdataset(state_files, preprocess=preprocess_nc, combine=\"nested\", concat_dim=\"id\", parallel=True)"
   ]
  },
  {
   "cell_type": "code",
   "execution_count": null,
   "id": "7610db04-9a45-4146-8b42-aa4d8781f193",
   "metadata": {},
   "outputs": [],
   "source": [
    "plot_var = \"sea_level_rise_potential\" \n",
    "\n",
    "fig = plt.figure(figsize=[6.2, 2.4])\n",
    "ax = fig.add_subplot(111)\n",
    "scalar_ds[plot_var].plot.line(x=\"time\", color=\"0.6\", ax=ax, add_legend=False)\n",
    "\n",
    "q_16 = scalar_ds[plot_var].quantile(0.16, dim=\"id\")\n",
    "q_50 = scalar_ds[plot_var].quantile(0.50, dim=\"id\")\n",
    "q_84 = scalar_ds[plot_var].quantile(0.84, dim=\"id\")\n",
    "ax.fill_between(q_50[\"time\"], q_16, q_84, color=\"b\")\n",
    "q_50.plot.line(x=\"time\", color=\"k\", lw=2, ax=ax, label=\"median\", add_legend=False)\n",
    "median_line = mlines.Line2D(\n",
    "    [], [], color=\"k\", linewidth=2, label=\"Median\"\n",
    "    )\n",
    "legend = ax.legend(handles=[median_line], loc=\"lower left\", bbox_to_anchor=(0.3, 0.0))\n",
    "legend.get_frame().set_linewidth(0.0)\n",
    "legend.get_frame().set_alpha(0.0)\n",
    "ax.add_artist(legend)\n",
    "\n",
    "ax.set_ylabel(\"Sea-level rise potential\\n(m SLE)\")\n",
    "ax.set_xlabel(\"Years before present\")\n",
    "fig.tight_layout()\n",
    "fig.savefig(fig_path / f\"{plot_var}_paleo-ensemble-{grid_res}m.pdf\")"
   ]
  },
  {
   "cell_type": "code",
   "execution_count": null,
   "id": "f02cb7c8-69ca-4927-beec-1cff82dd4d98",
   "metadata": {},
   "outputs": [],
   "source": [
    "q_50"
   ]
  },
  {
   "cell_type": "code",
   "execution_count": null,
   "id": "3ac9f71c-7431-439a-8974-7dfa68c5560d",
   "metadata": {},
   "outputs": [],
   "source": [
    "crs = ccrs.NorthPolarStereo(central_longitude=-45, true_scale_latitude=70, globe=None)\n",
    "f = np.log10(snap_ds[\"velsurf_mag\"].median(dim=\"id\")).plot(vmin=0, vmax=3, col=\"time\", col_wrap=6, \n",
    "                                                           transform=ccrs.PlateCarree(),\n",
    "                                                           subplot_kws={\"projection\": crs})\n",
    "for f_ax in f.axs.flat:\n",
    "    f_ax.coastlines(linewidth=0.25, resolution=\"10m\")\n",
    "    f_ax.set_extent([-60, -30, 58, 85])\n",
    "f.fig.savefig(fig_path / \"test.png\", dpi=600)"
   ]
  },
  {
   "cell_type": "code",
   "execution_count": null,
   "id": "1e2279de-13c7-4cae-ac93-a12d5f370cce",
   "metadata": {},
   "outputs": [],
   "source": [
    "for q in [0.05, 0.5, 0.95]:\n",
    "    f = np.log10(snap_ds[\"velsurf_mag\"].quantile(q, dim=\"id\")).plot(vmin=0, vmax=3, col=\"time\", col_wrap=6)\n",
    "    f.fig.savefig(fig_path / f\"ens_pctl_{q}.png\", dpi=600)"
   ]
  },
  {
   "cell_type": "code",
   "execution_count": null,
   "id": "6efba603-8477-4764-b87d-057675a003ac",
   "metadata": {},
   "outputs": [],
   "source": [
    "np.log10(snap_ds[\"velsurf_mag\"].quantile(5, dim=\"id\")).plot(vmin=0, vmax=3, col=\"time\", col_wrap=6)"
   ]
  },
  {
   "cell_type": "code",
   "execution_count": null,
   "id": "4a79c098-b147-45af-94bc-96eecdec19ab",
   "metadata": {},
   "outputs": [],
   "source": [
    "median = dask.delayed(ds[\"isochronal_layer_thicknes\"].median(dim=\"id\"))\n",
    "with ProgressBar():\n",
    "    results = median.compute()"
   ]
  },
  {
   "cell_type": "code",
   "execution_count": null,
   "id": "fc16a67b-5320-452e-bb96-9a87c29692e2",
   "metadata": {},
   "outputs": [],
   "source": [
    "fig = plt.figure(figsize=[12, 12])\n",
    "ax = fig.add_subplot(111)\n",
    "results[0,:,:,10].plot(ax=ax)"
   ]
  },
  {
   "cell_type": "code",
   "execution_count": null,
   "id": "51f7cbcf-0527-4dcb-af92-37d507d180a2",
   "metadata": {},
   "outputs": [],
   "source": [
    "median = dask.delayed(ds[\"velsurf_mag\"].median(dim=\"id\"))\n",
    "with ProgressBar():\n",
    "    results = median.compute()"
   ]
  },
  {
   "cell_type": "code",
   "execution_count": null,
   "id": "e2c853c5-f35e-49e6-9345-01d18d2ae5fe",
   "metadata": {},
   "outputs": [],
   "source": [
    "np.log10(results).plot(vmin=0, vmax=3)"
   ]
  },
  {
   "cell_type": "code",
   "execution_count": null,
   "id": "bd3ee478-37cc-4905-85d8-8900adaf77fa",
   "metadata": {
    "tags": []
   },
   "outputs": [],
   "source": []
  },
  {
   "cell_type": "code",
   "execution_count": null,
   "id": "6e516952-104a-4c0d-befe-c0dd543fc559",
   "metadata": {
    "tags": []
   },
   "outputs": [],
   "source": [
    "    si = \"S1\"\n",
    "    outfile = f\"\"\"test.pdf\"\"\"\n",
    "    fig, ax = plt.subplots(\n",
    "        1,\n",
    "        1,\n",
    "        sharex=\"col\",\n",
    "        figsize=[6.2, 5.8],\n",
    "    )\n",
    "    fig.subplots_adjust(bottom=0.0)\n",
    "    for k, m_var in enumerate([\"sea_level_rise_potential\"]):\n",
    "        m_df = sa_df[sa_df[\"Variable\"] == m_var]\n",
    "        p_df = m_df[m_df[\"Si\"] == si].drop(columns=[\"Si\", \"Variable\"]).set_index(\"Date\")\n",
    "        p_conf_df = m_df[m_df[\"Si\"] == si + \"_conf\"].drop(columns=[\"Si\"])\n",
    "\n",
    "        [\n",
    "            ax.plot(p_df.index, p_df[v], lw=1, label=v)\n",
    "            for v in sa_df.drop(columns=[\"Si\", \"Variable\", \"Date\"]).keys()\n",
    "        ]\n",
    "\n",
    "        # [\n",
    "        #     ax.fill_between(\n",
    "        #         ds.time,\n",
    "        #         p_df[v].values - p_conf_df[v].values,\n",
    "        #         p_df[v].values + p_conf_df[v].values,\n",
    "        #         alpha=0.2,\n",
    "        #         lw=0,\n",
    "        #     )\n",
    "        #     for v in sa_df.drop(columns=[\"Si\", \"Variable\", \"Date\"]).keys()\n",
    "        # ]\n",
    "        lgd = ax.set_title(f\"{si} indices for '{m_var}'\")\n",
    "    legend = ax.legend(loc=\"lower left\", ncols=3, bbox_to_anchor=(0, -0.75))\n",
    "    fig.tight_layout()\n",
    "    fig.savefig(f\"{si}_{outfile}\")\n"
   ]
  },
  {
   "cell_type": "code",
   "execution_count": null,
   "id": "b36b59f4-4105-4074-a353-0e5e48ebd4ad",
   "metadata": {},
   "outputs": [],
   "source": [
    "ds[\"sea_level_rise_potential\"][9, :].values"
   ]
  },
  {
   "cell_type": "code",
   "execution_count": null,
   "id": "1df34255-0bc3-4a30-9945-44c4f806f572",
   "metadata": {},
   "outputs": [],
   "source": [
    "calib_ds = xr.open_dataset(\"../calibration/2023_10_init_ragis_tillwat/state/gris_g600m_v2023_RAGIS_id_BAYES-MEDIAN_0_25_mass_transport_failed.nc\")"
   ]
  },
  {
   "cell_type": "code",
   "execution_count": null,
   "id": "96f26319-7f7a-4e3c-a2de-001b49170763",
   "metadata": {},
   "outputs": [],
   "source": [
    "len(snap_files)"
   ]
  },
  {
   "cell_type": "code",
   "execution_count": null,
   "id": "a281d0ce-223c-489e-967f-47ec3fefb27b",
   "metadata": {},
   "outputs": [],
   "source": []
  },
  {
   "cell_type": "code",
   "execution_count": null,
   "id": "0c8b72b9-ea9c-41a1-8439-a8716d4f5c0e",
   "metadata": {},
   "outputs": [],
   "source": []
  },
  {
   "cell_type": "code",
   "execution_count": null,
   "id": "27109f04-a1b2-44f8-9a8c-9fa135a195b7",
   "metadata": {},
   "outputs": [],
   "source": [
    "cftime.DatetimeNoLeap(-2000, 1, 1)"
   ]
  },
  {
   "cell_type": "code",
   "execution_count": null,
   "id": "a7a48988-990c-4542-a6fe-f605f9bfc98f",
   "metadata": {},
   "outputs": [],
   "source": [
    "rm ens_*.nc"
   ]
  },
  {
   "cell_type": "code",
   "execution_count": null,
   "id": "16d12c30-c475-43fb-a8a4-2937803c6c37",
   "metadata": {},
   "outputs": [],
   "source": [
    "ds = xr.open_dataset(snap_files[0])\n",
    "m_id_re = re.search(\"id_(.+?)_\", ds.encoding[\"source\"])\n",
    "\n",
    "assert m_id_re is not None\n",
    "m_id: Union[str, int]\n",
    "try:\n",
    "    m_id = int(m_id_re.group(1))\n",
    "except:\n",
    "    m_id = str(m_id_re.group(1))\n",
    "ds[\"id\"] = m_id\n",
    "ds = ds.expand_dims(\"id\")\n",
    "if \"nv\" in ds.sizes:\n",
    "    ds = ds.mean(dim=\"nv\")"
   ]
  },
  {
   "cell_type": "code",
   "execution_count": null,
   "id": "c3ec6eb4-8d6f-4c8b-8d11-515673e78fa1",
   "metadata": {},
   "outputs": [],
   "source": [
    "ds"
   ]
  },
  {
   "cell_type": "code",
   "execution_count": null,
   "id": "f0b2e590-51eb-4db4-bc9b-a995dba24e09",
   "metadata": {
    "scrolled": true
   },
   "outputs": [],
   "source": [
    "\n",
    "\n",
    "def preprocess(ds):\n",
    "    ds[\"experiment_id\"] = ds.attrs[\"experiment_id\"]\n",
    "    source_id = ds.attrs[\"source_id\"]\n",
    "    ds = ds.assign_coords({\"source_id\": source_id}).drop_vars(\"height\", errors=\"ignore\")\n",
    "    ds = ds.sel(lat=slice(60, 85), lon=slice(285, 350))\n",
    "    return ds\n",
    "\n",
    "\n",
    "for (m_var, m_exp), m_df in intersection_df.groupby(by=[\"variable_id\", \"experiment_id\"]):\n",
    "    p = m_df[\"filename\"]\n",
    "    ds = xr.open_mfdataset(p, parallel=True, concat_dim=\"source_id\", combine=\"nested\",\n",
    "                           data_vars='minimal', coords='minimal', compat='override', preprocess=preprocess, decode_times=False)\n",
    "    f = ds.sel(source_id=gcm_sel)[m_var].mean(dim=\"time\").plot(figsize=(6.2, 2.4),\n",
    "                                        col=\"source_id\", \n",
    "                                        col_wrap=len(gcm_sel), \n",
    "                                        transform=ccrs.PlateCarree(), \n",
    "                                        cbar_kwargs={\"location\": \"right\", \"orientation\": \"vertical\", \n",
    "                                                     \"fraction\": 0.085, \"shrink\": 0.6, \"label\": ds[m_var].units},\n",
    "                                        subplot_kws={\"projection\": crs})\n",
    "    mean = ds.sel(source_id=gcm_sel)[m_var].mean(dim=[\"time\", \"lat\", \"lon\"]).to_dataframe()\n",
    "    variance = ds[m_var].std(dim=[\"time\", \"source_id\"])\n",
    "    [f.axs.ravel()[source[0]].text(0.5, 0.1, f\"\"\"mean={np.round(source[1][-1].to_numpy()[0])}\"\"\", color=\"w\", horizontalalignment='center',\n",
    "     verticalalignment='center', transform=f.axs.ravel()[source[0]].transAxes) for source in enumerate(mean.iterrows())]\n",
    "    for f_ax in f.axs.flat:\n",
    "        f_ax.coastlines(linewidth=0.25, resolution=\"10m\")\n",
    "        f_ax.set_extent([-60, -30, 58, 85])\n",
    "\n",
    "\n",
    "    f.fig.subplots_adjust(wspace=.1, hspace=.1, right=0.9)\n",
    "    f.fig.savefig(f\"{m_var}_{m_exp}.png\", dpi=600)\n",
    "    fig, ax = plt.subplots(1, 1)\n",
    "    f_var = variance.plot(ax=ax)"
   ]
  },
  {
   "cell_type": "code",
   "execution_count": null,
   "id": "e5ea3685-5ac2-434b-838d-1b86e5ba9538",
   "metadata": {},
   "outputs": [],
   "source": [
    "from matplotlib import animation\n",
    "import cartopy.crs as ccrs\n",
    "crs = ccrs.NorthPolarStereo(central_longitude=-45, true_scale_latitude=70, globe=None)\n",
    "\n",
    "m_ds = spatial_ds.median(dim=\"id\")\n",
    "t_ds = m_ds.isel(time=0)\n",
    "im = t_ds[\"usurf\"].where(t_ds[\"thk\"]>0).plot(vmin=0, vmax=3000,\n",
    "                             transform=crs, \n",
    "                             cbar_kwargs={\"location\": \"right\", \"orientation\": \"vertical\", \n",
    "                                          \"fraction\": 0.085, \"shrink\": 0.6, \"label\": \"m\"},\n",
    "                             subplot_kws={\"projection\": crs})\n",
    "\n",
    "im.axes.coastlines(linewidth=0.25, resolution=\"10m\")\n",
    "im.axes.set_extent([-60, -30, 58, 85])\n",
    "im.axes.set_title(f\"\"\"time = {spatial_ds[\"time\"].values[0].isoformat()}\"\"\")"
   ]
  },
  {
   "cell_type": "code",
   "execution_count": null,
   "id": "0b6e4258-a320-4f90-b69b-197cbd5e4dcc",
   "metadata": {},
   "outputs": [],
   "source": [
    "def animate(i):\n",
    "    t_ds = m_ds.isel(time=i)\n",
    "    array = t_ds[\"usurf\"].where(t_ds[\"thk\"]>0).values\n",
    "    im.set_array(array.flatten())\n",
    "    im.axes.set_title(f\"\"\"time = {spatial_ds[\"time\"].values[i].isoformat()}\"\"\")\n",
    "    "
   ]
  },
  {
   "cell_type": "code",
   "execution_count": null,
   "id": "bfa0484d-a31f-47e8-a84c-31b5e30d1266",
   "metadata": {},
   "outputs": [],
   "source": [
    "del ani\n",
    "# ani = animation.FuncAnimation(fig, animate, len(spatial_ds[\"time\"]), interval=150)\n",
    "ani = animation.FuncAnimation(im.figure, animate, 500, interval=150)"
   ]
  },
  {
   "cell_type": "code",
   "execution_count": null,
   "id": "1001c217-3375-457b-99c9-4b9d51187867",
   "metadata": {},
   "outputs": [],
   "source": [
    "ani.save(\"median.gif\")"
   ]
  },
  {
   "cell_type": "code",
   "execution_count": null,
   "id": "a135e3ae-1cc0-4d9e-a87b-52b5c5b30ed2",
   "metadata": {},
   "outputs": [],
   "source": [
    "from IPython.display import HTML\n",
    "HTML(ani.to_jshtml())"
   ]
  },
  {
   "cell_type": "code",
   "execution_count": null,
   "id": "75a27d89-0e7a-418b-a04f-018cfe8cedab",
   "metadata": {},
   "outputs": [],
   "source": [
    "t = spatial_ds[\"time\"].values[0]"
   ]
  },
  {
   "cell_type": "code",
   "execution_count": null,
   "id": "992c2853-8bef-42a7-b708-72745ab204a7",
   "metadata": {},
   "outputs": [],
   "source": []
  },
  {
   "cell_type": "code",
   "execution_count": null,
   "id": "bbf9a5be-101a-446f-8c02-1460d2551d0c",
   "metadata": {},
   "outputs": [],
   "source": [
    "im.axes.sett"
   ]
  },
  {
   "cell_type": "code",
   "execution_count": null,
   "id": "8a622b7e-49ef-4b49-b722-6ffde8884266",
   "metadata": {},
   "outputs": [],
   "source": [
    "usurf"
   ]
  },
  {
   "cell_type": "code",
   "execution_count": null,
   "id": "d01f86de-cd3d-4493-87fe-b33d1534e498",
   "metadata": {},
   "outputs": [],
   "source": [
    "ds_0 = xr.open_dataset(\"/data/work/gris-paleo/data/2023_11_climate_calving_w_posterior/scalar/ts_gris_ext_g9000m_v2023_GRIMP_id_0_-125001_0.nc\")\n",
    "ds_1 = xr.open_dataset(\"/data/work/gris-paleo/data/2024_01_climate_float_kill/scalar/ts_gris_ext_g9000m_v2023_GRIMP_id_0_-125001_0.nc\")"
   ]
  },
  {
   "cell_type": "code",
   "execution_count": null,
   "id": "039887ce-8bdd-4779-96fe-259664fefc55",
   "metadata": {},
   "outputs": [],
   "source": [
    "fig, ax = plt.subplots(1, 1, figsize=(12, 3))\n",
    "ax.set_ylim(0, 0.02)\n",
    "ds_0.sel(time=slice(cftime.DatetimeNoLeap(-125000, 1, 1), cftime.DatetimeNoLeap(-100000, 1, 1)))[\"dt\"].plot(ax=ax, lw=0.5)\n",
    "ds_1.sel(time=slice(cftime.DatetimeNoLeap(-125000, 1, 1), cftime.DatetimeNoLeap(-100000, 1, 1)))[\"dt\"].plot(ax=ax, lw=0.5)\n",
    "ds_0.sel(time=slice(cftime.DatetimeNoLeap(-125000, 1, 1), cftime.DatetimeNoLeap(-100000, 1, 1)))[\"dt\"].rolling(time=100).mean().plot(ax=ax, lw=2)\n",
    "ds_1.sel(time=slice(cftime.DatetimeNoLeap(-125000, 1, 1), cftime.DatetimeNoLeap(-100000, 1, 1)))[\"dt\"].rolling(time=100).mean().plot(ax=ax, lw=2)"
   ]
  },
  {
   "cell_type": "code",
   "execution_count": null,
   "id": "7cde3747-4d1d-4f2c-85f6-76799c33fc84",
   "metadata": {},
   "outputs": [],
   "source": [
    "1e19-1.e16"
   ]
  },
  {
   "cell_type": "code",
   "execution_count": null,
   "id": "ee69111b-c9ac-4e77-91e8-91dcd04d298e",
   "metadata": {},
   "outputs": [],
   "source": [
    "crs = ccrs.NorthPolarStereo(central_longitude=-45, true_scale_latitude=70, globe=None)"
   ]
  },
  {
   "cell_type": "code",
   "execution_count": null,
   "id": "3f12ba0c-3f6c-4080-8f8f-03d1346af832",
   "metadata": {},
   "outputs": [],
   "source": [
    "10,198,227,249,255,10\n",
    "100,87,200,255,255,100\n",
    "250,0,42,255,255,250\n",
    "750,197,27,158,255,750\n",
    "1500,169,19,24,255,1500\n"
   ]
  },
  {
   "cell_type": "code",
   "execution_count": null,
   "id": "e82d70a7-1560-448f-ab7e-effeff63566f",
   "metadata": {},
   "outputs": [],
   "source": [
    "x = np.arange(5)\n",
    "y = np.array([10., 100., 250., 750., 1500.])\n",
    "y /= np.max(y)"
   ]
  },
  {
   "cell_type": "code",
   "execution_count": null,
   "id": "f2e39811-9c3c-45a9-9712-e3def3e35d50",
   "metadata": {},
   "outputs": [],
   "source": []
  },
  {
   "cell_type": "code",
   "execution_count": null,
   "id": "4469576b-37ae-4c93-81eb-22baa1d0264e",
   "metadata": {},
   "outputs": [],
   "source": [
    "c = np.polyfit(x, y, 3)"
   ]
  },
  {
   "cell_type": "code",
   "execution_count": null,
   "id": "e598345a-9164-42ff-9511-e3c737e9ea02",
   "metadata": {},
   "outputs": [],
   "source": [
    "from matplotlib import colors\n",
    "\n",
    "def _forward(x):\n",
    "    return 1 / (c[0] + c[1] * x + c[2] * x**2 + c[3] * x**3)\n",
    "\n",
    "\n",
    "def _inverse(x):\n",
    "    return c[0] + c[1] * x + c[2] * x**2 + c[3] * x**3\n",
    "\n",
    "N = 100\n",
    "X, Y = np.mgrid[0:3:complex(0, N), 0:2:complex(0, N)]\n",
    "Z1 = (1 + np.sin(Y * 10.)) * X**2\n",
    "fig, ax = plt.subplots()\n",
    "\n",
    "norm = colors.FuncNorm((_forward, _inverse), vmin=0, vmax=1500)\n",
    "pcm = ax.pcolormesh(X, Y, Z1, norm=norm, cmap='PuBu_r', shading='auto')\n",
    "ax.set_title('FuncNorm(x)')\n",
    "fig.colorbar(pcm, shrink=0.6)\n",
    "plt.show()\n"
   ]
  },
  {
   "cell_type": "code",
   "execution_count": null,
   "id": "cfcb68ec-d3c7-4a6c-9981-a28f500fe30d",
   "metadata": {},
   "outputs": [],
   "source": [
    "c"
   ]
  },
  {
   "cell_type": "code",
   "execution_count": null,
   "id": "97601691-0f4c-471e-8f34-8f6250c1bb50",
   "metadata": {},
   "outputs": [],
   "source": [
    "xr.open_dataset(scalar_processed_files[1])"
   ]
  },
  {
   "cell_type": "code",
   "execution_count": null,
   "id": "110384e2-2381-406f-9b7c-1f10cbf7ad58",
   "metadata": {},
   "outputs": [],
   "source": []
  }
 ],
 "metadata": {
  "kernelspec": {
   "display_name": "Python 3 (ipykernel)",
   "language": "python",
   "name": "python3"
  },
  "language_info": {
   "codemirror_mode": {
    "name": "ipython",
    "version": 3
   },
   "file_extension": ".py",
   "mimetype": "text/x-python",
   "name": "python",
   "nbconvert_exporter": "python",
   "pygments_lexer": "ipython3",
   "version": "3.11.6"
  }
 },
 "nbformat": 4,
 "nbformat_minor": 5
}
